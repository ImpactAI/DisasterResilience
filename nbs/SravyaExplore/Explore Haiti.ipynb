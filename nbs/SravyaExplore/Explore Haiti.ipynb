{
 "cells": [
  {
   "cell_type": "markdown",
   "metadata": {},
   "source": [
    "# Read the rasters and get their transforms"
   ]
  },
  {
   "cell_type": "code",
   "execution_count": 48,
   "metadata": {
    "collapsed": true
   },
   "outputs": [],
   "source": [
    "import os\n",
    "import glob\n",
    "from osgeo import gdal\n",
    "from osgeo import ogr"
   ]
  },
  {
   "cell_type": "code",
   "execution_count": 57,
   "metadata": {
    "collapsed": true
   },
   "outputs": [],
   "source": [
    "def GetRasterExtent(gtif):\n",
    "    geoTransform = gtif.GetGeoTransform()\n",
    "    minx = geoTransform[0]\n",
    "    maxy = geoTransform[3]\n",
    "    maxx = minx + geoTransform[1] * gtif.RasterXSize\n",
    "    miny = maxy + geoTransform[5] * gtif.RasterYSize\n",
    "    return minx, miny, maxx, maxy\n",
    "#Ref: https://gis.stackexchange.com/questions/104362/how-to-get-extent-out-of-geotiff"
   ]
  },
  {
   "cell_type": "code",
   "execution_count": 58,
   "metadata": {
    "collapsed": true
   },
   "outputs": [],
   "source": [
    "def GetRasterStats(path):\n",
    "    listing = glob.glob(path + '*TIF')\n",
    "    tifFiles = []\n",
    "    for filename in listing:\n",
    "        tifFiles.append(filename)\n",
    "    extents = []\n",
    "    rasterCounts = []\n",
    "    sizes = []\n",
    "    for file in tifFiles:\n",
    "        gtif = gdal.Open(file)\n",
    "        extents.append(GetRasterExtent(gtif))\n",
    "        rasterCounts.append(gtif.RasterCount)\n",
    "        sizes.append((gtif.RasterXSize, gtif.RasterYSize))\n",
    "    return tifFiles, extents, rasterCounts, sizes"
   ]
  },
  {
   "cell_type": "code",
   "execution_count": 69,
   "metadata": {
    "collapsed": false
   },
   "outputs": [],
   "source": [
    "EO1RasterPath='/home/sravya/data/satellite/haiti/raster/EO1/'\n",
    "tifFiles, EO1extents, rasterCounts, sizes = GetRasterStats(EO1RasterPath)"
   ]
  },
  {
   "cell_type": "code",
   "execution_count": 60,
   "metadata": {
    "collapsed": false
   },
   "outputs": [
    {
     "data": {
      "text/plain": [
       "['/home/sravya/data/satellite/haiti/raster/EO1/EO1A0090472010015110P0_B04_L1T.TIF',\n",
       " '/home/sravya/data/satellite/haiti/raster/EO1/EO1A0090472010015110P0_B10_L1T.TIF',\n",
       " '/home/sravya/data/satellite/haiti/raster/EO1/EO1A0090472010015110P0_B02_L1T.TIF',\n",
       " '/home/sravya/data/satellite/haiti/raster/EO1/EO1A0090472010015110P0_B07_L1T.TIF',\n",
       " '/home/sravya/data/satellite/haiti/raster/EO1/EO1A0090472010015110P0_B09_L1T.TIF',\n",
       " '/home/sravya/data/satellite/haiti/raster/EO1/EO1A0090472010015110P0_B05_L1T.TIF',\n",
       " '/home/sravya/data/satellite/haiti/raster/EO1/EO1A0090472010015110P0_B03_L1T.TIF',\n",
       " '/home/sravya/data/satellite/haiti/raster/EO1/EO1A0090472010015110P0_B08_L1T.TIF',\n",
       " '/home/sravya/data/satellite/haiti/raster/EO1/EO1A0090472010015110P0_B01_L1T.TIF',\n",
       " '/home/sravya/data/satellite/haiti/raster/EO1/EO1A0090472010015110P0_B06_L1T.TIF']"
      ]
     },
     "execution_count": 60,
     "metadata": {},
     "output_type": "execute_result"
    }
   ],
   "source": [
    "tifFiles"
   ]
  },
  {
   "cell_type": "code",
   "execution_count": 70,
   "metadata": {
    "collapsed": false
   },
   "outputs": [
    {
     "data": {
      "text/plain": [
       "[(751785.0, 1972785.0, 812715.0, 2111415.0),\n",
       " (751785.0, 1972785.0, 812715.0, 2111415.0),\n",
       " (751785.0, 1972785.0, 812715.0, 2111415.0),\n",
       " (751785.0, 1972785.0, 812715.0, 2111415.0),\n",
       " (751785.0, 1972785.0, 812715.0, 2111415.0),\n",
       " (751785.0, 1972785.0, 812715.0, 2111415.0),\n",
       " (751785.0, 1972785.0, 812715.0, 2111415.0),\n",
       " (751785.0, 1972785.0, 812715.0, 2111415.0),\n",
       " (751795.0, 1972795.0, 812705.0, 2111405.0),\n",
       " (751785.0, 1972785.0, 812715.0, 2111415.0)]"
      ]
     },
     "execution_count": 70,
     "metadata": {},
     "output_type": "execute_result"
    }
   ],
   "source": [
    "EO1extents"
   ]
  },
  {
   "cell_type": "code",
   "execution_count": 62,
   "metadata": {
    "collapsed": false
   },
   "outputs": [
    {
     "data": {
      "text/plain": [
       "[1, 1, 1, 1, 1, 1, 1, 1, 1, 1]"
      ]
     },
     "execution_count": 62,
     "metadata": {},
     "output_type": "execute_result"
    }
   ],
   "source": [
    "rasterCounts"
   ]
  },
  {
   "cell_type": "code",
   "execution_count": 63,
   "metadata": {
    "collapsed": false
   },
   "outputs": [
    {
     "data": {
      "text/plain": [
       "[(2031, 4621),\n",
       " (2031, 4621),\n",
       " (2031, 4621),\n",
       " (2031, 4621),\n",
       " (2031, 4621),\n",
       " (2031, 4621),\n",
       " (2031, 4621),\n",
       " (2031, 4621),\n",
       " (6091, 13861),\n",
       " (2031, 4621)]"
      ]
     },
     "execution_count": 63,
     "metadata": {},
     "output_type": "execute_result"
    }
   ],
   "source": [
    "sizes"
   ]
  },
  {
   "cell_type": "code",
   "execution_count": 71,
   "metadata": {
    "collapsed": true
   },
   "outputs": [],
   "source": [
    "LandSatRasterPath='/home/sravya/data/satellite/haiti/raster/LANDSAT_ETM+_USGS/'\n",
    "tifFiles, LANDextents, rasterCounts, sizes = GetRasterStats(LandSatRasterPath)"
   ]
  },
  {
   "cell_type": "code",
   "execution_count": 65,
   "metadata": {
    "collapsed": false
   },
   "outputs": [
    {
     "data": {
      "text/plain": [
       "['/home/sravya/data/satellite/haiti/raster/LANDSAT_ETM+_USGS/LS070080472010011400000000MS00_B01.TIF',\n",
       " '/home/sravya/data/satellite/haiti/raster/LANDSAT_ETM+_USGS/LS070080472010011400000000MS00_B62.TIF',\n",
       " '/home/sravya/data/satellite/haiti/raster/LANDSAT_ETM+_USGS/LS070080472010011400000000MS00_B61.TIF',\n",
       " '/home/sravya/data/satellite/haiti/raster/LANDSAT_ETM+_USGS/LS070080472010011400000000MS00_B02.TIF',\n",
       " '/home/sravya/data/satellite/haiti/raster/LANDSAT_ETM+_USGS/LS070080472010011400000000MS00_B08.TIF',\n",
       " '/home/sravya/data/satellite/haiti/raster/LANDSAT_ETM+_USGS/LS070080472010011400000000MS00_B05.TIF',\n",
       " '/home/sravya/data/satellite/haiti/raster/LANDSAT_ETM+_USGS/LS070080472010011400000000MS00_B04.TIF',\n",
       " '/home/sravya/data/satellite/haiti/raster/LANDSAT_ETM+_USGS/LS070080472010011400000000MS00_B07.TIF',\n",
       " '/home/sravya/data/satellite/haiti/raster/LANDSAT_ETM+_USGS/LS070080472010011400000000MS00_B03.TIF']"
      ]
     },
     "execution_count": 65,
     "metadata": {},
     "output_type": "execute_result"
    }
   ],
   "source": [
    "tifFiles"
   ]
  },
  {
   "cell_type": "code",
   "execution_count": 72,
   "metadata": {
    "collapsed": false
   },
   "outputs": [
    {
     "data": {
      "text/plain": [
       "[(131984.99999999997, 1972185.0, 382215.0, 2185815.0),\n",
       " (131969.99999999997, 1972170.0, 382230.0, 2185830.0),\n",
       " (131969.99999999997, 1972170.0, 382230.0, 2185830.0),\n",
       " (131984.99999999997, 1972185.0, 382215.0, 2185815.0),\n",
       " (131992.49999999997, 1972192.5, 382207.5, 2185807.5),\n",
       " (131984.99999999997, 1972185.0, 382215.0, 2185815.0),\n",
       " (131984.99999999997, 1972185.0, 382215.0, 2185815.0),\n",
       " (131984.99999999997, 1972185.0, 382215.0, 2185815.0),\n",
       " (131984.99999999997, 1972185.0, 382215.0, 2185815.0)]"
      ]
     },
     "execution_count": 72,
     "metadata": {},
     "output_type": "execute_result"
    }
   ],
   "source": [
    "LANDextents"
   ]
  },
  {
   "cell_type": "code",
   "execution_count": 44,
   "metadata": {
    "collapsed": false
   },
   "outputs": [
    {
     "data": {
      "text/plain": [
       "[1, 1, 1, 1, 1, 1, 1, 1, 1]"
      ]
     },
     "execution_count": 44,
     "metadata": {},
     "output_type": "execute_result"
    }
   ],
   "source": [
    "rasterCounts"
   ]
  },
  {
   "cell_type": "code",
   "execution_count": 45,
   "metadata": {
    "collapsed": false
   },
   "outputs": [
    {
     "data": {
      "text/plain": [
       "[(8341, 7121),\n",
       " (4171, 3561),\n",
       " (4171, 3561),\n",
       " (8341, 7121),\n",
       " (16681, 14241),\n",
       " (8341, 7121),\n",
       " (8341, 7121),\n",
       " (8341, 7121),\n",
       " (8341, 7121)]"
      ]
     },
     "execution_count": 45,
     "metadata": {},
     "output_type": "execute_result"
    }
   ],
   "source": [
    "sizes"
   ]
  },
  {
   "cell_type": "markdown",
   "metadata": {},
   "source": [
    "# Key insights\n",
    "1. Seems like all tiffs in a bundle are overlapping -> same geatransform and extent\n",
    "2. They are all monochromatic -> single band\n",
    "3. Landsat ones are bigger in terms of pixels.\n",
    "4. EO1 extent=(751785.0, 1972785.0, 812715.0, 2111415.0)\n",
    "5. LandSat extent=(131984.99999999997, 1972185.0, 382215.0, 2185815.0) "
   ]
  },
  {
   "cell_type": "markdown",
   "metadata": {},
   "source": [
    "# Shape files"
   ]
  },
  {
   "cell_type": "code",
   "execution_count": 50,
   "metadata": {
    "collapsed": false
   },
   "outputs": [
    {
     "name": "stdout",
     "output_type": "stream",
     "text": [
      "Opened <osgeo.ogr.DataSource; proxy of <Swig Object of type 'OGRDataSourceShadow *' at 0x7fea84eb9420> >\n",
      "Number of features : 294170\n"
     ]
    }
   ],
   "source": [
    "import os\n",
    "shapefile = '/home/sravya/data/satellite/haiti/shapefile/'\n",
    "driver = ogr.GetDriverByName('ESRI Shapefile')\n",
    "shp_ds = driver.Open(shapefile, 0) # 0 means read-only. 1 means writeable.\n",
    "\n",
    "# Check to see if shapefile is found.\n",
    "if shp_ds is None:\n",
    "    print(\"Could not open %s\" % (shp_ds))\n",
    "else:\n",
    "    print('Opened %s' % (shp_ds))\n",
    "    layer = shp_ds.GetLayer()\n",
    "    featureCount = layer.GetFeatureCount()\n",
    "    print(\"Number of features : %d\" % (featureCount))"
   ]
  },
  {
   "cell_type": "code",
   "execution_count": 51,
   "metadata": {
    "collapsed": false
   },
   "outputs": [
    {
     "data": {
      "text/plain": [
       "('PDNA_HTI_2010_Atlas_of_Building_Damage_Assessment_UNOSAT_JRC_WB_v2',\n",
       " (724423.8898999998, 814769.2341999998, 2015975.4824, 2119997.0555000007))"
      ]
     },
     "execution_count": 51,
     "metadata": {},
     "output_type": "execute_result"
    }
   ],
   "source": [
    "layer.GetDescription(), layer.GetExtent()"
   ]
  },
  {
   "cell_type": "code",
   "execution_count": 53,
   "metadata": {
    "collapsed": false
   },
   "outputs": [
    {
     "data": {
      "text/plain": [
       "'{\"type\": \"Feature\", \"geometry\": {\"type\": \"Point\", \"coordinates\": [780457.6909999996, 2053277.8935]}, \"properties\": {\"OBJECTID\": 1, \"SensorDate\": \"2010/01/21\", \"ID_Com\": 111, \"NOM_SECTIO\": \"6\\\\u00e8me Turgeau\", \"Id_dep\": 1, \"id_Section\": \"111-01\", \"Departemen\": \"OUEST\", \"Commune\": \"PORT-AU-PRINCE\", \"No_section\": 6, \"Section_\": \"TURGEAU\", \"Population\": 14760, \"Site_ID\": \"Building (General)\", \"Damage_ID\": \"GRADE 4 Very Heavy Damage\", \"Sensor_ID\": \"Aerial Photography (Google)\", \"Analysis\": \"UNITAR/UNOSAT\", \"Validation\": \"Not yet field validated\", \"Landcover\": \"High Density Built-Up Zone\"}, \"id\": 0}'"
      ]
     },
     "execution_count": 53,
     "metadata": {},
     "output_type": "execute_result"
    }
   ],
   "source": [
    "feat0=layer.GetFeature(0)\n",
    "feat0.ExportToJson()"
   ]
  },
  {
   "cell_type": "code",
   "execution_count": 54,
   "metadata": {
    "collapsed": true
   },
   "outputs": [],
   "source": [
    "damage_ids=[]\n",
    "for feature in layer:\n",
    "    damage_ids.append(feature.GetField(\"Damage_ID\"))"
   ]
  },
  {
   "cell_type": "code",
   "execution_count": 55,
   "metadata": {
    "collapsed": false
   },
   "outputs": [
    {
     "data": {
      "text/plain": [
       "Counter({'GRADE 1 No Visible Damage': 222253,\n",
       "         'GRADE 3 Substanial to Heavy Damage': 15737,\n",
       "         'GRADE 4 Very Heavy Damage': 24677,\n",
       "         'GRADE 5 Destruction': 31489,\n",
       "         'Possible Damage': 14})"
      ]
     },
     "execution_count": 55,
     "metadata": {},
     "output_type": "execute_result"
    }
   ],
   "source": [
    "from collections import Counter\n",
    "Counter(damage_ids)"
   ]
  },
  {
   "cell_type": "code",
   "execution_count": 56,
   "metadata": {
    "collapsed": false
   },
   "outputs": [
    {
     "data": {
      "text/plain": [
       "(780457.6909999996, 2053277.8935000002)"
      ]
     },
     "execution_count": 56,
     "metadata": {},
     "output_type": "execute_result"
    }
   ],
   "source": [
    "geom=feat0.GetGeometryRef()\n",
    "geom.GetX(), geom.GetY()"
   ]
  },
  {
   "cell_type": "code",
   "execution_count": 67,
   "metadata": {
    "collapsed": false
   },
   "outputs": [
    {
     "data": {
      "text/plain": [
       "Counter({'POINT': 294170})"
      ]
     },
     "execution_count": 67,
     "metadata": {},
     "output_type": "execute_result"
    }
   ],
   "source": [
    "geom_names=[]\n",
    "for i in range(0,layer.GetFeatureCount()):\n",
    "    feat = layer.GetFeature(i)\n",
    "    geom = feat.GetGeometryRef()\n",
    "    geom_names.append(geom.GetGeometryName())\n",
    "Counter(geom_names)"
   ]
  },
  {
   "cell_type": "code",
   "execution_count": 73,
   "metadata": {
    "collapsed": true
   },
   "outputs": [],
   "source": [
    "#xy[0]=xmin\n",
    "#xy[1]=ymin\n",
    "                #xy[2]=xmax\n",
    "                #xy[3]=ymax\n",
    "def setSpatialFilter(layer, xy):\n",
    "    wkt = \"POLYGON (({} {},{} {},{} {},{} {}))\".format(xy[0],xy[1],xy[2],xy[1],xy[2],xy[3],xy[0],xy[3])\n",
    "    print(wkt)\n",
    "    layer.SetSpatialFilter(ogr.CreateGeometryFromWkt(wkt))"
   ]
  },
  {
   "cell_type": "code",
   "execution_count": 82,
   "metadata": {
    "collapsed": false
   },
   "outputs": [
    {
     "name": "stdout",
     "output_type": "stream",
     "text": [
      "POLYGON ((751785.0 1972785.0,812715.0 1972785.0,812715.0 2111415.0,751785.0 2111415.0))\n"
     ]
    }
   ],
   "source": [
    "setSpatialFilter(layer, EO1extents[0])"
   ]
  },
  {
   "cell_type": "code",
   "execution_count": 83,
   "metadata": {
    "collapsed": false
   },
   "outputs": [
    {
     "data": {
      "text/plain": [
       "278619"
      ]
     },
     "execution_count": 83,
     "metadata": {},
     "output_type": "execute_result"
    }
   ],
   "source": [
    "layer.GetFeatureCount()"
   ]
  },
  {
   "cell_type": "code",
   "execution_count": 84,
   "metadata": {
    "collapsed": false
   },
   "outputs": [
    {
     "name": "stdout",
     "output_type": "stream",
     "text": [
      "POLYGON ((131984.99999999997 1972185.0,382215.0 1972185.0,382215.0 2185815.0,131984.99999999997 2185815.0))\n"
     ]
    }
   ],
   "source": [
    "layer.ResetReading()\n",
    "setSpatialFilter(layer, LANDextents[0])"
   ]
  },
  {
   "cell_type": "code",
   "execution_count": 85,
   "metadata": {
    "collapsed": false
   },
   "outputs": [
    {
     "data": {
      "text/plain": [
       "0"
      ]
     },
     "execution_count": 85,
     "metadata": {},
     "output_type": "execute_result"
    }
   ],
   "source": [
    "layer.GetFeatureCount()"
   ]
  },
  {
   "cell_type": "markdown",
   "metadata": {},
   "source": [
    "# Key insights\n",
    "1. Labels are points not polygons\n",
    "2. We have 294170 labels in total\n",
    "3. Overlap between EO1 raster is 278619\n",
    "4. Overlap between LandSat raster is 0"
   ]
  },
  {
   "cell_type": "markdown",
   "metadata": {},
   "source": [
    "# TODO: Visualize points over EO1 tiff"
   ]
  },
  {
   "cell_type": "code",
   "execution_count": null,
   "metadata": {
    "collapsed": true
   },
   "outputs": [],
   "source": []
  }
 ],
 "metadata": {
  "kernelspec": {
   "display_name": "Python 3",
   "language": "python",
   "name": "python3"
  },
  "language_info": {
   "codemirror_mode": {
    "name": "ipython",
    "version": 3
   },
   "file_extension": ".py",
   "mimetype": "text/x-python",
   "name": "python",
   "nbconvert_exporter": "python",
   "pygments_lexer": "ipython3",
   "version": "3.6.0"
  }
 },
 "nbformat": 4,
 "nbformat_minor": 2
}
