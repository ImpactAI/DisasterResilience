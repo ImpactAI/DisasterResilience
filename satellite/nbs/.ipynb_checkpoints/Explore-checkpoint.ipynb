{
 "cells": [
  {
   "cell_type": "markdown",
   "metadata": {},
   "source": [
    "# Use gdal with NITF file"
   ]
  },
  {
   "cell_type": "code",
   "execution_count": 1,
   "metadata": {
    "collapsed": true
   },
   "outputs": [],
   "source": [
    "filepath = '/home/sravya/data/satellite/nepal/usgs/worldview/29APR15WV010500015APR29062253-P1BS-500308331010_01_P059.ntf'"
   ]
  },
  {
   "cell_type": "code",
   "execution_count": 2,
   "metadata": {
    "collapsed": true
   },
   "outputs": [],
   "source": [
    "from osgeo import gdal"
   ]
  },
  {
   "cell_type": "code",
   "execution_count": 3,
   "metadata": {
    "collapsed": false
   },
   "outputs": [],
   "source": [
    "gdal_dataset = gdal.Open(filepath)"
   ]
  },
  {
   "cell_type": "code",
   "execution_count": 4,
   "metadata": {
    "collapsed": false
   },
   "outputs": [
    {
     "data": {
      "text/plain": [
       "{'NITF_ABPP': '11',\n",
       " 'NITF_CCS_COLUMN': '0',\n",
       " 'NITF_CCS_ROW': '0',\n",
       " 'NITF_CLEVEL': '06',\n",
       " 'NITF_CSDIDA_DAY': '29',\n",
       " 'NITF_CSDIDA_MONTH': 'APR',\n",
       " 'NITF_CSDIDA_OPERATION': '000',\n",
       " 'NITF_CSDIDA_PASS': '05',\n",
       " 'NITF_CSDIDA_PLATFORM_CODE': 'WV',\n",
       " 'NITF_CSDIDA_PROCESS_TIME': '20150429071716',\n",
       " 'NITF_CSDIDA_PRODUCT_ID': 'P1',\n",
       " 'NITF_CSDIDA_RESERVED_0': '0000',\n",
       " 'NITF_CSDIDA_RESERVED_1': '00',\n",
       " 'NITF_CSDIDA_RESERVED_2': '01',\n",
       " 'NITF_CSDIDA_RESERVED_3': 'N',\n",
       " 'NITF_CSDIDA_RESERVED_4': 'N',\n",
       " 'NITF_CSDIDA_SENSOR_ID': 'AA',\n",
       " 'NITF_CSDIDA_SOFTWARE_VERSION_NUMBER': '4.45.4',\n",
       " 'NITF_CSDIDA_TIME': '20150429062253',\n",
       " 'NITF_CSDIDA_VEHICLE_ID': '01',\n",
       " 'NITF_CSDIDA_YEAR': '2015',\n",
       " 'NITF_CSEXRA_ALONG_SCAN_GSD': '044.8',\n",
       " 'NITF_CSEXRA_ANGLE_TO_NORTH': '270.000',\n",
       " 'NITF_CSEXRA_AZ_OF_OBLIQUITY': '002.227',\n",
       " 'NITF_CSEXRA_A_S_VERT_GSD': 'N/A',\n",
       " 'NITF_CSEXRA_CIRCL_ERR': '016',\n",
       " 'NITF_CSEXRA_CROSS_SCAN_GSD': '029.1',\n",
       " 'NITF_CSEXRA_C_S_VERT_GSD': 'N/A',\n",
       " 'NITF_CSEXRA_DYNAMIC_RANGE': '01712',\n",
       " 'NITF_CSEXRA_GEO_MEAN_GSD': '036.1',\n",
       " 'NITF_CSEXRA_GEO_MEAN_VERT_GSD': 'N/A',\n",
       " 'NITF_CSEXRA_GRD_COVER': '9',\n",
       " 'NITF_CSEXRA_GSD_BETA_ANGLE': '088.8',\n",
       " 'NITF_CSEXRA_LINEAR_ERR': '016',\n",
       " 'NITF_CSEXRA_MAX_GSD': '037.3',\n",
       " 'NITF_CSEXRA_NUM_LINES': '0014336',\n",
       " 'NITF_CSEXRA_NUM_SAMPLES': '35840',\n",
       " 'NITF_CSEXRA_OBLIQUITY_ANGLE': '45.198',\n",
       " 'NITF_CSEXRA_PREDICTED_NIIRS': '4.1',\n",
       " 'NITF_CSEXRA_SENSOR': 'PAN',\n",
       " 'NITF_CSEXRA_SNOW_DEPTH_CAT': '9',\n",
       " 'NITF_CSEXRA_SUN_AZIMUTH': '181.724',\n",
       " 'NITF_CSEXRA_SUN_ELEVATION': '+76.330',\n",
       " 'NITF_CSEXRA_TIME_FIRST_LINE_IMAGE': '22973.578979',\n",
       " 'NITF_CSEXRA_TIME_IMAGE_DURATION': '00000.570333',\n",
       " 'NITF_ENCRYP': '0',\n",
       " 'NITF_FBKGC': '126,126,126',\n",
       " 'NITF_FDT': '20150429071716',\n",
       " 'NITF_FHDR': 'NITF02.10',\n",
       " 'NITF_FSCATP': '',\n",
       " 'NITF_FSCAUT': '',\n",
       " 'NITF_FSCLAS': 'U',\n",
       " 'NITF_FSCLSY': 'US',\n",
       " 'NITF_FSCLTX': '',\n",
       " 'NITF_FSCODE': '',\n",
       " 'NITF_FSCOP': '00000',\n",
       " 'NITF_FSCPYS': '00000',\n",
       " 'NITF_FSCRSN': '',\n",
       " 'NITF_FSCTLH': '0',\n",
       " 'NITF_FSCTLN': '',\n",
       " 'NITF_FSDCDT': '',\n",
       " 'NITF_FSDCTP': '',\n",
       " 'NITF_FSDCXM': '',\n",
       " 'NITF_FSDG': '',\n",
       " 'NITF_FSDGDT': '',\n",
       " 'NITF_FSREL': '',\n",
       " 'NITF_FSSRDT': '',\n",
       " 'NITF_FTITLE': '15APR29062253-P1BS-500308331010_01_P059.NTF',\n",
       " 'NITF_IALVL': '0',\n",
       " 'NITF_IC': 'C8',\n",
       " 'NITF_ICAT': 'VIS',\n",
       " 'NITF_ICORDS': 'G',\n",
       " 'NITF_IDATIM': '20150429062253',\n",
       " 'NITF_IDLVL': '1',\n",
       " 'NITF_IGEOLO': '281707N0835521E281809N0841105E280926N0841110E280850N0835517E',\n",
       " 'NITF_IID1': 'P13D80A300',\n",
       " 'NITF_IID2': '29APR15WV010500015APR29062253-P1BS-500308331010_01_P059',\n",
       " 'NITF_ILOC_COLUMN': '0',\n",
       " 'NITF_ILOC_ROW': '0',\n",
       " 'NITF_IMAG': '1.0 ',\n",
       " 'NITF_IMAGE_COMMENTS': 'The imagery and metadata data on this media is the property of                  DigitalGlobe and is licensed for use only. All use must be in                   accordance with the terms of the license that accompanies the media.            If the license is purchased under contract NMA 301 99 D003, use is              in accordance with the license therein                                          ',\n",
       " 'NITF_IMODE': 'B',\n",
       " 'NITF_IREP': 'MONO',\n",
       " 'NITF_ISCATP': '',\n",
       " 'NITF_ISCAUT': '',\n",
       " 'NITF_ISCLAS': 'U',\n",
       " 'NITF_ISCLSY': 'US',\n",
       " 'NITF_ISCLTX': '',\n",
       " 'NITF_ISCODE': '',\n",
       " 'NITF_ISCRSN': '',\n",
       " 'NITF_ISCTLH': '0',\n",
       " 'NITF_ISCTLN': '',\n",
       " 'NITF_ISDCDT': '',\n",
       " 'NITF_ISDCTP': '',\n",
       " 'NITF_ISDCXM': '',\n",
       " 'NITF_ISDG': '',\n",
       " 'NITF_ISDGDT': '',\n",
       " 'NITF_ISORCE': 'DigitalGlobe',\n",
       " 'NITF_ISREL': '',\n",
       " 'NITF_ISSRDT': '',\n",
       " 'NITF_ONAME': 'DigitalGlobe',\n",
       " 'NITF_OPHONE': '+1(800)496-1225',\n",
       " 'NITF_OSTAID': 'DG',\n",
       " 'NITF_PIAIMC_CAMSPECS': '',\n",
       " 'NITF_PIAIMC_CLOUDCVR': '999',\n",
       " 'NITF_PIAIMC_COMGEN': '00',\n",
       " 'NITF_PIAIMC_ESD': 'Y',\n",
       " 'NITF_PIAIMC_GENERATION': '1',\n",
       " 'NITF_PIAIMC_IDATUM': 'WGE',\n",
       " 'NITF_PIAIMC_IELLIP': '',\n",
       " 'NITF_PIAIMC_IPROJ': '',\n",
       " 'NITF_PIAIMC_MEANGSD': '00036.1',\n",
       " 'NITF_PIAIMC_OTHERCOND': '',\n",
       " 'NITF_PIAIMC_PIAMSNNUM': '',\n",
       " 'NITF_PIAIMC_PREPROC': '1R',\n",
       " 'NITF_PIAIMC_PROJID': '',\n",
       " 'NITF_PIAIMC_SATTRACK': '00000000',\n",
       " 'NITF_PIAIMC_SENSMODE': 'PUSHBROOM',\n",
       " 'NITF_PIAIMC_SENSNAME': 'WV01',\n",
       " 'NITF_PIAIMC_SOURCE': 'DigitalGlobe Acquired Image',\n",
       " 'NITF_PIAIMC_SRP': 'Y',\n",
       " 'NITF_PIAIMC_SUBQUAL': '',\n",
       " 'NITF_PJUST': 'R',\n",
       " 'NITF_PVTYPE': 'INT',\n",
       " 'NITF_STDIDC_ACQUISITION_DATE': '20150429062253',\n",
       " 'NITF_STDIDC_COUNTRY': 'NP',\n",
       " 'NITF_STDIDC_END_COLUMN': '035',\n",
       " 'NITF_STDIDC_END_ROW': '00014',\n",
       " 'NITF_STDIDC_END_SEGMENT': 'AA',\n",
       " 'NITF_STDIDC_LOCATION': '2817N08403E',\n",
       " 'NITF_STDIDC_MISSION': 'WV01',\n",
       " 'NITF_STDIDC_OP_NUM': '000',\n",
       " 'NITF_STDIDC_PASS': '05',\n",
       " 'NITF_STDIDC_REPLAY_REGEN': '000',\n",
       " 'NITF_STDIDC_REPRO_NUM': '00',\n",
       " 'NITF_STDIDC_START_COLUMN': '001',\n",
       " 'NITF_STDIDC_START_ROW': '00001',\n",
       " 'NITF_STDIDC_START_SEGMENT': 'AA',\n",
       " 'NITF_STDIDC_WAC': '',\n",
       " 'NITF_STYPE': 'BF01',\n",
       " 'NITF_TGTID': '',\n",
       " 'NITF_USE00A_ANGLE_TO_NORTH': '270',\n",
       " 'NITF_USE00A_DYNAMIC_RANGE': '01936',\n",
       " 'NITF_USE00A_MAX_LP_SEG': '013688',\n",
       " 'NITF_USE00A_MEAN_GSD': '036.1',\n",
       " 'NITF_USE00A_N_REF': '00',\n",
       " 'NITF_USE00A_N_SEG': '001',\n",
       " 'NITF_USE00A_OBL_ANG': '45.20',\n",
       " 'NITF_USE00A_REV_NUM': '42343',\n",
       " 'NITF_USE00A_ROLL_ANG': '-03.51',\n",
       " 'NITF_USE00A_SUN_AZ': '181.7',\n",
       " 'NITF_USE00A_SUN_EL': '+76.3'}"
      ]
     },
     "execution_count": 4,
     "metadata": {},
     "output_type": "execute_result"
    }
   ],
   "source": [
    "gdal_dataset.GetMetadata()"
   ]
  },
  {
   "cell_type": "code",
   "execution_count": 5,
   "metadata": {
    "collapsed": false
   },
   "outputs": [
    {
     "data": {
      "text/plain": [
       "'National Imagery Transmission Format'"
      ]
     },
     "execution_count": 5,
     "metadata": {},
     "output_type": "execute_result"
    }
   ],
   "source": [
    "gdal_dataset.GetDriver().LongName"
   ]
  },
  {
   "cell_type": "code",
   "execution_count": 6,
   "metadata": {
    "collapsed": false
   },
   "outputs": [
    {
     "data": {
      "text/plain": [
       "''"
      ]
     },
     "execution_count": 6,
     "metadata": {},
     "output_type": "execute_result"
    }
   ],
   "source": [
    "gdal_dataset.GetProjection() #CRS is empty again"
   ]
  },
  {
   "cell_type": "code",
   "execution_count": 12,
   "metadata": {
    "collapsed": false
   },
   "outputs": [],
   "source": [
    "# Get raster projection\n",
    "from osgeo import osr\n",
    "epsg = 32644 #UTM 44\n",
    "srs = osr.SpatialReference()"
   ]
  },
  {
   "cell_type": "code",
   "execution_count": 13,
   "metadata": {
    "collapsed": false
   },
   "outputs": [
    {
     "data": {
      "text/plain": [
       "<osgeo.osr.SpatialReference; proxy of <Swig Object of type 'OSRSpatialReferenceShadow *' at 0x7fb7d0ba6bd0> >"
      ]
     },
     "execution_count": 13,
     "metadata": {},
     "output_type": "execute_result"
    }
   ],
   "source": [
    "srs"
   ]
  },
  {
   "cell_type": "code",
   "execution_count": 20,
   "metadata": {
    "collapsed": false
   },
   "outputs": [
    {
     "data": {
      "text/plain": [
       "False"
      ]
     },
     "execution_count": 20,
     "metadata": {},
     "output_type": "execute_result"
    }
   ],
   "source": [
    "import os\n",
    "'GDAL_PATH' in os.environ"
   ]
  },
  {
   "cell_type": "code",
   "execution_count": 19,
   "metadata": {
    "collapsed": true
   },
   "outputs": [],
   "source": [
    "if 'GDAL_DATA' not in os.environ:\n",
    "    os.environ['GDAL_DATA'] = '/home/sravya/data/satellite/gdal_data'"
   ]
  },
  {
   "cell_type": "code",
   "execution_count": 22,
   "metadata": {
    "collapsed": false
   },
   "outputs": [
    {
     "data": {
      "text/plain": [
       "'/home/sravya/anaconda3/lib/python3.6/site-packages/rasterio/gdal_data'"
      ]
     },
     "execution_count": 22,
     "metadata": {},
     "output_type": "execute_result"
    }
   ],
   "source": [
    "os.environ['GDAL_DATA']"
   ]
  },
  {
   "cell_type": "code",
   "execution_count": 17,
   "metadata": {
    "collapsed": false
   },
   "outputs": [
    {
     "data": {
      "text/plain": [
       "0"
      ]
     },
     "execution_count": 17,
     "metadata": {},
     "output_type": "execute_result"
    }
   ],
   "source": [
    "srs.ImportFromEPSG(epsg)"
   ]
  },
  {
   "cell_type": "code",
   "execution_count": 23,
   "metadata": {
    "collapsed": true
   },
   "outputs": [],
   "source": [
    "dest_wkt = srs.ExportToWkt()"
   ]
  },
  {
   "cell_type": "code",
   "execution_count": 24,
   "metadata": {
    "collapsed": false
   },
   "outputs": [
    {
     "data": {
      "text/plain": [
       "'PROJCS[\"WGS 84 / UTM zone 44N\",GEOGCS[\"WGS 84\",DATUM[\"WGS_1984\",SPHEROID[\"WGS 84\",6378137,298.257223563,AUTHORITY[\"EPSG\",\"7030\"]],AUTHORITY[\"EPSG\",\"6326\"]],PRIMEM[\"Greenwich\",0,AUTHORITY[\"EPSG\",\"8901\"]],UNIT[\"degree\",0.0174532925199433,AUTHORITY[\"EPSG\",\"9122\"]],AUTHORITY[\"EPSG\",\"4326\"]],PROJECTION[\"Transverse_Mercator\"],PARAMETER[\"latitude_of_origin\",0],PARAMETER[\"central_meridian\",81],PARAMETER[\"scale_factor\",0.9996],PARAMETER[\"false_easting\",500000],PARAMETER[\"false_northing\",0],UNIT[\"metre\",1,AUTHORITY[\"EPSG\",\"9001\"]],AXIS[\"Easting\",EAST],AXIS[\"Northing\",NORTH],AUTHORITY[\"EPSG\",\"32644\"]]'"
      ]
     },
     "execution_count": 24,
     "metadata": {},
     "output_type": "execute_result"
    }
   ],
   "source": [
    "dest_wkt"
   ]
  },
  {
   "cell_type": "code",
   "execution_count": 25,
   "metadata": {
    "collapsed": false
   },
   "outputs": [
    {
     "data": {
      "text/plain": [
       "3"
      ]
     },
     "execution_count": 25,
     "metadata": {},
     "output_type": "execute_result"
    }
   ],
   "source": [
    "# Set projection\n",
    "gdal_dataset.SetProjection(dest_wkt)"
   ]
  },
  {
   "cell_type": "code",
   "execution_count": 26,
   "metadata": {
    "collapsed": false
   },
   "outputs": [
    {
     "data": {
      "text/plain": [
       "''"
      ]
     },
     "execution_count": 26,
     "metadata": {},
     "output_type": "execute_result"
    }
   ],
   "source": [
    "gdal_dataset.GetProjection()"
   ]
  },
  {
   "cell_type": "markdown",
   "metadata": {},
   "source": [
    "# Use rasterio with NITF"
   ]
  },
  {
   "cell_type": "code",
   "execution_count": 7,
   "metadata": {
    "collapsed": false
   },
   "outputs": [],
   "source": [
    "import rasterio"
   ]
  },
  {
   "cell_type": "code",
   "execution_count": 8,
   "metadata": {
    "collapsed": false
   },
   "outputs": [
    {
     "name": "stderr",
     "output_type": "stream",
     "text": [
      "/home/sravya/anaconda3/lib/python3.6/site-packages/rasterio/__init__.py:282: NotGeoreferencedWarning: Dataset has no geotransform set. Default transform will be applied (Affine.identity())\n",
      "  s.start()\n"
     ]
    }
   ],
   "source": [
    "dataset = rasterio.open(filepath, driver=\"NITF\")"
   ]
  },
  {
   "cell_type": "code",
   "execution_count": 28,
   "metadata": {
    "collapsed": false
   },
   "outputs": [
    {
     "data": {
      "text/plain": [
       "CRS({})"
      ]
     },
     "execution_count": 28,
     "metadata": {},
     "output_type": "execute_result"
    }
   ],
   "source": [
    "dataset.get_crs()"
   ]
  },
  {
   "cell_type": "code",
   "execution_count": 9,
   "metadata": {
    "collapsed": false
   },
   "outputs": [
    {
     "data": {
      "text/plain": [
       "CRS({})"
      ]
     },
     "execution_count": 9,
     "metadata": {},
     "output_type": "execute_result"
    }
   ],
   "source": [
    "# Find the CRS (Coordinate Reference system)\n",
    "import CRS from rasterio\n",
    "dataset.crs = CRS."
   ]
  },
  {
   "cell_type": "code",
   "execution_count": 47,
   "metadata": {
    "collapsed": false
   },
   "outputs": [
    {
     "data": {
      "text/plain": [
       "<function DatasetReader.block_windows>"
      ]
     },
     "execution_count": 47,
     "metadata": {},
     "output_type": "execute_result"
    }
   ],
   "source": [
    "dataset.block_windows"
   ]
  },
  {
   "cell_type": "code",
   "execution_count": 48,
   "metadata": {
    "collapsed": false
   },
   "outputs": [
    {
     "data": {
      "text/plain": [
       "Affine(1.0, 0.0, 0.0,\n",
       "       0.0, 1.0, 0.0)"
      ]
     },
     "execution_count": 48,
     "metadata": {},
     "output_type": "execute_result"
    }
   ],
   "source": [
    "dataset.transform"
   ]
  },
  {
   "cell_type": "code",
   "execution_count": 10,
   "metadata": {
    "collapsed": false
   },
   "outputs": [
    {
     "data": {
      "text/plain": [
       "BoundingBox(left=0.0, bottom=14336.0, right=35840.0, top=0.0)"
      ]
     },
     "execution_count": 10,
     "metadata": {},
     "output_type": "execute_result"
    }
   ],
   "source": [
    "dataset.bounds"
   ]
  },
  {
   "cell_type": "code",
   "execution_count": null,
   "metadata": {
    "collapsed": true
   },
   "outputs": [],
   "source": [
    "da"
   ]
  }
 ],
 "metadata": {
  "kernelspec": {
   "display_name": "Python 3",
   "language": "python",
   "name": "python3"
  },
  "language_info": {
   "codemirror_mode": {
    "name": "ipython",
    "version": 3
   },
   "file_extension": ".py",
   "mimetype": "text/x-python",
   "name": "python",
   "nbconvert_exporter": "python",
   "pygments_lexer": "ipython3",
   "version": "3.6.0"
  }
 },
 "nbformat": 4,
 "nbformat_minor": 2
}
