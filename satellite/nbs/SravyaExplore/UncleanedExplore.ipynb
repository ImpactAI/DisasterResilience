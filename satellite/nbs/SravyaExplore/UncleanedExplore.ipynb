{
 "cells": [
  {
   "cell_type": "markdown",
   "metadata": {},
   "source": [
    "# Utilities"
   ]
  },
  {
   "cell_type": "code",
   "execution_count": 83,
   "metadata": {
    "collapsed": false
   },
   "outputs": [],
   "source": [
    "import cv2\n",
    "import numpy as np\n",
    "\n",
    "def mask_for_polygons(size, polygons):\n",
    "    img_mask = np.zeros(size, np.uint8)\n",
    "    if not polygons:\n",
    "        return img_mask\n",
    "    int_coords = lambda x: np.array(x).round().astype(np.int32)\n",
    "    exteriors = [int_coords(poly.exterior.coords) for poly in polygons]\n",
    "    interiors = [int_coords(pi.coords) for poly in polygons\n",
    "                 for pi in poly.interiors]\n",
    "    cv2.fillPoly(img_mask, exteriors, 1)\n",
    "    cv2.fillPoly(img_mask, interiors, 0)\n",
    "    return img_mask"
   ]
  },
  {
   "cell_type": "markdown",
   "metadata": {},
   "source": [
    "# Testing"
   ]
  },
  {
   "cell_type": "code",
   "execution_count": 84,
   "metadata": {
    "collapsed": false
   },
   "outputs": [],
   "source": [
    "from shapely.geometry import Polygon, MultiPolygon\n",
    "#def test_mask_for_polygons():\n",
    "polygon = Polygon([(0, 0), (1, 1), (4, 0), (0,3)])\n",
    "polygons = MultiPolygon([polygon])\n",
    "masked = mask_for_polygons((5,5), polygons)"
   ]
  },
  {
   "cell_type": "code",
   "execution_count": 85,
   "metadata": {
    "collapsed": false
   },
   "outputs": [
    {
     "data": {
      "text/plain": [
       "array([[1, 0, 0, 1, 1],\n",
       "       [1, 1, 1, 1, 0],\n",
       "       [1, 1, 1, 0, 0],\n",
       "       [1, 0, 0, 0, 0],\n",
       "       [0, 0, 0, 0, 0]], dtype=uint8)"
      ]
     },
     "execution_count": 85,
     "metadata": {},
     "output_type": "execute_result"
    }
   ],
   "source": [
    "masked"
   ]
  },
  {
   "cell_type": "markdown",
   "metadata": {},
   "source": [
    "# Explore"
   ]
  },
  {
   "cell_type": "markdown",
   "metadata": {},
   "source": [
    "## GDB file"
   ]
  },
  {
   "cell_type": "code",
   "execution_count": 86,
   "metadata": {
    "collapsed": true
   },
   "outputs": [],
   "source": [
    "from osgeo import ogr"
   ]
  },
  {
   "cell_type": "code",
   "execution_count": 87,
   "metadata": {
    "collapsed": true
   },
   "outputs": [],
   "source": [
    "gdbfile='/home/sravya/data/satellite/haiti/gdb/PDNA_HTI_2010_Atlas_of_Building_Damage_Assessment_UNOSAT_JRC_WB_v2.gdb'"
   ]
  },
  {
   "cell_type": "code",
   "execution_count": 88,
   "metadata": {
    "collapsed": false
   },
   "outputs": [
    {
     "data": {
      "text/plain": [
       "['ARCGEN',\n",
       " 'AVCBin',\n",
       " 'AVCE00',\n",
       " 'AeronavFAA',\n",
       " 'AmigoCloud',\n",
       " 'BNA',\n",
       " 'CSV',\n",
       " 'CSW',\n",
       " 'Carto',\n",
       " 'Cloudant',\n",
       " 'CouchDB',\n",
       " 'DGN',\n",
       " 'DXF',\n",
       " 'EDIGEO',\n",
       " 'ESRI Shapefile',\n",
       " 'ElasticSearch',\n",
       " 'GFT',\n",
       " 'GML',\n",
       " 'GPKG',\n",
       " 'GPSBabel',\n",
       " 'GPSTrackMaker',\n",
       " 'GPX',\n",
       " 'GeoJSON',\n",
       " 'GeoRSS',\n",
       " 'Geoconcept',\n",
       " 'HTF',\n",
       " 'HTTP',\n",
       " 'Idrisi',\n",
       " 'Interlis 1',\n",
       " 'Interlis 2',\n",
       " 'JML',\n",
       " 'JP2OpenJPEG',\n",
       " 'KML',\n",
       " 'MapInfo File',\n",
       " 'Memory',\n",
       " 'NAS',\n",
       " 'ODS',\n",
       " 'OGR_DODS',\n",
       " 'OGR_GMT',\n",
       " 'OGR_PDS',\n",
       " 'OGR_SDTS',\n",
       " 'OGR_VRT',\n",
       " 'OSM',\n",
       " 'OpenAir',\n",
       " 'OpenFileGDB',\n",
       " 'PCIDSK',\n",
       " 'PDF',\n",
       " 'PGDUMP',\n",
       " 'PLSCENES',\n",
       " 'PostgreSQL',\n",
       " 'REC',\n",
       " 'S57',\n",
       " 'SEGUKOOA',\n",
       " 'SEGY',\n",
       " 'SQLite',\n",
       " 'SUA',\n",
       " 'SVG',\n",
       " 'SXF',\n",
       " 'Selafin',\n",
       " 'TIGER',\n",
       " 'UK .NTF',\n",
       " 'VDV',\n",
       " 'VFK',\n",
       " 'WAsP',\n",
       " 'WFS',\n",
       " 'XLS',\n",
       " 'XLSX',\n",
       " 'XPlane',\n",
       " 'netCDF']"
      ]
     },
     "execution_count": 88,
     "metadata": {},
     "output_type": "execute_result"
    }
   ],
   "source": [
    "#Get available drivers\n",
    "cnt = ogr.GetDriverCount()\n",
    "formatsList = []  # Empty List\n",
    "\n",
    "for i in range(cnt):\n",
    "    driver = ogr.GetDriver(i)\n",
    "    driverName = driver.GetName()\n",
    "    if not driverName in formatsList:\n",
    "        formatsList.append(driverName)\n",
    "\n",
    "formatsList.sort() # Sorting the messy list of ogr drivers\n",
    "\n",
    "formatsList"
   ]
  },
  {
   "cell_type": "code",
   "execution_count": 89,
   "metadata": {
    "collapsed": true
   },
   "outputs": [],
   "source": [
    "# Seems like OpenFileGDB supports ESRI gdb files created with >ARGIS 9. \n",
    "# Ref: http://www.gdal.org/drv_openfilegdb.html\n",
    "# Unitar page says (v. 9.3.1), so I am assuming we are good\n",
    "driver = ogr.GetDriverByName(\"OpenFileGDB\")\n",
    "gdb_ds = driver.Open(gdbfile, 0)"
   ]
  },
  {
   "cell_type": "code",
   "execution_count": 90,
   "metadata": {
    "collapsed": false
   },
   "outputs": [
    {
     "name": "stdout",
     "output_type": "stream",
     "text": [
      "Opened <osgeo.ogr.DataSource; proxy of <Swig Object of type 'OGRDataSourceShadow *' at 0x7f821e0d86f0> >\n",
      "Number of features : 294170\n"
     ]
    }
   ],
   "source": [
    "# Check to see if shapefile is found.\n",
    "if gdb_ds is None:\n",
    "    print(\"Could not open %s\" % (gdb_ds))\n",
    "else:\n",
    "    print('Opened %s' % (gdb_ds))"
   ]
  },
  {
   "cell_type": "code",
   "execution_count": 163,
   "metadata": {
    "collapsed": false
   },
   "outputs": [
    {
     "name": "stdout",
     "output_type": "stream",
     "text": [
      "UNOSAT_JRC_WB_Damage_Blds_v2\n"
     ]
    }
   ],
   "source": [
    "featsClassList = []\n",
    "# parsing layers by index\n",
    "for featsClass_idx in range(gdb_ds.GetLayerCount()):\n",
    "    featsClass = gdb_ds.GetLayerByIndex(featsClass_idx)\n",
    "    featsClassList.append(featsClass.GetName())\n",
    "\n",
    "# sorting\n",
    "featsClassList.sort()\n",
    "\n",
    "# printing\n",
    "for featsClass in featsClassList:\n",
    "    print(featsClass)"
   ]
  },
  {
   "cell_type": "code",
   "execution_count": 223,
   "metadata": {
    "collapsed": false
   },
   "outputs": [
    {
     "name": "stdout",
     "output_type": "stream",
     "text": [
      "Number of features : 294170\n"
     ]
    }
   ],
   "source": [
    "layer = gdb_ds.GetLayerByIndex(0)\n",
    "featureCount = layer.GetFeatureCount()\n",
    "print(\"Number of features : %d\" % (featureCount))"
   ]
  },
  {
   "cell_type": "code",
   "execution_count": 234,
   "metadata": {
    "collapsed": false
   },
   "outputs": [],
   "source": [
    "geom_names=[]\n",
    "not_found_feats=[]\n",
    "for i in range(0,layer.GetFeatureCount()):\n",
    "    feat = layer.GetFeature(i)\n",
    "    if feat is None:\n",
    "        not_found_feats.append(i)\n",
    "    else:\n",
    "        geom = feat.GetGeometryRef()\n",
    "        geom_names.append(geom.GetGeometryName())"
   ]
  },
  {
   "cell_type": "code",
   "execution_count": 236,
   "metadata": {
    "collapsed": false
   },
   "outputs": [
    {
     "data": {
      "text/plain": [
       "36285"
      ]
     },
     "execution_count": 236,
     "metadata": {},
     "output_type": "execute_result"
    }
   ],
   "source": [
    "len(not_found_feats)"
   ]
  },
  {
   "cell_type": "code",
   "execution_count": 237,
   "metadata": {
    "collapsed": false
   },
   "outputs": [
    {
     "data": {
      "text/plain": [
       "257885"
      ]
     },
     "execution_count": 237,
     "metadata": {},
     "output_type": "execute_result"
    }
   ],
   "source": [
    "len(geom_names)"
   ]
  },
  {
   "cell_type": "code",
   "execution_count": 239,
   "metadata": {
    "collapsed": false
   },
   "outputs": [
    {
     "data": {
      "text/plain": [
       "Counter({'POINT': 257885})"
      ]
     },
     "execution_count": 239,
     "metadata": {},
     "output_type": "execute_result"
    }
   ],
   "source": [
    "Counter(geom_names)"
   ]
  },
  {
   "cell_type": "markdown",
   "metadata": {},
   "source": [
    "### Explore gdb ds"
   ]
  },
  {
   "cell_type": "code",
   "execution_count": 91,
   "metadata": {
    "collapsed": false
   },
   "outputs": [
    {
     "data": {
      "text/plain": [
       "<osgeo.ogr.DataSource; proxy of <Swig Object of type 'OGRDataSourceShadow *' at 0x7f821e0d86f0> >"
      ]
     },
     "execution_count": 91,
     "metadata": {},
     "output_type": "execute_result"
    }
   ],
   "source": [
    "\n",
    "gdb_ds"
   ]
  },
  {
   "cell_type": "code",
   "execution_count": 92,
   "metadata": {
    "collapsed": false
   },
   "outputs": [
    {
     "data": {
      "text/plain": [
       "1"
      ]
     },
     "execution_count": 92,
     "metadata": {},
     "output_type": "execute_result"
    }
   ],
   "source": [
    "gdb_ds.GetLayerCount()"
   ]
  },
  {
   "cell_type": "code",
   "execution_count": 93,
   "metadata": {
    "collapsed": false
   },
   "outputs": [
    {
     "data": {
      "text/plain": [
       "<osgeo.ogr.Layer; proxy of <Swig Object of type 'OGRLayerShadow *' at 0x7f821e0d8360> >"
      ]
     },
     "execution_count": 93,
     "metadata": {},
     "output_type": "execute_result"
    }
   ],
   "source": [
    "gdb_ds.GetLayerByIndex(0)"
   ]
  },
  {
   "cell_type": "code",
   "execution_count": 94,
   "metadata": {
    "collapsed": false
   },
   "outputs": [
    {
     "data": {
      "text/plain": [
       "{}"
      ]
     },
     "execution_count": 94,
     "metadata": {},
     "output_type": "execute_result"
    }
   ],
   "source": [
    "gdb_ds.GetMetadata_Dict()"
   ]
  },
  {
   "cell_type": "code",
   "execution_count": 95,
   "metadata": {
    "collapsed": false
   },
   "outputs": [
    {
     "data": {
      "text/plain": [
       "'/home/sravya/data/satellite/haiti/gdb/PDNA_HTI_2010_Atlas_of_Building_Damage_Assessment_UNOSAT_JRC_WB_v2.gdb'"
      ]
     },
     "execution_count": 95,
     "metadata": {},
     "output_type": "execute_result"
    }
   ],
   "source": [
    "gdb_ds.name"
   ]
  },
  {
   "cell_type": "markdown",
   "metadata": {},
   "source": [
    "## Shapefile"
   ]
  },
  {
   "cell_type": "code",
   "execution_count": 256,
   "metadata": {
    "collapsed": false
   },
   "outputs": [
    {
     "name": "stdout",
     "output_type": "stream",
     "text": [
      "Opened <osgeo.ogr.DataSource; proxy of <Swig Object of type 'OGRDataSourceShadow *' at 0x7f7fe255ad20> >\n",
      "Number of features : 294170\n"
     ]
    }
   ],
   "source": [
    "import os\n",
    "shapefile = '/home/sravya/data/satellite/haiti/shapefile/'\n",
    "driver = ogr.GetDriverByName('ESRI Shapefile')\n",
    "shp_ds = driver.Open(daShapefile, 0) # 0 means read-only. 1 means writeable.\n",
    "\n",
    "# Check to see if shapefile is found.\n",
    "if shp_ds is None:\n",
    "    print(\"Could not open %s\" % (shp_ds))\n",
    "else:\n",
    "    print('Opened %s' % (shp_ds))\n",
    "    layer = shp_ds.GetLayer()\n",
    "    featureCount = layer.GetFeatureCount()\n",
    "    print(\"Number of features : %d\" % (featureCount))"
   ]
  },
  {
   "cell_type": "markdown",
   "metadata": {},
   "source": [
    "### Explore features"
   ]
  },
  {
   "cell_type": "code",
   "execution_count": 176,
   "metadata": {
    "collapsed": true
   },
   "outputs": [],
   "source": [
    "layer = shp_ds.GetLayer()"
   ]
  },
  {
   "cell_type": "code",
   "execution_count": 101,
   "metadata": {
    "collapsed": false
   },
   "outputs": [
    {
     "data": {
      "text/plain": [
       "'PDNA_HTI_2010_Atlas_of_Building_Damage_Assessment_UNOSAT_JRC_WB_v2'"
      ]
     },
     "execution_count": 101,
     "metadata": {},
     "output_type": "execute_result"
    }
   ],
   "source": [
    "layer.GetDescription()"
   ]
  },
  {
   "cell_type": "code",
   "execution_count": 102,
   "metadata": {
    "collapsed": false
   },
   "outputs": [
    {
     "data": {
      "text/plain": [
       "(724423.8898999998, 814769.2341999998, 2015975.4824, 2119997.0555000007)"
      ]
     },
     "execution_count": 102,
     "metadata": {},
     "output_type": "execute_result"
    }
   ],
   "source": [
    "layer.GetExtent()"
   ]
  },
  {
   "cell_type": "code",
   "execution_count": 112,
   "metadata": {
    "collapsed": false
   },
   "outputs": [],
   "source": [
    "feat0=layer.GetFeature(0)"
   ]
  },
  {
   "cell_type": "code",
   "execution_count": 114,
   "metadata": {
    "collapsed": false
   },
   "outputs": [
    {
     "data": {
      "text/plain": [
       "17"
      ]
     },
     "execution_count": 114,
     "metadata": {},
     "output_type": "execute_result"
    }
   ],
   "source": [
    "feat0.GetFieldCount()"
   ]
  },
  {
   "cell_type": "code",
   "execution_count": 115,
   "metadata": {
    "collapsed": true
   },
   "outputs": [],
   "source": [
    "feat1=layer.GetFeature(1)"
   ]
  },
  {
   "cell_type": "code",
   "execution_count": 116,
   "metadata": {
    "collapsed": false
   },
   "outputs": [
    {
     "data": {
      "text/plain": [
       "17"
      ]
     },
     "execution_count": 116,
     "metadata": {},
     "output_type": "execute_result"
    }
   ],
   "source": [
    "feat1.GetFieldCount()"
   ]
  },
  {
   "cell_type": "code",
   "execution_count": 121,
   "metadata": {
    "collapsed": false
   },
   "outputs": [
    {
     "data": {
      "text/plain": [
       "{'Analysis': 'UNITAR/UNOSAT',\n",
       " 'Commune': 'PORT-AU-PRINCE',\n",
       " 'Damage_ID': 'GRADE 1 No Visible Damage',\n",
       " 'Departemen': 'OUEST',\n",
       " 'ID_Com': 111,\n",
       " 'Id_dep': 1,\n",
       " 'Landcover': 'Industrial Zone',\n",
       " 'NOM_SECTIO': '6ème Turgeau',\n",
       " 'No_section': 6,\n",
       " 'OBJECTID': 2,\n",
       " 'Population': 14760,\n",
       " 'Section_': 'TURGEAU',\n",
       " 'SensorDate': '2010/01/21',\n",
       " 'Sensor_ID': 'Aerial Photography (Google)',\n",
       " 'Site_ID': 'Building (General)',\n",
       " 'Validation': 'Not yet field validated',\n",
       " 'id_Section': '111-01'}"
      ]
     },
     "execution_count": 121,
     "metadata": {},
     "output_type": "execute_result"
    }
   ],
   "source": [
    "feat1.items()"
   ]
  },
  {
   "cell_type": "code",
   "execution_count": 122,
   "metadata": {
    "collapsed": false
   },
   "outputs": [
    {
     "data": {
      "text/plain": [
       "{'Analysis': 'UNITAR/UNOSAT',\n",
       " 'Commune': 'PORT-AU-PRINCE',\n",
       " 'Damage_ID': 'GRADE 4 Very Heavy Damage',\n",
       " 'Departemen': 'OUEST',\n",
       " 'ID_Com': 111,\n",
       " 'Id_dep': 1,\n",
       " 'Landcover': 'High Density Built-Up Zone',\n",
       " 'NOM_SECTIO': '6ème Turgeau',\n",
       " 'No_section': 6,\n",
       " 'OBJECTID': 1,\n",
       " 'Population': 14760,\n",
       " 'Section_': 'TURGEAU',\n",
       " 'SensorDate': '2010/01/21',\n",
       " 'Sensor_ID': 'Aerial Photography (Google)',\n",
       " 'Site_ID': 'Building (General)',\n",
       " 'Validation': 'Not yet field validated',\n",
       " 'id_Section': '111-01'}"
      ]
     },
     "execution_count": 122,
     "metadata": {},
     "output_type": "execute_result"
    }
   ],
   "source": [
    "feat0.items()"
   ]
  },
  {
   "cell_type": "code",
   "execution_count": 124,
   "metadata": {
    "collapsed": true
   },
   "outputs": [],
   "source": [
    "feat294170 = layer.GetFeature(294169)"
   ]
  },
  {
   "cell_type": "code",
   "execution_count": 125,
   "metadata": {
    "collapsed": false
   },
   "outputs": [
    {
     "data": {
      "text/plain": [
       "{'Analysis': 'EC JRC',\n",
       " 'Commune': None,\n",
       " 'Damage_ID': 'GRADE 1 No Visible Damage',\n",
       " 'Departemen': None,\n",
       " 'ID_Com': 0,\n",
       " 'Id_dep': 0,\n",
       " 'Landcover': None,\n",
       " 'NOM_SECTIO': None,\n",
       " 'No_section': 0,\n",
       " 'OBJECTID': 330454,\n",
       " 'Population': 0,\n",
       " 'Section_': None,\n",
       " 'SensorDate': '2010/01/25',\n",
       " 'Sensor_ID': 'Aerial Photography (Google)',\n",
       " 'Site_ID': 'Building (General)',\n",
       " 'Validation': 'Not yet field validated',\n",
       " 'id_Section': None}"
      ]
     },
     "execution_count": 125,
     "metadata": {},
     "output_type": "execute_result"
    }
   ],
   "source": [
    "feat294170.items()"
   ]
  },
  {
   "cell_type": "code",
   "execution_count": 133,
   "metadata": {
    "collapsed": false
   },
   "outputs": [
    {
     "data": {
      "text/plain": [
       "<osgeo.ogr.Geometry; proxy of <Swig Object of type 'OGRGeometryShadow *' at 0x7f821e0d8b40> >"
      ]
     },
     "execution_count": 133,
     "metadata": {},
     "output_type": "execute_result"
    }
   ],
   "source": [
    "feat0.GetGeometryRef().Centroid()"
   ]
  },
  {
   "cell_type": "code",
   "execution_count": 127,
   "metadata": {
    "collapsed": false
   },
   "outputs": [
    {
     "data": {
      "text/plain": [
       "294169"
      ]
     },
     "execution_count": 127,
     "metadata": {},
     "output_type": "execute_result"
    }
   ],
   "source": [
    "feat294170.GetFID()"
   ]
  },
  {
   "cell_type": "code",
   "execution_count": 128,
   "metadata": {
    "collapsed": false
   },
   "outputs": [
    {
     "data": {
      "text/plain": [
       "'{\"type\": \"Feature\", \"geometry\": {\"type\": \"Point\", \"coordinates\": [750382.6661999999, 2052557.8408]}, \"properties\": {\"OBJECTID\": 330454, \"SensorDate\": \"2010/01/25\", \"ID_Com\": 0, \"NOM_SECTIO\": null, \"Id_dep\": 0, \"id_Section\": null, \"Departemen\": null, \"Commune\": null, \"No_section\": 0, \"Section_\": null, \"Population\": 0, \"Site_ID\": \"Building (General)\", \"Damage_ID\": \"GRADE 1 No Visible Damage\", \"Sensor_ID\": \"Aerial Photography (Google)\", \"Analysis\": \"EC JRC\", \"Validation\": \"Not yet field validated\", \"Landcover\": null}, \"id\": 294169}'"
      ]
     },
     "execution_count": 128,
     "metadata": {},
     "output_type": "execute_result"
    }
   ],
   "source": [
    "feat294170.ExportToJson()"
   ]
  },
  {
   "cell_type": "code",
   "execution_count": 113,
   "metadata": {
    "collapsed": false
   },
   "outputs": [
    {
     "data": {
      "text/plain": [
       "<osgeo.ogr.Geometry; proxy of <Swig Object of type 'OGRGeometryShadow *' at 0x7f821e0d8570> >"
      ]
     },
     "execution_count": 113,
     "metadata": {},
     "output_type": "execute_result"
    }
   ],
   "source": [
    "feat0.geometry()"
   ]
  },
  {
   "cell_type": "code",
   "execution_count": 172,
   "metadata": {
    "collapsed": false
   },
   "outputs": [
    {
     "data": {
      "text/plain": [
       "'GRADE 1 No Visible Damage'"
      ]
     },
     "execution_count": 172,
     "metadata": {},
     "output_type": "execute_result"
    }
   ],
   "source": [
    "feat1.GetField(\"Damage_ID\")"
   ]
  },
  {
   "cell_type": "code",
   "execution_count": 192,
   "metadata": {
    "collapsed": false
   },
   "outputs": [],
   "source": [
    "damage_ids=[]\n",
    "for i in range(0,layer.GetFeatureCount()):\n",
    "    damage_ids.append(layer.GetFeature(i).GetField(\"Damage_ID\"))"
   ]
  },
  {
   "cell_type": "code",
   "execution_count": 193,
   "metadata": {
    "collapsed": false
   },
   "outputs": [
    {
     "data": {
      "text/plain": [
       "['GRADE 4 Very Heavy Damage',\n",
       " 'GRADE 1 No Visible Damage',\n",
       " 'GRADE 1 No Visible Damage',\n",
       " 'GRADE 1 No Visible Damage',\n",
       " 'GRADE 1 No Visible Damage',\n",
       " 'GRADE 1 No Visible Damage',\n",
       " 'GRADE 1 No Visible Damage',\n",
       " 'GRADE 1 No Visible Damage',\n",
       " 'GRADE 1 No Visible Damage',\n",
       " 'GRADE 1 No Visible Damage',\n",
       " 'GRADE 1 No Visible Damage',\n",
       " 'GRADE 1 No Visible Damage',\n",
       " 'GRADE 1 No Visible Damage',\n",
       " 'GRADE 1 No Visible Damage',\n",
       " 'GRADE 1 No Visible Damage',\n",
       " 'GRADE 3 Substanial to Heavy Damage',\n",
       " 'GRADE 1 No Visible Damage',\n",
       " 'GRADE 1 No Visible Damage',\n",
       " 'GRADE 1 No Visible Damage',\n",
       " 'GRADE 1 No Visible Damage',\n",
       " 'GRADE 1 No Visible Damage',\n",
       " 'GRADE 1 No Visible Damage',\n",
       " 'GRADE 1 No Visible Damage',\n",
       " 'GRADE 1 No Visible Damage',\n",
       " 'GRADE 1 No Visible Damage',\n",
       " 'GRADE 1 No Visible Damage',\n",
       " 'GRADE 1 No Visible Damage',\n",
       " 'GRADE 3 Substanial to Heavy Damage',\n",
       " 'GRADE 1 No Visible Damage',\n",
       " 'GRADE 1 No Visible Damage',\n",
       " 'GRADE 1 No Visible Damage',\n",
       " 'GRADE 1 No Visible Damage',\n",
       " 'GRADE 1 No Visible Damage',\n",
       " 'GRADE 5 Destruction',\n",
       " 'GRADE 1 No Visible Damage',\n",
       " 'GRADE 1 No Visible Damage',\n",
       " 'GRADE 1 No Visible Damage',\n",
       " 'GRADE 3 Substanial to Heavy Damage',\n",
       " 'GRADE 5 Destruction',\n",
       " 'GRADE 5 Destruction',\n",
       " 'GRADE 1 No Visible Damage',\n",
       " 'GRADE 1 No Visible Damage',\n",
       " 'GRADE 1 No Visible Damage',\n",
       " 'GRADE 1 No Visible Damage',\n",
       " 'GRADE 1 No Visible Damage',\n",
       " 'GRADE 1 No Visible Damage',\n",
       " 'GRADE 1 No Visible Damage',\n",
       " 'GRADE 1 No Visible Damage',\n",
       " 'GRADE 1 No Visible Damage',\n",
       " 'GRADE 4 Very Heavy Damage',\n",
       " 'GRADE 4 Very Heavy Damage',\n",
       " 'GRADE 4 Very Heavy Damage',\n",
       " 'GRADE 1 No Visible Damage',\n",
       " 'GRADE 1 No Visible Damage',\n",
       " 'GRADE 1 No Visible Damage',\n",
       " 'GRADE 1 No Visible Damage',\n",
       " 'GRADE 1 No Visible Damage',\n",
       " 'GRADE 1 No Visible Damage',\n",
       " 'GRADE 1 No Visible Damage',\n",
       " 'GRADE 1 No Visible Damage',\n",
       " 'GRADE 1 No Visible Damage',\n",
       " 'GRADE 1 No Visible Damage',\n",
       " 'GRADE 1 No Visible Damage',\n",
       " 'GRADE 1 No Visible Damage',\n",
       " 'GRADE 1 No Visible Damage',\n",
       " 'GRADE 1 No Visible Damage',\n",
       " 'GRADE 1 No Visible Damage',\n",
       " 'GRADE 1 No Visible Damage',\n",
       " 'GRADE 1 No Visible Damage',\n",
       " 'GRADE 1 No Visible Damage',\n",
       " 'GRADE 1 No Visible Damage',\n",
       " 'GRADE 1 No Visible Damage',\n",
       " 'GRADE 1 No Visible Damage',\n",
       " 'GRADE 1 No Visible Damage',\n",
       " 'GRADE 1 No Visible Damage',\n",
       " 'GRADE 5 Destruction',\n",
       " 'GRADE 5 Destruction',\n",
       " 'GRADE 1 No Visible Damage',\n",
       " 'GRADE 1 No Visible Damage',\n",
       " 'GRADE 1 No Visible Damage',\n",
       " 'GRADE 1 No Visible Damage',\n",
       " 'GRADE 1 No Visible Damage',\n",
       " 'GRADE 5 Destruction',\n",
       " 'GRADE 1 No Visible Damage',\n",
       " 'GRADE 1 No Visible Damage',\n",
       " 'GRADE 1 No Visible Damage',\n",
       " 'GRADE 1 No Visible Damage',\n",
       " 'GRADE 1 No Visible Damage',\n",
       " 'GRADE 1 No Visible Damage',\n",
       " 'GRADE 1 No Visible Damage',\n",
       " 'GRADE 1 No Visible Damage',\n",
       " 'GRADE 1 No Visible Damage',\n",
       " 'GRADE 1 No Visible Damage',\n",
       " 'GRADE 1 No Visible Damage',\n",
       " 'GRADE 1 No Visible Damage',\n",
       " 'GRADE 1 No Visible Damage',\n",
       " 'GRADE 1 No Visible Damage',\n",
       " 'GRADE 1 No Visible Damage',\n",
       " 'GRADE 1 No Visible Damage',\n",
       " 'GRADE 1 No Visible Damage',\n",
       " 'GRADE 1 No Visible Damage',\n",
       " 'GRADE 1 No Visible Damage',\n",
       " 'GRADE 1 No Visible Damage',\n",
       " 'GRADE 1 No Visible Damage',\n",
       " 'GRADE 1 No Visible Damage',\n",
       " 'GRADE 1 No Visible Damage',\n",
       " 'GRADE 1 No Visible Damage',\n",
       " 'GRADE 3 Substanial to Heavy Damage',\n",
       " 'GRADE 1 No Visible Damage',\n",
       " 'GRADE 1 No Visible Damage',\n",
       " 'GRADE 1 No Visible Damage',\n",
       " 'GRADE 1 No Visible Damage',\n",
       " 'GRADE 1 No Visible Damage',\n",
       " 'GRADE 1 No Visible Damage',\n",
       " 'GRADE 1 No Visible Damage',\n",
       " 'GRADE 3 Substanial to Heavy Damage',\n",
       " 'GRADE 1 No Visible Damage',\n",
       " 'GRADE 1 No Visible Damage',\n",
       " 'GRADE 1 No Visible Damage',\n",
       " 'GRADE 1 No Visible Damage',\n",
       " 'GRADE 1 No Visible Damage',\n",
       " 'GRADE 1 No Visible Damage',\n",
       " 'GRADE 1 No Visible Damage',\n",
       " 'GRADE 1 No Visible Damage',\n",
       " 'GRADE 3 Substanial to Heavy Damage',\n",
       " 'GRADE 3 Substanial to Heavy Damage',\n",
       " 'GRADE 1 No Visible Damage',\n",
       " 'GRADE 5 Destruction',\n",
       " 'GRADE 5 Destruction',\n",
       " 'GRADE 5 Destruction',\n",
       " 'GRADE 1 No Visible Damage',\n",
       " 'GRADE 1 No Visible Damage',\n",
       " 'GRADE 1 No Visible Damage',\n",
       " 'GRADE 1 No Visible Damage',\n",
       " 'GRADE 3 Substanial to Heavy Damage',\n",
       " 'GRADE 1 No Visible Damage',\n",
       " 'GRADE 1 No Visible Damage',\n",
       " 'GRADE 1 No Visible Damage',\n",
       " 'GRADE 1 No Visible Damage',\n",
       " 'GRADE 1 No Visible Damage',\n",
       " 'GRADE 1 No Visible Damage',\n",
       " 'GRADE 1 No Visible Damage',\n",
       " 'GRADE 1 No Visible Damage',\n",
       " 'GRADE 1 No Visible Damage',\n",
       " 'GRADE 5 Destruction',\n",
       " 'GRADE 1 No Visible Damage',\n",
       " 'GRADE 1 No Visible Damage',\n",
       " 'GRADE 1 No Visible Damage',\n",
       " 'GRADE 1 No Visible Damage',\n",
       " 'GRADE 1 No Visible Damage',\n",
       " 'GRADE 1 No Visible Damage',\n",
       " 'GRADE 1 No Visible Damage',\n",
       " 'GRADE 1 No Visible Damage',\n",
       " 'GRADE 1 No Visible Damage',\n",
       " 'GRADE 1 No Visible Damage',\n",
       " 'GRADE 1 No Visible Damage',\n",
       " 'GRADE 1 No Visible Damage',\n",
       " 'GRADE 4 Very Heavy Damage',\n",
       " 'GRADE 3 Substanial to Heavy Damage',\n",
       " 'GRADE 1 No Visible Damage',\n",
       " 'GRADE 1 No Visible Damage',\n",
       " 'GRADE 1 No Visible Damage',\n",
       " 'GRADE 1 No Visible Damage',\n",
       " 'GRADE 1 No Visible Damage',\n",
       " 'GRADE 1 No Visible Damage',\n",
       " 'GRADE 5 Destruction',\n",
       " 'GRADE 1 No Visible Damage',\n",
       " 'GRADE 1 No Visible Damage',\n",
       " 'GRADE 1 No Visible Damage',\n",
       " 'GRADE 1 No Visible Damage',\n",
       " 'GRADE 1 No Visible Damage',\n",
       " 'GRADE 1 No Visible Damage',\n",
       " 'GRADE 1 No Visible Damage',\n",
       " 'GRADE 1 No Visible Damage',\n",
       " 'GRADE 1 No Visible Damage',\n",
       " 'GRADE 1 No Visible Damage',\n",
       " 'GRADE 1 No Visible Damage',\n",
       " 'GRADE 1 No Visible Damage',\n",
       " 'GRADE 1 No Visible Damage',\n",
       " 'GRADE 1 No Visible Damage',\n",
       " 'GRADE 4 Very Heavy Damage',\n",
       " 'GRADE 5 Destruction',\n",
       " 'GRADE 5 Destruction',\n",
       " 'GRADE 5 Destruction',\n",
       " 'GRADE 5 Destruction',\n",
       " 'GRADE 5 Destruction',\n",
       " 'GRADE 1 No Visible Damage',\n",
       " 'GRADE 1 No Visible Damage',\n",
       " 'GRADE 1 No Visible Damage',\n",
       " 'GRADE 1 No Visible Damage',\n",
       " 'GRADE 1 No Visible Damage',\n",
       " 'GRADE 1 No Visible Damage',\n",
       " 'GRADE 1 No Visible Damage',\n",
       " 'GRADE 1 No Visible Damage',\n",
       " 'GRADE 1 No Visible Damage',\n",
       " 'GRADE 1 No Visible Damage',\n",
       " 'GRADE 1 No Visible Damage',\n",
       " 'GRADE 1 No Visible Damage',\n",
       " 'GRADE 5 Destruction',\n",
       " 'GRADE 1 No Visible Damage',\n",
       " 'GRADE 1 No Visible Damage',\n",
       " 'GRADE 1 No Visible Damage',\n",
       " 'GRADE 4 Very Heavy Damage',\n",
       " 'GRADE 4 Very Heavy Damage',\n",
       " 'GRADE 1 No Visible Damage',\n",
       " 'GRADE 1 No Visible Damage',\n",
       " 'GRADE 1 No Visible Damage',\n",
       " 'GRADE 1 No Visible Damage',\n",
       " 'GRADE 1 No Visible Damage',\n",
       " 'GRADE 1 No Visible Damage',\n",
       " 'GRADE 1 No Visible Damage',\n",
       " 'GRADE 4 Very Heavy Damage',\n",
       " 'GRADE 1 No Visible Damage',\n",
       " 'GRADE 1 No Visible Damage',\n",
       " 'GRADE 1 No Visible Damage',\n",
       " 'GRADE 4 Very Heavy Damage',\n",
       " 'GRADE 4 Very Heavy Damage',\n",
       " 'GRADE 1 No Visible Damage',\n",
       " 'GRADE 1 No Visible Damage',\n",
       " 'GRADE 1 No Visible Damage',\n",
       " 'GRADE 1 No Visible Damage',\n",
       " 'GRADE 1 No Visible Damage',\n",
       " 'GRADE 1 No Visible Damage',\n",
       " 'GRADE 1 No Visible Damage',\n",
       " 'GRADE 1 No Visible Damage',\n",
       " 'GRADE 1 No Visible Damage',\n",
       " 'GRADE 1 No Visible Damage',\n",
       " 'GRADE 1 No Visible Damage',\n",
       " 'GRADE 1 No Visible Damage',\n",
       " 'GRADE 1 No Visible Damage',\n",
       " 'GRADE 1 No Visible Damage',\n",
       " 'GRADE 1 No Visible Damage',\n",
       " 'GRADE 1 No Visible Damage',\n",
       " 'GRADE 1 No Visible Damage',\n",
       " 'GRADE 1 No Visible Damage',\n",
       " 'GRADE 1 No Visible Damage',\n",
       " 'GRADE 1 No Visible Damage',\n",
       " 'GRADE 1 No Visible Damage',\n",
       " 'GRADE 1 No Visible Damage',\n",
       " 'GRADE 1 No Visible Damage',\n",
       " 'GRADE 1 No Visible Damage',\n",
       " 'GRADE 1 No Visible Damage',\n",
       " 'GRADE 1 No Visible Damage',\n",
       " 'GRADE 1 No Visible Damage',\n",
       " 'GRADE 1 No Visible Damage',\n",
       " 'GRADE 1 No Visible Damage',\n",
       " 'GRADE 1 No Visible Damage',\n",
       " 'GRADE 1 No Visible Damage',\n",
       " 'GRADE 1 No Visible Damage',\n",
       " 'GRADE 1 No Visible Damage',\n",
       " 'GRADE 1 No Visible Damage',\n",
       " 'GRADE 5 Destruction',\n",
       " 'GRADE 1 No Visible Damage',\n",
       " 'GRADE 1 No Visible Damage',\n",
       " 'GRADE 1 No Visible Damage',\n",
       " 'GRADE 4 Very Heavy Damage',\n",
       " 'GRADE 1 No Visible Damage',\n",
       " 'GRADE 1 No Visible Damage',\n",
       " 'GRADE 1 No Visible Damage',\n",
       " 'GRADE 1 No Visible Damage',\n",
       " 'GRADE 1 No Visible Damage',\n",
       " 'GRADE 1 No Visible Damage',\n",
       " 'GRADE 4 Very Heavy Damage',\n",
       " 'GRADE 1 No Visible Damage',\n",
       " 'GRADE 5 Destruction',\n",
       " 'GRADE 4 Very Heavy Damage',\n",
       " 'GRADE 1 No Visible Damage',\n",
       " 'GRADE 1 No Visible Damage',\n",
       " 'GRADE 1 No Visible Damage',\n",
       " 'GRADE 4 Very Heavy Damage',\n",
       " 'GRADE 1 No Visible Damage',\n",
       " 'GRADE 1 No Visible Damage',\n",
       " 'GRADE 1 No Visible Damage',\n",
       " 'GRADE 5 Destruction',\n",
       " 'GRADE 5 Destruction',\n",
       " 'GRADE 1 No Visible Damage',\n",
       " 'GRADE 1 No Visible Damage',\n",
       " 'GRADE 1 No Visible Damage',\n",
       " 'GRADE 1 No Visible Damage',\n",
       " 'GRADE 1 No Visible Damage',\n",
       " 'GRADE 1 No Visible Damage',\n",
       " 'GRADE 1 No Visible Damage',\n",
       " 'GRADE 1 No Visible Damage',\n",
       " 'GRADE 1 No Visible Damage',\n",
       " 'GRADE 1 No Visible Damage',\n",
       " 'GRADE 1 No Visible Damage',\n",
       " 'GRADE 1 No Visible Damage',\n",
       " 'GRADE 1 No Visible Damage',\n",
       " 'GRADE 1 No Visible Damage',\n",
       " 'GRADE 1 No Visible Damage',\n",
       " 'GRADE 1 No Visible Damage',\n",
       " 'GRADE 5 Destruction',\n",
       " 'GRADE 4 Very Heavy Damage',\n",
       " 'GRADE 4 Very Heavy Damage',\n",
       " 'GRADE 4 Very Heavy Damage',\n",
       " 'GRADE 1 No Visible Damage',\n",
       " 'GRADE 5 Destruction',\n",
       " 'GRADE 1 No Visible Damage',\n",
       " 'GRADE 1 No Visible Damage',\n",
       " 'GRADE 1 No Visible Damage',\n",
       " 'GRADE 4 Very Heavy Damage',\n",
       " 'GRADE 4 Very Heavy Damage',\n",
       " 'GRADE 4 Very Heavy Damage',\n",
       " 'GRADE 4 Very Heavy Damage',\n",
       " 'GRADE 5 Destruction',\n",
       " 'GRADE 4 Very Heavy Damage',\n",
       " 'GRADE 4 Very Heavy Damage',\n",
       " 'GRADE 5 Destruction',\n",
       " 'GRADE 1 No Visible Damage',\n",
       " 'GRADE 4 Very Heavy Damage',\n",
       " 'GRADE 4 Very Heavy Damage',\n",
       " 'GRADE 3 Substanial to Heavy Damage',\n",
       " 'GRADE 1 No Visible Damage',\n",
       " 'GRADE 1 No Visible Damage',\n",
       " 'GRADE 4 Very Heavy Damage',\n",
       " 'GRADE 4 Very Heavy Damage',\n",
       " 'GRADE 5 Destruction',\n",
       " 'GRADE 1 No Visible Damage',\n",
       " 'GRADE 1 No Visible Damage',\n",
       " 'GRADE 1 No Visible Damage',\n",
       " 'GRADE 3 Substanial to Heavy Damage',\n",
       " 'GRADE 1 No Visible Damage',\n",
       " 'GRADE 1 No Visible Damage',\n",
       " 'GRADE 1 No Visible Damage',\n",
       " 'GRADE 1 No Visible Damage',\n",
       " 'GRADE 1 No Visible Damage',\n",
       " 'GRADE 4 Very Heavy Damage',\n",
       " 'GRADE 1 No Visible Damage',\n",
       " 'GRADE 1 No Visible Damage',\n",
       " 'GRADE 1 No Visible Damage',\n",
       " 'GRADE 1 No Visible Damage',\n",
       " 'GRADE 1 No Visible Damage',\n",
       " 'GRADE 1 No Visible Damage',\n",
       " 'GRADE 1 No Visible Damage',\n",
       " 'GRADE 1 No Visible Damage',\n",
       " 'GRADE 1 No Visible Damage',\n",
       " 'GRADE 1 No Visible Damage',\n",
       " 'GRADE 1 No Visible Damage',\n",
       " 'GRADE 5 Destruction',\n",
       " 'GRADE 1 No Visible Damage',\n",
       " 'GRADE 1 No Visible Damage',\n",
       " 'GRADE 5 Destruction',\n",
       " 'GRADE 1 No Visible Damage',\n",
       " 'GRADE 1 No Visible Damage',\n",
       " 'GRADE 1 No Visible Damage',\n",
       " 'GRADE 1 No Visible Damage',\n",
       " 'GRADE 1 No Visible Damage',\n",
       " 'GRADE 1 No Visible Damage',\n",
       " 'GRADE 1 No Visible Damage',\n",
       " 'GRADE 1 No Visible Damage',\n",
       " 'GRADE 1 No Visible Damage',\n",
       " 'GRADE 1 No Visible Damage',\n",
       " 'GRADE 1 No Visible Damage',\n",
       " 'GRADE 1 No Visible Damage',\n",
       " 'GRADE 1 No Visible Damage',\n",
       " 'GRADE 1 No Visible Damage',\n",
       " 'GRADE 4 Very Heavy Damage',\n",
       " 'GRADE 1 No Visible Damage',\n",
       " 'GRADE 4 Very Heavy Damage',\n",
       " 'GRADE 1 No Visible Damage',\n",
       " 'GRADE 1 No Visible Damage',\n",
       " 'GRADE 1 No Visible Damage',\n",
       " 'GRADE 1 No Visible Damage',\n",
       " 'GRADE 3 Substanial to Heavy Damage',\n",
       " 'GRADE 5 Destruction',\n",
       " 'GRADE 5 Destruction',\n",
       " 'GRADE 1 No Visible Damage',\n",
       " 'GRADE 1 No Visible Damage',\n",
       " 'GRADE 4 Very Heavy Damage',\n",
       " 'GRADE 3 Substanial to Heavy Damage',\n",
       " 'GRADE 5 Destruction',\n",
       " 'GRADE 5 Destruction',\n",
       " 'GRADE 1 No Visible Damage',\n",
       " 'GRADE 1 No Visible Damage',\n",
       " 'GRADE 1 No Visible Damage',\n",
       " 'GRADE 1 No Visible Damage',\n",
       " 'GRADE 1 No Visible Damage',\n",
       " 'GRADE 1 No Visible Damage',\n",
       " 'GRADE 1 No Visible Damage',\n",
       " 'GRADE 4 Very Heavy Damage',\n",
       " 'GRADE 1 No Visible Damage',\n",
       " 'GRADE 1 No Visible Damage',\n",
       " 'GRADE 1 No Visible Damage',\n",
       " 'GRADE 3 Substanial to Heavy Damage',\n",
       " 'GRADE 4 Very Heavy Damage',\n",
       " 'GRADE 3 Substanial to Heavy Damage',\n",
       " 'GRADE 1 No Visible Damage',\n",
       " 'GRADE 1 No Visible Damage',\n",
       " 'GRADE 1 No Visible Damage',\n",
       " 'GRADE 4 Very Heavy Damage',\n",
       " 'GRADE 1 No Visible Damage',\n",
       " 'GRADE 4 Very Heavy Damage',\n",
       " 'GRADE 4 Very Heavy Damage',\n",
       " 'GRADE 5 Destruction',\n",
       " 'GRADE 4 Very Heavy Damage',\n",
       " 'GRADE 5 Destruction',\n",
       " 'GRADE 4 Very Heavy Damage',\n",
       " 'GRADE 4 Very Heavy Damage',\n",
       " 'GRADE 4 Very Heavy Damage',\n",
       " 'GRADE 4 Very Heavy Damage',\n",
       " 'GRADE 1 No Visible Damage',\n",
       " 'GRADE 1 No Visible Damage',\n",
       " 'GRADE 1 No Visible Damage',\n",
       " 'GRADE 1 No Visible Damage',\n",
       " 'GRADE 4 Very Heavy Damage',\n",
       " 'GRADE 1 No Visible Damage',\n",
       " 'GRADE 1 No Visible Damage',\n",
       " 'GRADE 1 No Visible Damage',\n",
       " 'GRADE 1 No Visible Damage',\n",
       " 'GRADE 1 No Visible Damage',\n",
       " 'GRADE 5 Destruction',\n",
       " 'GRADE 1 No Visible Damage',\n",
       " 'GRADE 1 No Visible Damage',\n",
       " 'GRADE 1 No Visible Damage',\n",
       " 'GRADE 3 Substanial to Heavy Damage',\n",
       " 'GRADE 1 No Visible Damage',\n",
       " 'GRADE 1 No Visible Damage',\n",
       " 'GRADE 1 No Visible Damage',\n",
       " 'GRADE 1 No Visible Damage',\n",
       " 'GRADE 1 No Visible Damage',\n",
       " 'GRADE 1 No Visible Damage',\n",
       " 'GRADE 3 Substanial to Heavy Damage',\n",
       " 'GRADE 3 Substanial to Heavy Damage',\n",
       " 'GRADE 1 No Visible Damage',\n",
       " 'GRADE 4 Very Heavy Damage',\n",
       " 'GRADE 5 Destruction',\n",
       " 'GRADE 1 No Visible Damage',\n",
       " 'GRADE 1 No Visible Damage',\n",
       " 'GRADE 1 No Visible Damage',\n",
       " 'GRADE 5 Destruction',\n",
       " 'GRADE 5 Destruction',\n",
       " 'GRADE 1 No Visible Damage',\n",
       " 'GRADE 1 No Visible Damage',\n",
       " 'GRADE 3 Substanial to Heavy Damage',\n",
       " 'GRADE 3 Substanial to Heavy Damage',\n",
       " 'GRADE 1 No Visible Damage',\n",
       " 'GRADE 1 No Visible Damage',\n",
       " 'GRADE 4 Very Heavy Damage',\n",
       " 'GRADE 4 Very Heavy Damage',\n",
       " 'GRADE 3 Substanial to Heavy Damage',\n",
       " 'GRADE 5 Destruction',\n",
       " 'GRADE 4 Very Heavy Damage',\n",
       " 'GRADE 4 Very Heavy Damage',\n",
       " 'GRADE 1 No Visible Damage',\n",
       " 'GRADE 1 No Visible Damage',\n",
       " 'GRADE 5 Destruction',\n",
       " 'GRADE 1 No Visible Damage',\n",
       " 'GRADE 1 No Visible Damage',\n",
       " 'GRADE 1 No Visible Damage',\n",
       " 'GRADE 1 No Visible Damage',\n",
       " 'GRADE 4 Very Heavy Damage',\n",
       " 'GRADE 4 Very Heavy Damage',\n",
       " 'GRADE 4 Very Heavy Damage',\n",
       " 'GRADE 1 No Visible Damage',\n",
       " 'GRADE 1 No Visible Damage',\n",
       " 'GRADE 1 No Visible Damage',\n",
       " 'GRADE 1 No Visible Damage',\n",
       " 'GRADE 5 Destruction',\n",
       " 'GRADE 4 Very Heavy Damage',\n",
       " 'GRADE 1 No Visible Damage',\n",
       " 'GRADE 1 No Visible Damage',\n",
       " 'GRADE 1 No Visible Damage',\n",
       " 'GRADE 4 Very Heavy Damage',\n",
       " 'GRADE 1 No Visible Damage',\n",
       " 'GRADE 1 No Visible Damage',\n",
       " 'GRADE 4 Very Heavy Damage',\n",
       " 'GRADE 4 Very Heavy Damage',\n",
       " 'GRADE 5 Destruction',\n",
       " 'GRADE 1 No Visible Damage',\n",
       " 'GRADE 1 No Visible Damage',\n",
       " 'GRADE 1 No Visible Damage',\n",
       " 'GRADE 1 No Visible Damage',\n",
       " 'GRADE 1 No Visible Damage',\n",
       " 'GRADE 5 Destruction',\n",
       " 'GRADE 1 No Visible Damage',\n",
       " 'GRADE 1 No Visible Damage',\n",
       " 'GRADE 1 No Visible Damage',\n",
       " 'GRADE 1 No Visible Damage',\n",
       " 'GRADE 4 Very Heavy Damage',\n",
       " 'GRADE 1 No Visible Damage',\n",
       " 'GRADE 5 Destruction',\n",
       " 'GRADE 4 Very Heavy Damage',\n",
       " 'GRADE 5 Destruction',\n",
       " 'GRADE 4 Very Heavy Damage',\n",
       " 'GRADE 1 No Visible Damage',\n",
       " 'GRADE 1 No Visible Damage',\n",
       " 'GRADE 1 No Visible Damage',\n",
       " 'GRADE 1 No Visible Damage',\n",
       " 'GRADE 1 No Visible Damage',\n",
       " 'GRADE 1 No Visible Damage',\n",
       " 'GRADE 1 No Visible Damage',\n",
       " 'GRADE 1 No Visible Damage',\n",
       " 'GRADE 1 No Visible Damage',\n",
       " 'GRADE 1 No Visible Damage',\n",
       " 'GRADE 4 Very Heavy Damage',\n",
       " 'GRADE 1 No Visible Damage',\n",
       " 'GRADE 5 Destruction',\n",
       " 'GRADE 3 Substanial to Heavy Damage',\n",
       " 'GRADE 1 No Visible Damage',\n",
       " 'GRADE 1 No Visible Damage',\n",
       " 'GRADE 1 No Visible Damage',\n",
       " 'GRADE 1 No Visible Damage',\n",
       " 'GRADE 1 No Visible Damage',\n",
       " 'GRADE 4 Very Heavy Damage',\n",
       " 'GRADE 5 Destruction',\n",
       " 'GRADE 4 Very Heavy Damage',\n",
       " 'GRADE 1 No Visible Damage',\n",
       " 'GRADE 1 No Visible Damage',\n",
       " 'GRADE 1 No Visible Damage',\n",
       " 'GRADE 1 No Visible Damage',\n",
       " 'GRADE 1 No Visible Damage',\n",
       " 'GRADE 1 No Visible Damage',\n",
       " 'GRADE 1 No Visible Damage',\n",
       " 'GRADE 1 No Visible Damage',\n",
       " 'GRADE 1 No Visible Damage',\n",
       " 'GRADE 1 No Visible Damage',\n",
       " 'GRADE 1 No Visible Damage',\n",
       " 'GRADE 1 No Visible Damage',\n",
       " 'GRADE 1 No Visible Damage',\n",
       " 'GRADE 1 No Visible Damage',\n",
       " 'GRADE 4 Very Heavy Damage',\n",
       " 'GRADE 4 Very Heavy Damage',\n",
       " 'GRADE 4 Very Heavy Damage',\n",
       " 'GRADE 1 No Visible Damage',\n",
       " 'GRADE 1 No Visible Damage',\n",
       " 'GRADE 1 No Visible Damage',\n",
       " 'GRADE 1 No Visible Damage',\n",
       " 'GRADE 1 No Visible Damage',\n",
       " 'GRADE 1 No Visible Damage',\n",
       " 'GRADE 1 No Visible Damage',\n",
       " 'GRADE 1 No Visible Damage',\n",
       " 'GRADE 4 Very Heavy Damage',\n",
       " 'GRADE 5 Destruction',\n",
       " 'GRADE 4 Very Heavy Damage',\n",
       " 'GRADE 3 Substanial to Heavy Damage',\n",
       " 'GRADE 5 Destruction',\n",
       " 'GRADE 4 Very Heavy Damage',\n",
       " 'GRADE 1 No Visible Damage',\n",
       " 'GRADE 1 No Visible Damage',\n",
       " 'GRADE 1 No Visible Damage',\n",
       " 'GRADE 5 Destruction',\n",
       " 'GRADE 4 Very Heavy Damage',\n",
       " 'GRADE 4 Very Heavy Damage',\n",
       " 'GRADE 1 No Visible Damage',\n",
       " 'GRADE 5 Destruction',\n",
       " 'GRADE 5 Destruction',\n",
       " 'GRADE 1 No Visible Damage',\n",
       " 'GRADE 1 No Visible Damage',\n",
       " 'GRADE 1 No Visible Damage',\n",
       " 'GRADE 1 No Visible Damage',\n",
       " 'GRADE 1 No Visible Damage',\n",
       " 'GRADE 1 No Visible Damage',\n",
       " 'GRADE 1 No Visible Damage',\n",
       " 'GRADE 1 No Visible Damage',\n",
       " 'GRADE 1 No Visible Damage',\n",
       " 'GRADE 1 No Visible Damage',\n",
       " 'GRADE 4 Very Heavy Damage',\n",
       " 'GRADE 1 No Visible Damage',\n",
       " 'GRADE 4 Very Heavy Damage',\n",
       " 'GRADE 4 Very Heavy Damage',\n",
       " 'GRADE 4 Very Heavy Damage',\n",
       " 'GRADE 5 Destruction',\n",
       " 'GRADE 5 Destruction',\n",
       " 'GRADE 4 Very Heavy Damage',\n",
       " 'GRADE 4 Very Heavy Damage',\n",
       " 'GRADE 5 Destruction',\n",
       " 'GRADE 5 Destruction',\n",
       " 'GRADE 1 No Visible Damage',\n",
       " 'GRADE 1 No Visible Damage',\n",
       " 'GRADE 4 Very Heavy Damage',\n",
       " 'GRADE 4 Very Heavy Damage',\n",
       " 'GRADE 4 Very Heavy Damage',\n",
       " 'GRADE 5 Destruction',\n",
       " 'GRADE 4 Very Heavy Damage',\n",
       " 'GRADE 4 Very Heavy Damage',\n",
       " 'GRADE 5 Destruction',\n",
       " 'GRADE 1 No Visible Damage',\n",
       " 'GRADE 1 No Visible Damage',\n",
       " 'GRADE 4 Very Heavy Damage',\n",
       " 'GRADE 1 No Visible Damage',\n",
       " 'GRADE 5 Destruction',\n",
       " 'GRADE 5 Destruction',\n",
       " 'GRADE 5 Destruction',\n",
       " 'GRADE 4 Very Heavy Damage',\n",
       " 'GRADE 4 Very Heavy Damage',\n",
       " 'GRADE 4 Very Heavy Damage',\n",
       " 'GRADE 5 Destruction',\n",
       " 'GRADE 1 No Visible Damage',\n",
       " 'GRADE 4 Very Heavy Damage',\n",
       " 'GRADE 1 No Visible Damage',\n",
       " 'GRADE 4 Very Heavy Damage',\n",
       " 'GRADE 4 Very Heavy Damage',\n",
       " 'GRADE 4 Very Heavy Damage',\n",
       " 'GRADE 5 Destruction',\n",
       " 'GRADE 5 Destruction',\n",
       " 'GRADE 5 Destruction',\n",
       " 'GRADE 5 Destruction',\n",
       " 'GRADE 5 Destruction',\n",
       " 'GRADE 5 Destruction',\n",
       " 'GRADE 1 No Visible Damage',\n",
       " 'GRADE 1 No Visible Damage',\n",
       " 'GRADE 1 No Visible Damage',\n",
       " 'GRADE 4 Very Heavy Damage',\n",
       " 'GRADE 5 Destruction',\n",
       " 'GRADE 1 No Visible Damage',\n",
       " 'GRADE 1 No Visible Damage',\n",
       " 'GRADE 1 No Visible Damage',\n",
       " 'GRADE 1 No Visible Damage',\n",
       " 'GRADE 1 No Visible Damage',\n",
       " 'GRADE 1 No Visible Damage',\n",
       " 'GRADE 1 No Visible Damage',\n",
       " 'GRADE 4 Very Heavy Damage',\n",
       " 'GRADE 1 No Visible Damage',\n",
       " 'GRADE 1 No Visible Damage',\n",
       " 'GRADE 5 Destruction',\n",
       " 'GRADE 5 Destruction',\n",
       " 'GRADE 5 Destruction',\n",
       " 'GRADE 1 No Visible Damage',\n",
       " 'GRADE 5 Destruction',\n",
       " 'GRADE 1 No Visible Damage',\n",
       " 'GRADE 5 Destruction',\n",
       " 'GRADE 1 No Visible Damage',\n",
       " 'GRADE 1 No Visible Damage',\n",
       " 'GRADE 5 Destruction',\n",
       " 'GRADE 4 Very Heavy Damage',\n",
       " 'GRADE 5 Destruction',\n",
       " 'GRADE 5 Destruction',\n",
       " 'GRADE 5 Destruction',\n",
       " 'GRADE 4 Very Heavy Damage',\n",
       " 'GRADE 5 Destruction',\n",
       " 'GRADE 3 Substanial to Heavy Damage',\n",
       " 'GRADE 4 Very Heavy Damage',\n",
       " 'GRADE 4 Very Heavy Damage',\n",
       " 'GRADE 5 Destruction',\n",
       " 'GRADE 1 No Visible Damage',\n",
       " 'GRADE 1 No Visible Damage',\n",
       " 'GRADE 1 No Visible Damage',\n",
       " 'GRADE 1 No Visible Damage',\n",
       " 'GRADE 1 No Visible Damage',\n",
       " 'GRADE 1 No Visible Damage',\n",
       " 'GRADE 1 No Visible Damage',\n",
       " 'GRADE 1 No Visible Damage',\n",
       " 'GRADE 4 Very Heavy Damage',\n",
       " 'GRADE 1 No Visible Damage',\n",
       " 'GRADE 4 Very Heavy Damage',\n",
       " 'GRADE 5 Destruction',\n",
       " 'GRADE 5 Destruction',\n",
       " 'GRADE 5 Destruction',\n",
       " 'GRADE 1 No Visible Damage',\n",
       " 'GRADE 1 No Visible Damage',\n",
       " 'GRADE 1 No Visible Damage',\n",
       " 'GRADE 4 Very Heavy Damage',\n",
       " 'GRADE 4 Very Heavy Damage',\n",
       " 'GRADE 5 Destruction',\n",
       " 'GRADE 1 No Visible Damage',\n",
       " 'GRADE 1 No Visible Damage',\n",
       " 'GRADE 4 Very Heavy Damage',\n",
       " 'GRADE 1 No Visible Damage',\n",
       " 'GRADE 1 No Visible Damage',\n",
       " 'GRADE 5 Destruction',\n",
       " 'GRADE 5 Destruction',\n",
       " 'GRADE 5 Destruction',\n",
       " 'GRADE 5 Destruction',\n",
       " 'GRADE 5 Destruction',\n",
       " 'GRADE 1 No Visible Damage',\n",
       " 'GRADE 1 No Visible Damage',\n",
       " 'GRADE 4 Very Heavy Damage',\n",
       " 'GRADE 1 No Visible Damage',\n",
       " 'GRADE 1 No Visible Damage',\n",
       " 'GRADE 4 Very Heavy Damage',\n",
       " 'GRADE 4 Very Heavy Damage',\n",
       " 'GRADE 5 Destruction',\n",
       " 'GRADE 5 Destruction',\n",
       " 'GRADE 1 No Visible Damage',\n",
       " 'GRADE 1 No Visible Damage',\n",
       " 'GRADE 1 No Visible Damage',\n",
       " 'GRADE 4 Very Heavy Damage',\n",
       " 'GRADE 1 No Visible Damage',\n",
       " 'GRADE 3 Substanial to Heavy Damage',\n",
       " 'GRADE 3 Substanial to Heavy Damage',\n",
       " 'GRADE 1 No Visible Damage',\n",
       " 'GRADE 1 No Visible Damage',\n",
       " 'GRADE 1 No Visible Damage',\n",
       " 'GRADE 1 No Visible Damage',\n",
       " 'GRADE 1 No Visible Damage',\n",
       " 'GRADE 4 Very Heavy Damage',\n",
       " 'GRADE 1 No Visible Damage',\n",
       " 'GRADE 1 No Visible Damage',\n",
       " 'GRADE 1 No Visible Damage',\n",
       " 'GRADE 1 No Visible Damage',\n",
       " 'GRADE 1 No Visible Damage',\n",
       " 'GRADE 1 No Visible Damage',\n",
       " 'GRADE 5 Destruction',\n",
       " 'GRADE 4 Very Heavy Damage',\n",
       " 'GRADE 5 Destruction',\n",
       " 'GRADE 5 Destruction',\n",
       " 'GRADE 5 Destruction',\n",
       " 'GRADE 4 Very Heavy Damage',\n",
       " 'GRADE 4 Very Heavy Damage',\n",
       " 'GRADE 1 No Visible Damage',\n",
       " 'GRADE 1 No Visible Damage',\n",
       " 'GRADE 1 No Visible Damage',\n",
       " 'GRADE 1 No Visible Damage',\n",
       " 'GRADE 1 No Visible Damage',\n",
       " 'GRADE 1 No Visible Damage',\n",
       " 'GRADE 4 Very Heavy Damage',\n",
       " 'GRADE 3 Substanial to Heavy Damage',\n",
       " 'GRADE 1 No Visible Damage',\n",
       " 'GRADE 5 Destruction',\n",
       " 'GRADE 5 Destruction',\n",
       " 'GRADE 4 Very Heavy Damage',\n",
       " 'GRADE 5 Destruction',\n",
       " 'GRADE 5 Destruction',\n",
       " 'GRADE 5 Destruction',\n",
       " 'GRADE 5 Destruction',\n",
       " 'GRADE 5 Destruction',\n",
       " 'GRADE 5 Destruction',\n",
       " 'GRADE 1 No Visible Damage',\n",
       " 'GRADE 1 No Visible Damage',\n",
       " 'GRADE 1 No Visible Damage',\n",
       " 'GRADE 1 No Visible Damage',\n",
       " 'GRADE 4 Very Heavy Damage',\n",
       " 'GRADE 4 Very Heavy Damage',\n",
       " 'GRADE 4 Very Heavy Damage',\n",
       " 'GRADE 1 No Visible Damage',\n",
       " 'GRADE 5 Destruction',\n",
       " 'GRADE 5 Destruction',\n",
       " 'GRADE 4 Very Heavy Damage',\n",
       " 'GRADE 5 Destruction',\n",
       " 'GRADE 4 Very Heavy Damage',\n",
       " 'GRADE 4 Very Heavy Damage',\n",
       " 'GRADE 1 No Visible Damage',\n",
       " 'GRADE 1 No Visible Damage',\n",
       " 'GRADE 1 No Visible Damage',\n",
       " 'GRADE 1 No Visible Damage',\n",
       " 'GRADE 1 No Visible Damage',\n",
       " 'GRADE 1 No Visible Damage',\n",
       " 'GRADE 1 No Visible Damage',\n",
       " 'GRADE 1 No Visible Damage',\n",
       " 'GRADE 1 No Visible Damage',\n",
       " 'GRADE 4 Very Heavy Damage',\n",
       " 'GRADE 4 Very Heavy Damage',\n",
       " 'GRADE 1 No Visible Damage',\n",
       " 'GRADE 1 No Visible Damage',\n",
       " 'GRADE 4 Very Heavy Damage',\n",
       " 'GRADE 1 No Visible Damage',\n",
       " 'GRADE 4 Very Heavy Damage',\n",
       " 'GRADE 4 Very Heavy Damage',\n",
       " 'GRADE 4 Very Heavy Damage',\n",
       " 'GRADE 1 No Visible Damage',\n",
       " 'GRADE 1 No Visible Damage',\n",
       " 'GRADE 1 No Visible Damage',\n",
       " 'GRADE 1 No Visible Damage',\n",
       " 'GRADE 1 No Visible Damage',\n",
       " 'GRADE 1 No Visible Damage',\n",
       " 'GRADE 1 No Visible Damage',\n",
       " 'GRADE 1 No Visible Damage',\n",
       " 'GRADE 1 No Visible Damage',\n",
       " 'GRADE 1 No Visible Damage',\n",
       " 'GRADE 1 No Visible Damage',\n",
       " 'GRADE 1 No Visible Damage',\n",
       " 'GRADE 1 No Visible Damage',\n",
       " 'GRADE 1 No Visible Damage',\n",
       " 'GRADE 1 No Visible Damage',\n",
       " 'GRADE 1 No Visible Damage',\n",
       " 'GRADE 1 No Visible Damage',\n",
       " 'GRADE 1 No Visible Damage',\n",
       " 'GRADE 1 No Visible Damage',\n",
       " 'GRADE 1 No Visible Damage',\n",
       " 'GRADE 4 Very Heavy Damage',\n",
       " 'GRADE 1 No Visible Damage',\n",
       " 'GRADE 1 No Visible Damage',\n",
       " 'GRADE 1 No Visible Damage',\n",
       " 'GRADE 1 No Visible Damage',\n",
       " 'GRADE 1 No Visible Damage',\n",
       " 'GRADE 1 No Visible Damage',\n",
       " 'GRADE 1 No Visible Damage',\n",
       " 'GRADE 1 No Visible Damage',\n",
       " 'GRADE 1 No Visible Damage',\n",
       " 'GRADE 1 No Visible Damage',\n",
       " 'GRADE 1 No Visible Damage',\n",
       " 'GRADE 1 No Visible Damage',\n",
       " 'GRADE 1 No Visible Damage',\n",
       " 'GRADE 1 No Visible Damage',\n",
       " 'GRADE 1 No Visible Damage',\n",
       " 'GRADE 1 No Visible Damage',\n",
       " 'GRADE 1 No Visible Damage',\n",
       " 'GRADE 3 Substanial to Heavy Damage',\n",
       " 'GRADE 5 Destruction',\n",
       " 'GRADE 5 Destruction',\n",
       " 'GRADE 5 Destruction',\n",
       " 'GRADE 1 No Visible Damage',\n",
       " 'GRADE 1 No Visible Damage',\n",
       " 'GRADE 1 No Visible Damage',\n",
       " 'GRADE 3 Substanial to Heavy Damage',\n",
       " 'GRADE 4 Very Heavy Damage',\n",
       " 'GRADE 4 Very Heavy Damage',\n",
       " 'GRADE 1 No Visible Damage',\n",
       " 'GRADE 5 Destruction',\n",
       " 'GRADE 1 No Visible Damage',\n",
       " 'GRADE 3 Substanial to Heavy Damage',\n",
       " 'GRADE 1 No Visible Damage',\n",
       " 'GRADE 1 No Visible Damage',\n",
       " 'GRADE 1 No Visible Damage',\n",
       " 'GRADE 1 No Visible Damage',\n",
       " 'GRADE 1 No Visible Damage',\n",
       " 'GRADE 1 No Visible Damage',\n",
       " 'GRADE 1 No Visible Damage',\n",
       " 'GRADE 1 No Visible Damage',\n",
       " 'GRADE 1 No Visible Damage',\n",
       " 'GRADE 1 No Visible Damage',\n",
       " 'GRADE 1 No Visible Damage',\n",
       " 'GRADE 1 No Visible Damage',\n",
       " 'GRADE 4 Very Heavy Damage',\n",
       " 'GRADE 1 No Visible Damage',\n",
       " 'GRADE 1 No Visible Damage',\n",
       " 'GRADE 4 Very Heavy Damage',\n",
       " 'GRADE 1 No Visible Damage',\n",
       " 'GRADE 1 No Visible Damage',\n",
       " 'GRADE 1 No Visible Damage',\n",
       " 'GRADE 1 No Visible Damage',\n",
       " 'GRADE 1 No Visible Damage',\n",
       " 'GRADE 1 No Visible Damage',\n",
       " 'GRADE 1 No Visible Damage',\n",
       " 'GRADE 1 No Visible Damage',\n",
       " 'GRADE 1 No Visible Damage',\n",
       " 'GRADE 5 Destruction',\n",
       " 'GRADE 1 No Visible Damage',\n",
       " 'GRADE 1 No Visible Damage',\n",
       " 'GRADE 1 No Visible Damage',\n",
       " 'GRADE 1 No Visible Damage',\n",
       " 'GRADE 1 No Visible Damage',\n",
       " 'GRADE 1 No Visible Damage',\n",
       " 'GRADE 1 No Visible Damage',\n",
       " 'GRADE 1 No Visible Damage',\n",
       " 'GRADE 1 No Visible Damage',\n",
       " 'GRADE 1 No Visible Damage',\n",
       " 'GRADE 1 No Visible Damage',\n",
       " 'GRADE 1 No Visible Damage',\n",
       " 'GRADE 1 No Visible Damage',\n",
       " 'GRADE 1 No Visible Damage',\n",
       " 'GRADE 1 No Visible Damage',\n",
       " 'GRADE 1 No Visible Damage',\n",
       " 'GRADE 1 No Visible Damage',\n",
       " 'GRADE 1 No Visible Damage',\n",
       " 'GRADE 5 Destruction',\n",
       " 'GRADE 5 Destruction',\n",
       " 'GRADE 1 No Visible Damage',\n",
       " 'GRADE 1 No Visible Damage',\n",
       " 'GRADE 1 No Visible Damage',\n",
       " 'GRADE 1 No Visible Damage',\n",
       " 'GRADE 1 No Visible Damage',\n",
       " 'GRADE 1 No Visible Damage',\n",
       " 'GRADE 1 No Visible Damage',\n",
       " 'GRADE 1 No Visible Damage',\n",
       " 'GRADE 1 No Visible Damage',\n",
       " 'GRADE 1 No Visible Damage',\n",
       " 'GRADE 1 No Visible Damage',\n",
       " 'GRADE 1 No Visible Damage',\n",
       " 'GRADE 1 No Visible Damage',\n",
       " 'GRADE 1 No Visible Damage',\n",
       " 'GRADE 1 No Visible Damage',\n",
       " 'GRADE 1 No Visible Damage',\n",
       " 'GRADE 1 No Visible Damage',\n",
       " 'GRADE 1 No Visible Damage',\n",
       " 'GRADE 1 No Visible Damage',\n",
       " 'GRADE 1 No Visible Damage',\n",
       " 'GRADE 1 No Visible Damage',\n",
       " 'GRADE 1 No Visible Damage',\n",
       " 'GRADE 5 Destruction',\n",
       " 'GRADE 5 Destruction',\n",
       " 'GRADE 5 Destruction',\n",
       " 'GRADE 5 Destruction',\n",
       " 'GRADE 1 No Visible Damage',\n",
       " 'GRADE 1 No Visible Damage',\n",
       " 'GRADE 1 No Visible Damage',\n",
       " 'GRADE 1 No Visible Damage',\n",
       " 'GRADE 1 No Visible Damage',\n",
       " 'GRADE 1 No Visible Damage',\n",
       " 'GRADE 4 Very Heavy Damage',\n",
       " 'GRADE 1 No Visible Damage',\n",
       " 'GRADE 1 No Visible Damage',\n",
       " 'GRADE 1 No Visible Damage',\n",
       " 'GRADE 1 No Visible Damage',\n",
       " 'GRADE 1 No Visible Damage',\n",
       " 'GRADE 1 No Visible Damage',\n",
       " 'GRADE 1 No Visible Damage',\n",
       " 'GRADE 1 No Visible Damage',\n",
       " 'GRADE 1 No Visible Damage',\n",
       " 'GRADE 1 No Visible Damage',\n",
       " 'GRADE 1 No Visible Damage',\n",
       " 'GRADE 1 No Visible Damage',\n",
       " 'GRADE 1 No Visible Damage',\n",
       " 'GRADE 1 No Visible Damage',\n",
       " 'GRADE 1 No Visible Damage',\n",
       " 'GRADE 4 Very Heavy Damage',\n",
       " 'GRADE 1 No Visible Damage',\n",
       " 'GRADE 4 Very Heavy Damage',\n",
       " 'GRADE 1 No Visible Damage',\n",
       " 'GRADE 1 No Visible Damage',\n",
       " 'GRADE 1 No Visible Damage',\n",
       " 'GRADE 1 No Visible Damage',\n",
       " 'GRADE 4 Very Heavy Damage',\n",
       " 'GRADE 1 No Visible Damage',\n",
       " 'GRADE 4 Very Heavy Damage',\n",
       " 'GRADE 1 No Visible Damage',\n",
       " 'GRADE 4 Very Heavy Damage',\n",
       " 'GRADE 1 No Visible Damage',\n",
       " 'GRADE 1 No Visible Damage',\n",
       " 'GRADE 1 No Visible Damage',\n",
       " 'GRADE 1 No Visible Damage',\n",
       " 'GRADE 1 No Visible Damage',\n",
       " 'GRADE 1 No Visible Damage',\n",
       " 'GRADE 1 No Visible Damage',\n",
       " 'GRADE 1 No Visible Damage',\n",
       " 'GRADE 1 No Visible Damage',\n",
       " 'GRADE 1 No Visible Damage',\n",
       " 'GRADE 4 Very Heavy Damage',\n",
       " 'GRADE 5 Destruction',\n",
       " 'GRADE 3 Substanial to Heavy Damage',\n",
       " 'GRADE 1 No Visible Damage',\n",
       " 'GRADE 1 No Visible Damage',\n",
       " 'GRADE 1 No Visible Damage',\n",
       " 'GRADE 1 No Visible Damage',\n",
       " 'GRADE 3 Substanial to Heavy Damage',\n",
       " 'GRADE 1 No Visible Damage',\n",
       " 'GRADE 1 No Visible Damage',\n",
       " 'GRADE 1 No Visible Damage',\n",
       " 'GRADE 1 No Visible Damage',\n",
       " 'GRADE 1 No Visible Damage',\n",
       " 'GRADE 1 No Visible Damage',\n",
       " 'GRADE 1 No Visible Damage',\n",
       " 'GRADE 1 No Visible Damage',\n",
       " 'GRADE 1 No Visible Damage',\n",
       " 'GRADE 1 No Visible Damage',\n",
       " 'GRADE 1 No Visible Damage',\n",
       " 'GRADE 1 No Visible Damage',\n",
       " 'GRADE 1 No Visible Damage',\n",
       " 'GRADE 1 No Visible Damage',\n",
       " 'GRADE 1 No Visible Damage',\n",
       " 'GRADE 1 No Visible Damage',\n",
       " 'GRADE 1 No Visible Damage',\n",
       " 'GRADE 1 No Visible Damage',\n",
       " 'GRADE 1 No Visible Damage',\n",
       " 'GRADE 1 No Visible Damage',\n",
       " 'GRADE 1 No Visible Damage',\n",
       " 'GRADE 1 No Visible Damage',\n",
       " 'GRADE 1 No Visible Damage',\n",
       " 'GRADE 5 Destruction',\n",
       " 'GRADE 1 No Visible Damage',\n",
       " 'GRADE 1 No Visible Damage',\n",
       " 'GRADE 1 No Visible Damage',\n",
       " 'GRADE 1 No Visible Damage',\n",
       " 'GRADE 4 Very Heavy Damage',\n",
       " 'GRADE 1 No Visible Damage',\n",
       " 'GRADE 1 No Visible Damage',\n",
       " 'GRADE 1 No Visible Damage',\n",
       " 'GRADE 1 No Visible Damage',\n",
       " 'GRADE 1 No Visible Damage',\n",
       " 'GRADE 1 No Visible Damage',\n",
       " 'GRADE 4 Very Heavy Damage',\n",
       " 'GRADE 1 No Visible Damage',\n",
       " 'GRADE 1 No Visible Damage',\n",
       " 'GRADE 1 No Visible Damage',\n",
       " 'GRADE 1 No Visible Damage',\n",
       " 'GRADE 1 No Visible Damage',\n",
       " 'GRADE 1 No Visible Damage',\n",
       " 'GRADE 1 No Visible Damage',\n",
       " 'GRADE 3 Substanial to Heavy Damage',\n",
       " 'GRADE 1 No Visible Damage',\n",
       " 'GRADE 1 No Visible Damage',\n",
       " 'GRADE 1 No Visible Damage',\n",
       " 'GRADE 1 No Visible Damage',\n",
       " 'GRADE 1 No Visible Damage',\n",
       " 'GRADE 1 No Visible Damage',\n",
       " 'GRADE 1 No Visible Damage',\n",
       " 'GRADE 1 No Visible Damage',\n",
       " 'GRADE 1 No Visible Damage',\n",
       " 'GRADE 1 No Visible Damage',\n",
       " 'GRADE 1 No Visible Damage',\n",
       " 'GRADE 1 No Visible Damage',\n",
       " 'GRADE 1 No Visible Damage',\n",
       " 'GRADE 1 No Visible Damage',\n",
       " 'GRADE 1 No Visible Damage',\n",
       " 'GRADE 1 No Visible Damage',\n",
       " 'GRADE 1 No Visible Damage',\n",
       " 'GRADE 1 No Visible Damage',\n",
       " 'GRADE 1 No Visible Damage',\n",
       " 'GRADE 1 No Visible Damage',\n",
       " 'GRADE 1 No Visible Damage',\n",
       " 'GRADE 1 No Visible Damage',\n",
       " 'GRADE 1 No Visible Damage',\n",
       " 'GRADE 1 No Visible Damage',\n",
       " 'GRADE 1 No Visible Damage',\n",
       " 'GRADE 1 No Visible Damage',\n",
       " 'GRADE 5 Destruction',\n",
       " 'GRADE 1 No Visible Damage',\n",
       " 'GRADE 1 No Visible Damage',\n",
       " 'GRADE 1 No Visible Damage',\n",
       " 'GRADE 1 No Visible Damage',\n",
       " ...]"
      ]
     },
     "execution_count": 193,
     "metadata": {},
     "output_type": "execute_result"
    }
   ],
   "source": [
    "damage_ids"
   ]
  },
  {
   "cell_type": "code",
   "execution_count": 194,
   "metadata": {
    "collapsed": false
   },
   "outputs": [],
   "source": [
    "damage_set=set(damage_ids)"
   ]
  },
  {
   "cell_type": "code",
   "execution_count": 195,
   "metadata": {
    "collapsed": false
   },
   "outputs": [
    {
     "data": {
      "text/plain": [
       "{'GRADE 1 No Visible Damage',\n",
       " 'GRADE 3 Substanial to Heavy Damage',\n",
       " 'GRADE 4 Very Heavy Damage',\n",
       " 'GRADE 5 Destruction',\n",
       " 'Possible Damage'}"
      ]
     },
     "execution_count": 195,
     "metadata": {},
     "output_type": "execute_result"
    }
   ],
   "source": [
    "damage_set"
   ]
  },
  {
   "cell_type": "code",
   "execution_count": 197,
   "metadata": {
    "collapsed": false
   },
   "outputs": [
    {
     "data": {
      "text/plain": [
       "Counter({'GRADE 1 No Visible Damage': 222253,\n",
       "         'GRADE 3 Substanial to Heavy Damage': 15737,\n",
       "         'GRADE 4 Very Heavy Damage': 24677,\n",
       "         'GRADE 5 Destruction': 31489,\n",
       "         'Possible Damage': 14})"
      ]
     },
     "execution_count": 197,
     "metadata": {},
     "output_type": "execute_result"
    }
   ],
   "source": [
    "from collections import Counter\n",
    "Counter(damage_ids)"
   ]
  },
  {
   "cell_type": "code",
   "execution_count": 215,
   "metadata": {
    "collapsed": false
   },
   "outputs": [
    {
     "data": {
      "text/plain": [
       "'{\"type\": \"Feature\", \"geometry\": {\"type\": \"Point\", \"coordinates\": [780293.1216000002, 2053933.0095]}, \"properties\": {\"OBJECTID\": 2, \"SensorDate\": \"2010/01/21\", \"ID_Com\": 111, \"NOM_SECTIO\": \"6\\\\u00e8me Turgeau\", \"Id_dep\": 1, \"id_Section\": \"111-01\", \"Departemen\": \"OUEST\", \"Commune\": \"PORT-AU-PRINCE\", \"No_section\": 6, \"Section_\": \"TURGEAU\", \"Population\": 14760, \"Site_ID\": \"Building (General)\", \"Damage_ID\": \"GRADE 1 No Visible Damage\", \"Sensor_ID\": \"Aerial Photography (Google)\", \"Analysis\": \"UNITAR/UNOSAT\", \"Validation\": \"Not yet field validated\", \"Landcover\": \"Industrial Zone\"}, \"id\": 1}'"
      ]
     },
     "execution_count": 215,
     "metadata": {},
     "output_type": "execute_result"
    }
   ],
   "source": [
    "feat1.ExportToJson()"
   ]
  },
  {
   "cell_type": "code",
   "execution_count": 219,
   "metadata": {
    "collapsed": false
   },
   "outputs": [
    {
     "data": {
      "text/plain": [
       "''"
      ]
     },
     "execution_count": 219,
     "metadata": {},
     "output_type": "execute_result"
    }
   ],
   "source": [
    "layer.GetGeometryColumn()"
   ]
  },
  {
   "cell_type": "code",
   "execution_count": 198,
   "metadata": {
    "collapsed": true
   },
   "outputs": [],
   "source": [
    "geom=feat1.GetGeometryRef()"
   ]
  },
  {
   "cell_type": "code",
   "execution_count": null,
   "metadata": {
    "collapsed": true
   },
   "outputs": [],
   "source": [
    "feat1.GetG"
   ]
  },
  {
   "cell_type": "code",
   "execution_count": 201,
   "metadata": {
    "collapsed": false
   },
   "outputs": [
    {
     "data": {
      "text/plain": [
       "2"
      ]
     },
     "execution_count": 201,
     "metadata": {},
     "output_type": "execute_result"
    }
   ],
   "source": [
    "geom.GetCoordinateDimension()"
   ]
  },
  {
   "cell_type": "code",
   "execution_count": 202,
   "metadata": {
    "collapsed": false
   },
   "outputs": [
    {
     "data": {
      "text/plain": [
       "0"
      ]
     },
     "execution_count": 202,
     "metadata": {},
     "output_type": "execute_result"
    }
   ],
   "source": [
    "geom.GetGeometryCount()"
   ]
  },
  {
   "cell_type": "code",
   "execution_count": 203,
   "metadata": {
    "collapsed": false
   },
   "outputs": [
    {
     "data": {
      "text/plain": [
       "'POINT'"
      ]
     },
     "execution_count": 203,
     "metadata": {},
     "output_type": "execute_result"
    }
   ],
   "source": [
    "geom.GetGeometryName()"
   ]
  },
  {
   "cell_type": "code",
   "execution_count": 204,
   "metadata": {
    "collapsed": false
   },
   "outputs": [
    {
     "data": {
      "text/plain": [
       "1"
      ]
     },
     "execution_count": 204,
     "metadata": {},
     "output_type": "execute_result"
    }
   ],
   "source": [
    "geom.GetGeometryType()"
   ]
  },
  {
   "cell_type": "code",
   "execution_count": 207,
   "metadata": {
    "collapsed": false
   },
   "outputs": [],
   "source": [
    "linear=geom.GetLinearGeometry()"
   ]
  },
  {
   "cell_type": "code",
   "execution_count": 209,
   "metadata": {
    "collapsed": false
   },
   "outputs": [
    {
     "data": {
      "text/plain": [
       "0.0"
      ]
     },
     "execution_count": 209,
     "metadata": {},
     "output_type": "execute_result"
    }
   ],
   "source": [
    "geom.Area()"
   ]
  },
  {
   "cell_type": "code",
   "execution_count": 210,
   "metadata": {
    "collapsed": false
   },
   "outputs": [
    {
     "data": {
      "text/plain": [
       "<osgeo.ogr.Geometry; proxy of <Swig Object of type 'OGRGeometryShadow *' at 0x7f7fe4b9aab0> >"
      ]
     },
     "execution_count": 210,
     "metadata": {},
     "output_type": "execute_result"
    }
   ],
   "source": [
    "geom.Boundary()"
   ]
  },
  {
   "cell_type": "code",
   "execution_count": 240,
   "metadata": {
    "collapsed": false
   },
   "outputs": [],
   "source": [
    "centroid = geom.Centroid()"
   ]
  },
  {
   "cell_type": "code",
   "execution_count": 241,
   "metadata": {
    "collapsed": false
   },
   "outputs": [
    {
     "data": {
      "text/plain": [
       "760322.2548000002"
      ]
     },
     "execution_count": 241,
     "metadata": {},
     "output_type": "execute_result"
    }
   ],
   "source": [
    "centroid.GetX()"
   ]
  },
  {
   "cell_type": "code",
   "execution_count": 242,
   "metadata": {
    "collapsed": false
   },
   "outputs": [
    {
     "data": {
      "text/plain": [
       "2017940.6239999998"
      ]
     },
     "execution_count": 242,
     "metadata": {},
     "output_type": "execute_result"
    }
   ],
   "source": [
    "centroid.GetY()"
   ]
  },
  {
   "cell_type": "code",
   "execution_count": 212,
   "metadata": {
    "collapsed": false
   },
   "outputs": [
    {
     "data": {
      "text/plain": [
       "0"
      ]
     },
     "execution_count": 212,
     "metadata": {},
     "output_type": "execute_result"
    }
   ],
   "source": [
    "geom.GetGeometryCount()"
   ]
  },
  {
   "cell_type": "code",
   "execution_count": 213,
   "metadata": {
    "collapsed": false
   },
   "outputs": [
    {
     "data": {
      "text/plain": [
       "1"
      ]
     },
     "execution_count": 213,
     "metadata": {},
     "output_type": "execute_result"
    }
   ],
   "source": [
    "geom.GetPointCount()"
   ]
  },
  {
   "cell_type": "code",
   "execution_count": 243,
   "metadata": {
    "collapsed": false
   },
   "outputs": [
    {
     "data": {
      "text/plain": [
       "(760322.2548000002, 2017940.6239999998, 0.0)"
      ]
     },
     "execution_count": 243,
     "metadata": {},
     "output_type": "execute_result"
    }
   ],
   "source": [
    "geom.GetPoint()"
   ]
  },
  {
   "cell_type": "code",
   "execution_count": 216,
   "metadata": {
    "collapsed": false
   },
   "outputs": [
    {
     "data": {
      "text/plain": [
       "780293.1216000002"
      ]
     },
     "execution_count": 216,
     "metadata": {},
     "output_type": "execute_result"
    }
   ],
   "source": [
    "geom.GetX()"
   ]
  },
  {
   "cell_type": "code",
   "execution_count": 217,
   "metadata": {
    "collapsed": false
   },
   "outputs": [
    {
     "data": {
      "text/plain": [
       "2053933.0095000006"
      ]
     },
     "execution_count": 217,
     "metadata": {},
     "output_type": "execute_result"
    }
   ],
   "source": [
    "geom.GetY()"
   ]
  },
  {
   "cell_type": "code",
   "execution_count": 221,
   "metadata": {
    "collapsed": false
   },
   "outputs": [],
   "source": [
    "geom_names=[]\n",
    "for i in range(0,layer.GetFeatureCount()):\n",
    "    feat = layer.GetFeature(i)\n",
    "    geom = feat.GetGeometryRef()\n",
    "    geom_names.append(geom.GetGeometryName())"
   ]
  },
  {
   "cell_type": "code",
   "execution_count": 222,
   "metadata": {
    "collapsed": false
   },
   "outputs": [
    {
     "data": {
      "text/plain": [
       "Counter({'POINT': 294170})"
      ]
     },
     "execution_count": 222,
     "metadata": {},
     "output_type": "execute_result"
    }
   ],
   "source": [
    "Counter(geom_names)"
   ]
  },
  {
   "cell_type": "markdown",
   "metadata": {},
   "source": [
    "## Filter features"
   ]
  },
  {
   "cell_type": "code",
   "execution_count": 260,
   "metadata": {
    "collapsed": false
   },
   "outputs": [
    {
     "data": {
      "text/plain": [
       "0"
      ]
     },
     "execution_count": 260,
     "metadata": {},
     "output_type": "execute_result"
    }
   ],
   "source": [
    "\n",
    "layer.SetAttributeFilter(\"Damage_ID = 'GRADE 1 No Visible Damage'\")"
   ]
  },
  {
   "cell_type": "code",
   "execution_count": 261,
   "metadata": {
    "collapsed": false
   },
   "outputs": [
    {
     "data": {
      "text/plain": [
       "222253"
      ]
     },
     "execution_count": 261,
     "metadata": {},
     "output_type": "execute_result"
    }
   ],
   "source": [
    "layer.GetFeatureCount()"
   ]
  },
  {
   "cell_type": "code",
   "execution_count": 262,
   "metadata": {
    "collapsed": false
   },
   "outputs": [],
   "source": [
    "damage1=[]\n",
    "#layer=shp_ds.GetLayer()\n",
    "i=0\n",
    "for feature in layer:\n",
    "    damage1.append(feature.GetField(\"Damage_ID\"))\n",
    "    i=i+1"
   ]
  },
  {
   "cell_type": "code",
   "execution_count": 263,
   "metadata": {
    "collapsed": false
   },
   "outputs": [
    {
     "data": {
      "text/plain": [
       "['GRADE 1 No Visible Damage',\n",
       " 'GRADE 1 No Visible Damage',\n",
       " 'GRADE 1 No Visible Damage',\n",
       " 'GRADE 1 No Visible Damage',\n",
       " 'GRADE 1 No Visible Damage',\n",
       " 'GRADE 1 No Visible Damage',\n",
       " 'GRADE 1 No Visible Damage',\n",
       " 'GRADE 1 No Visible Damage',\n",
       " 'GRADE 1 No Visible Damage',\n",
       " 'GRADE 1 No Visible Damage',\n",
       " 'GRADE 1 No Visible Damage',\n",
       " 'GRADE 1 No Visible Damage',\n",
       " 'GRADE 1 No Visible Damage',\n",
       " 'GRADE 1 No Visible Damage',\n",
       " 'GRADE 1 No Visible Damage',\n",
       " 'GRADE 1 No Visible Damage',\n",
       " 'GRADE 1 No Visible Damage',\n",
       " 'GRADE 1 No Visible Damage',\n",
       " 'GRADE 1 No Visible Damage',\n",
       " 'GRADE 1 No Visible Damage',\n",
       " 'GRADE 1 No Visible Damage',\n",
       " 'GRADE 1 No Visible Damage',\n",
       " 'GRADE 1 No Visible Damage',\n",
       " 'GRADE 1 No Visible Damage',\n",
       " 'GRADE 1 No Visible Damage',\n",
       " 'GRADE 1 No Visible Damage',\n",
       " 'GRADE 1 No Visible Damage',\n",
       " 'GRADE 1 No Visible Damage',\n",
       " 'GRADE 1 No Visible Damage',\n",
       " 'GRADE 1 No Visible Damage',\n",
       " 'GRADE 1 No Visible Damage',\n",
       " 'GRADE 1 No Visible Damage',\n",
       " 'GRADE 1 No Visible Damage',\n",
       " 'GRADE 1 No Visible Damage',\n",
       " 'GRADE 1 No Visible Damage',\n",
       " 'GRADE 1 No Visible Damage',\n",
       " 'GRADE 1 No Visible Damage',\n",
       " 'GRADE 1 No Visible Damage',\n",
       " 'GRADE 1 No Visible Damage',\n",
       " 'GRADE 1 No Visible Damage',\n",
       " 'GRADE 1 No Visible Damage',\n",
       " 'GRADE 1 No Visible Damage',\n",
       " 'GRADE 1 No Visible Damage',\n",
       " 'GRADE 1 No Visible Damage',\n",
       " 'GRADE 1 No Visible Damage',\n",
       " 'GRADE 1 No Visible Damage',\n",
       " 'GRADE 1 No Visible Damage',\n",
       " 'GRADE 1 No Visible Damage',\n",
       " 'GRADE 1 No Visible Damage',\n",
       " 'GRADE 1 No Visible Damage',\n",
       " 'GRADE 1 No Visible Damage',\n",
       " 'GRADE 1 No Visible Damage',\n",
       " 'GRADE 1 No Visible Damage',\n",
       " 'GRADE 1 No Visible Damage',\n",
       " 'GRADE 1 No Visible Damage',\n",
       " 'GRADE 1 No Visible Damage',\n",
       " 'GRADE 1 No Visible Damage',\n",
       " 'GRADE 1 No Visible Damage',\n",
       " 'GRADE 1 No Visible Damage',\n",
       " 'GRADE 1 No Visible Damage',\n",
       " 'GRADE 1 No Visible Damage',\n",
       " 'GRADE 1 No Visible Damage',\n",
       " 'GRADE 1 No Visible Damage',\n",
       " 'GRADE 1 No Visible Damage',\n",
       " 'GRADE 1 No Visible Damage',\n",
       " 'GRADE 1 No Visible Damage',\n",
       " 'GRADE 1 No Visible Damage',\n",
       " 'GRADE 1 No Visible Damage',\n",
       " 'GRADE 1 No Visible Damage',\n",
       " 'GRADE 1 No Visible Damage',\n",
       " 'GRADE 1 No Visible Damage',\n",
       " 'GRADE 1 No Visible Damage',\n",
       " 'GRADE 1 No Visible Damage',\n",
       " 'GRADE 1 No Visible Damage',\n",
       " 'GRADE 1 No Visible Damage',\n",
       " 'GRADE 1 No Visible Damage',\n",
       " 'GRADE 1 No Visible Damage',\n",
       " 'GRADE 1 No Visible Damage',\n",
       " 'GRADE 1 No Visible Damage',\n",
       " 'GRADE 1 No Visible Damage',\n",
       " 'GRADE 1 No Visible Damage',\n",
       " 'GRADE 1 No Visible Damage',\n",
       " 'GRADE 1 No Visible Damage',\n",
       " 'GRADE 1 No Visible Damage',\n",
       " 'GRADE 1 No Visible Damage',\n",
       " 'GRADE 1 No Visible Damage',\n",
       " 'GRADE 1 No Visible Damage',\n",
       " 'GRADE 1 No Visible Damage',\n",
       " 'GRADE 1 No Visible Damage',\n",
       " 'GRADE 1 No Visible Damage',\n",
       " 'GRADE 1 No Visible Damage',\n",
       " 'GRADE 1 No Visible Damage',\n",
       " 'GRADE 1 No Visible Damage',\n",
       " 'GRADE 1 No Visible Damage',\n",
       " 'GRADE 1 No Visible Damage',\n",
       " 'GRADE 1 No Visible Damage',\n",
       " 'GRADE 1 No Visible Damage',\n",
       " 'GRADE 1 No Visible Damage',\n",
       " 'GRADE 1 No Visible Damage',\n",
       " 'GRADE 1 No Visible Damage',\n",
       " 'GRADE 1 No Visible Damage',\n",
       " 'GRADE 1 No Visible Damage',\n",
       " 'GRADE 1 No Visible Damage',\n",
       " 'GRADE 1 No Visible Damage',\n",
       " 'GRADE 1 No Visible Damage',\n",
       " 'GRADE 1 No Visible Damage',\n",
       " 'GRADE 1 No Visible Damage',\n",
       " 'GRADE 1 No Visible Damage',\n",
       " 'GRADE 1 No Visible Damage',\n",
       " 'GRADE 1 No Visible Damage',\n",
       " 'GRADE 1 No Visible Damage',\n",
       " 'GRADE 1 No Visible Damage',\n",
       " 'GRADE 1 No Visible Damage',\n",
       " 'GRADE 1 No Visible Damage',\n",
       " 'GRADE 1 No Visible Damage',\n",
       " 'GRADE 1 No Visible Damage',\n",
       " 'GRADE 1 No Visible Damage',\n",
       " 'GRADE 1 No Visible Damage',\n",
       " 'GRADE 1 No Visible Damage',\n",
       " 'GRADE 1 No Visible Damage',\n",
       " 'GRADE 1 No Visible Damage',\n",
       " 'GRADE 1 No Visible Damage',\n",
       " 'GRADE 1 No Visible Damage',\n",
       " 'GRADE 1 No Visible Damage',\n",
       " 'GRADE 1 No Visible Damage',\n",
       " 'GRADE 1 No Visible Damage',\n",
       " 'GRADE 1 No Visible Damage',\n",
       " 'GRADE 1 No Visible Damage',\n",
       " 'GRADE 1 No Visible Damage',\n",
       " 'GRADE 1 No Visible Damage',\n",
       " 'GRADE 1 No Visible Damage',\n",
       " 'GRADE 1 No Visible Damage',\n",
       " 'GRADE 1 No Visible Damage',\n",
       " 'GRADE 1 No Visible Damage',\n",
       " 'GRADE 1 No Visible Damage',\n",
       " 'GRADE 1 No Visible Damage',\n",
       " 'GRADE 1 No Visible Damage',\n",
       " 'GRADE 1 No Visible Damage',\n",
       " 'GRADE 1 No Visible Damage',\n",
       " 'GRADE 1 No Visible Damage',\n",
       " 'GRADE 1 No Visible Damage',\n",
       " 'GRADE 1 No Visible Damage',\n",
       " 'GRADE 1 No Visible Damage',\n",
       " 'GRADE 1 No Visible Damage',\n",
       " 'GRADE 1 No Visible Damage',\n",
       " 'GRADE 1 No Visible Damage',\n",
       " 'GRADE 1 No Visible Damage',\n",
       " 'GRADE 1 No Visible Damage',\n",
       " 'GRADE 1 No Visible Damage',\n",
       " 'GRADE 1 No Visible Damage',\n",
       " 'GRADE 1 No Visible Damage',\n",
       " 'GRADE 1 No Visible Damage',\n",
       " 'GRADE 1 No Visible Damage',\n",
       " 'GRADE 1 No Visible Damage',\n",
       " 'GRADE 1 No Visible Damage',\n",
       " 'GRADE 1 No Visible Damage',\n",
       " 'GRADE 1 No Visible Damage',\n",
       " 'GRADE 1 No Visible Damage',\n",
       " 'GRADE 1 No Visible Damage',\n",
       " 'GRADE 1 No Visible Damage',\n",
       " 'GRADE 1 No Visible Damage',\n",
       " 'GRADE 1 No Visible Damage',\n",
       " 'GRADE 1 No Visible Damage',\n",
       " 'GRADE 1 No Visible Damage',\n",
       " 'GRADE 1 No Visible Damage',\n",
       " 'GRADE 1 No Visible Damage',\n",
       " 'GRADE 1 No Visible Damage',\n",
       " 'GRADE 1 No Visible Damage',\n",
       " 'GRADE 1 No Visible Damage',\n",
       " 'GRADE 1 No Visible Damage',\n",
       " 'GRADE 1 No Visible Damage',\n",
       " 'GRADE 1 No Visible Damage',\n",
       " 'GRADE 1 No Visible Damage',\n",
       " 'GRADE 1 No Visible Damage',\n",
       " 'GRADE 1 No Visible Damage',\n",
       " 'GRADE 1 No Visible Damage',\n",
       " 'GRADE 1 No Visible Damage',\n",
       " 'GRADE 1 No Visible Damage',\n",
       " 'GRADE 1 No Visible Damage',\n",
       " 'GRADE 1 No Visible Damage',\n",
       " 'GRADE 1 No Visible Damage',\n",
       " 'GRADE 1 No Visible Damage',\n",
       " 'GRADE 1 No Visible Damage',\n",
       " 'GRADE 1 No Visible Damage',\n",
       " 'GRADE 1 No Visible Damage',\n",
       " 'GRADE 1 No Visible Damage',\n",
       " 'GRADE 1 No Visible Damage',\n",
       " 'GRADE 1 No Visible Damage',\n",
       " 'GRADE 1 No Visible Damage',\n",
       " 'GRADE 1 No Visible Damage',\n",
       " 'GRADE 1 No Visible Damage',\n",
       " 'GRADE 1 No Visible Damage',\n",
       " 'GRADE 1 No Visible Damage',\n",
       " 'GRADE 1 No Visible Damage',\n",
       " 'GRADE 1 No Visible Damage',\n",
       " 'GRADE 1 No Visible Damage',\n",
       " 'GRADE 1 No Visible Damage',\n",
       " 'GRADE 1 No Visible Damage',\n",
       " 'GRADE 1 No Visible Damage',\n",
       " 'GRADE 1 No Visible Damage',\n",
       " 'GRADE 1 No Visible Damage',\n",
       " 'GRADE 1 No Visible Damage',\n",
       " 'GRADE 1 No Visible Damage',\n",
       " 'GRADE 1 No Visible Damage',\n",
       " 'GRADE 1 No Visible Damage',\n",
       " 'GRADE 1 No Visible Damage',\n",
       " 'GRADE 1 No Visible Damage',\n",
       " 'GRADE 1 No Visible Damage',\n",
       " 'GRADE 1 No Visible Damage',\n",
       " 'GRADE 1 No Visible Damage',\n",
       " 'GRADE 1 No Visible Damage',\n",
       " 'GRADE 1 No Visible Damage',\n",
       " 'GRADE 1 No Visible Damage',\n",
       " 'GRADE 1 No Visible Damage',\n",
       " 'GRADE 1 No Visible Damage',\n",
       " 'GRADE 1 No Visible Damage',\n",
       " 'GRADE 1 No Visible Damage',\n",
       " 'GRADE 1 No Visible Damage',\n",
       " 'GRADE 1 No Visible Damage',\n",
       " 'GRADE 1 No Visible Damage',\n",
       " 'GRADE 1 No Visible Damage',\n",
       " 'GRADE 1 No Visible Damage',\n",
       " 'GRADE 1 No Visible Damage',\n",
       " 'GRADE 1 No Visible Damage',\n",
       " 'GRADE 1 No Visible Damage',\n",
       " 'GRADE 1 No Visible Damage',\n",
       " 'GRADE 1 No Visible Damage',\n",
       " 'GRADE 1 No Visible Damage',\n",
       " 'GRADE 1 No Visible Damage',\n",
       " 'GRADE 1 No Visible Damage',\n",
       " 'GRADE 1 No Visible Damage',\n",
       " 'GRADE 1 No Visible Damage',\n",
       " 'GRADE 1 No Visible Damage',\n",
       " 'GRADE 1 No Visible Damage',\n",
       " 'GRADE 1 No Visible Damage',\n",
       " 'GRADE 1 No Visible Damage',\n",
       " 'GRADE 1 No Visible Damage',\n",
       " 'GRADE 1 No Visible Damage',\n",
       " 'GRADE 1 No Visible Damage',\n",
       " 'GRADE 1 No Visible Damage',\n",
       " 'GRADE 1 No Visible Damage',\n",
       " 'GRADE 1 No Visible Damage',\n",
       " 'GRADE 1 No Visible Damage',\n",
       " 'GRADE 1 No Visible Damage',\n",
       " 'GRADE 1 No Visible Damage',\n",
       " 'GRADE 1 No Visible Damage',\n",
       " 'GRADE 1 No Visible Damage',\n",
       " 'GRADE 1 No Visible Damage',\n",
       " 'GRADE 1 No Visible Damage',\n",
       " 'GRADE 1 No Visible Damage',\n",
       " 'GRADE 1 No Visible Damage',\n",
       " 'GRADE 1 No Visible Damage',\n",
       " 'GRADE 1 No Visible Damage',\n",
       " 'GRADE 1 No Visible Damage',\n",
       " 'GRADE 1 No Visible Damage',\n",
       " 'GRADE 1 No Visible Damage',\n",
       " 'GRADE 1 No Visible Damage',\n",
       " 'GRADE 1 No Visible Damage',\n",
       " 'GRADE 1 No Visible Damage',\n",
       " 'GRADE 1 No Visible Damage',\n",
       " 'GRADE 1 No Visible Damage',\n",
       " 'GRADE 1 No Visible Damage',\n",
       " 'GRADE 1 No Visible Damage',\n",
       " 'GRADE 1 No Visible Damage',\n",
       " 'GRADE 1 No Visible Damage',\n",
       " 'GRADE 1 No Visible Damage',\n",
       " 'GRADE 1 No Visible Damage',\n",
       " 'GRADE 1 No Visible Damage',\n",
       " 'GRADE 1 No Visible Damage',\n",
       " 'GRADE 1 No Visible Damage',\n",
       " 'GRADE 1 No Visible Damage',\n",
       " 'GRADE 1 No Visible Damage',\n",
       " 'GRADE 1 No Visible Damage',\n",
       " 'GRADE 1 No Visible Damage',\n",
       " 'GRADE 1 No Visible Damage',\n",
       " 'GRADE 1 No Visible Damage',\n",
       " 'GRADE 1 No Visible Damage',\n",
       " 'GRADE 1 No Visible Damage',\n",
       " 'GRADE 1 No Visible Damage',\n",
       " 'GRADE 1 No Visible Damage',\n",
       " 'GRADE 1 No Visible Damage',\n",
       " 'GRADE 1 No Visible Damage',\n",
       " 'GRADE 1 No Visible Damage',\n",
       " 'GRADE 1 No Visible Damage',\n",
       " 'GRADE 1 No Visible Damage',\n",
       " 'GRADE 1 No Visible Damage',\n",
       " 'GRADE 1 No Visible Damage',\n",
       " 'GRADE 1 No Visible Damage',\n",
       " 'GRADE 1 No Visible Damage',\n",
       " 'GRADE 1 No Visible Damage',\n",
       " 'GRADE 1 No Visible Damage',\n",
       " 'GRADE 1 No Visible Damage',\n",
       " 'GRADE 1 No Visible Damage',\n",
       " 'GRADE 1 No Visible Damage',\n",
       " 'GRADE 1 No Visible Damage',\n",
       " 'GRADE 1 No Visible Damage',\n",
       " 'GRADE 1 No Visible Damage',\n",
       " 'GRADE 1 No Visible Damage',\n",
       " 'GRADE 1 No Visible Damage',\n",
       " 'GRADE 1 No Visible Damage',\n",
       " 'GRADE 1 No Visible Damage',\n",
       " 'GRADE 1 No Visible Damage',\n",
       " 'GRADE 1 No Visible Damage',\n",
       " 'GRADE 1 No Visible Damage',\n",
       " 'GRADE 1 No Visible Damage',\n",
       " 'GRADE 1 No Visible Damage',\n",
       " 'GRADE 1 No Visible Damage',\n",
       " 'GRADE 1 No Visible Damage',\n",
       " 'GRADE 1 No Visible Damage',\n",
       " 'GRADE 1 No Visible Damage',\n",
       " 'GRADE 1 No Visible Damage',\n",
       " 'GRADE 1 No Visible Damage',\n",
       " 'GRADE 1 No Visible Damage',\n",
       " 'GRADE 1 No Visible Damage',\n",
       " 'GRADE 1 No Visible Damage',\n",
       " 'GRADE 1 No Visible Damage',\n",
       " 'GRADE 1 No Visible Damage',\n",
       " 'GRADE 1 No Visible Damage',\n",
       " 'GRADE 1 No Visible Damage',\n",
       " 'GRADE 1 No Visible Damage',\n",
       " 'GRADE 1 No Visible Damage',\n",
       " 'GRADE 1 No Visible Damage',\n",
       " 'GRADE 1 No Visible Damage',\n",
       " 'GRADE 1 No Visible Damage',\n",
       " 'GRADE 1 No Visible Damage',\n",
       " 'GRADE 1 No Visible Damage',\n",
       " 'GRADE 1 No Visible Damage',\n",
       " 'GRADE 1 No Visible Damage',\n",
       " 'GRADE 1 No Visible Damage',\n",
       " 'GRADE 1 No Visible Damage',\n",
       " 'GRADE 1 No Visible Damage',\n",
       " 'GRADE 1 No Visible Damage',\n",
       " 'GRADE 1 No Visible Damage',\n",
       " 'GRADE 1 No Visible Damage',\n",
       " 'GRADE 1 No Visible Damage',\n",
       " 'GRADE 1 No Visible Damage',\n",
       " 'GRADE 1 No Visible Damage',\n",
       " 'GRADE 1 No Visible Damage',\n",
       " 'GRADE 1 No Visible Damage',\n",
       " 'GRADE 1 No Visible Damage',\n",
       " 'GRADE 1 No Visible Damage',\n",
       " 'GRADE 1 No Visible Damage',\n",
       " 'GRADE 1 No Visible Damage',\n",
       " 'GRADE 1 No Visible Damage',\n",
       " 'GRADE 1 No Visible Damage',\n",
       " 'GRADE 1 No Visible Damage',\n",
       " 'GRADE 1 No Visible Damage',\n",
       " 'GRADE 1 No Visible Damage',\n",
       " 'GRADE 1 No Visible Damage',\n",
       " 'GRADE 1 No Visible Damage',\n",
       " 'GRADE 1 No Visible Damage',\n",
       " 'GRADE 1 No Visible Damage',\n",
       " 'GRADE 1 No Visible Damage',\n",
       " 'GRADE 1 No Visible Damage',\n",
       " 'GRADE 1 No Visible Damage',\n",
       " 'GRADE 1 No Visible Damage',\n",
       " 'GRADE 1 No Visible Damage',\n",
       " 'GRADE 1 No Visible Damage',\n",
       " 'GRADE 1 No Visible Damage',\n",
       " 'GRADE 1 No Visible Damage',\n",
       " 'GRADE 1 No Visible Damage',\n",
       " 'GRADE 1 No Visible Damage',\n",
       " 'GRADE 1 No Visible Damage',\n",
       " 'GRADE 1 No Visible Damage',\n",
       " 'GRADE 1 No Visible Damage',\n",
       " 'GRADE 1 No Visible Damage',\n",
       " 'GRADE 1 No Visible Damage',\n",
       " 'GRADE 1 No Visible Damage',\n",
       " 'GRADE 1 No Visible Damage',\n",
       " 'GRADE 1 No Visible Damage',\n",
       " 'GRADE 1 No Visible Damage',\n",
       " 'GRADE 1 No Visible Damage',\n",
       " 'GRADE 1 No Visible Damage',\n",
       " 'GRADE 1 No Visible Damage',\n",
       " 'GRADE 1 No Visible Damage',\n",
       " 'GRADE 1 No Visible Damage',\n",
       " 'GRADE 1 No Visible Damage',\n",
       " 'GRADE 1 No Visible Damage',\n",
       " 'GRADE 1 No Visible Damage',\n",
       " 'GRADE 1 No Visible Damage',\n",
       " 'GRADE 1 No Visible Damage',\n",
       " 'GRADE 1 No Visible Damage',\n",
       " 'GRADE 1 No Visible Damage',\n",
       " 'GRADE 1 No Visible Damage',\n",
       " 'GRADE 1 No Visible Damage',\n",
       " 'GRADE 1 No Visible Damage',\n",
       " 'GRADE 1 No Visible Damage',\n",
       " 'GRADE 1 No Visible Damage',\n",
       " 'GRADE 1 No Visible Damage',\n",
       " 'GRADE 1 No Visible Damage',\n",
       " 'GRADE 1 No Visible Damage',\n",
       " 'GRADE 1 No Visible Damage',\n",
       " 'GRADE 1 No Visible Damage',\n",
       " 'GRADE 1 No Visible Damage',\n",
       " 'GRADE 1 No Visible Damage',\n",
       " 'GRADE 1 No Visible Damage',\n",
       " 'GRADE 1 No Visible Damage',\n",
       " 'GRADE 1 No Visible Damage',\n",
       " 'GRADE 1 No Visible Damage',\n",
       " 'GRADE 1 No Visible Damage',\n",
       " 'GRADE 1 No Visible Damage',\n",
       " 'GRADE 1 No Visible Damage',\n",
       " 'GRADE 1 No Visible Damage',\n",
       " 'GRADE 1 No Visible Damage',\n",
       " 'GRADE 1 No Visible Damage',\n",
       " 'GRADE 1 No Visible Damage',\n",
       " 'GRADE 1 No Visible Damage',\n",
       " 'GRADE 1 No Visible Damage',\n",
       " 'GRADE 1 No Visible Damage',\n",
       " 'GRADE 1 No Visible Damage',\n",
       " 'GRADE 1 No Visible Damage',\n",
       " 'GRADE 1 No Visible Damage',\n",
       " 'GRADE 1 No Visible Damage',\n",
       " 'GRADE 1 No Visible Damage',\n",
       " 'GRADE 1 No Visible Damage',\n",
       " 'GRADE 1 No Visible Damage',\n",
       " 'GRADE 1 No Visible Damage',\n",
       " 'GRADE 1 No Visible Damage',\n",
       " 'GRADE 1 No Visible Damage',\n",
       " 'GRADE 1 No Visible Damage',\n",
       " 'GRADE 1 No Visible Damage',\n",
       " 'GRADE 1 No Visible Damage',\n",
       " 'GRADE 1 No Visible Damage',\n",
       " 'GRADE 1 No Visible Damage',\n",
       " 'GRADE 1 No Visible Damage',\n",
       " 'GRADE 1 No Visible Damage',\n",
       " 'GRADE 1 No Visible Damage',\n",
       " 'GRADE 1 No Visible Damage',\n",
       " 'GRADE 1 No Visible Damage',\n",
       " 'GRADE 1 No Visible Damage',\n",
       " 'GRADE 1 No Visible Damage',\n",
       " 'GRADE 1 No Visible Damage',\n",
       " 'GRADE 1 No Visible Damage',\n",
       " 'GRADE 1 No Visible Damage',\n",
       " 'GRADE 1 No Visible Damage',\n",
       " 'GRADE 1 No Visible Damage',\n",
       " 'GRADE 1 No Visible Damage',\n",
       " 'GRADE 1 No Visible Damage',\n",
       " 'GRADE 1 No Visible Damage',\n",
       " 'GRADE 1 No Visible Damage',\n",
       " 'GRADE 1 No Visible Damage',\n",
       " 'GRADE 1 No Visible Damage',\n",
       " 'GRADE 1 No Visible Damage',\n",
       " 'GRADE 1 No Visible Damage',\n",
       " 'GRADE 1 No Visible Damage',\n",
       " 'GRADE 1 No Visible Damage',\n",
       " 'GRADE 1 No Visible Damage',\n",
       " 'GRADE 1 No Visible Damage',\n",
       " 'GRADE 1 No Visible Damage',\n",
       " 'GRADE 1 No Visible Damage',\n",
       " 'GRADE 1 No Visible Damage',\n",
       " 'GRADE 1 No Visible Damage',\n",
       " 'GRADE 1 No Visible Damage',\n",
       " 'GRADE 1 No Visible Damage',\n",
       " 'GRADE 1 No Visible Damage',\n",
       " 'GRADE 1 No Visible Damage',\n",
       " 'GRADE 1 No Visible Damage',\n",
       " 'GRADE 1 No Visible Damage',\n",
       " 'GRADE 1 No Visible Damage',\n",
       " 'GRADE 1 No Visible Damage',\n",
       " 'GRADE 1 No Visible Damage',\n",
       " 'GRADE 1 No Visible Damage',\n",
       " 'GRADE 1 No Visible Damage',\n",
       " 'GRADE 1 No Visible Damage',\n",
       " 'GRADE 1 No Visible Damage',\n",
       " 'GRADE 1 No Visible Damage',\n",
       " 'GRADE 1 No Visible Damage',\n",
       " 'GRADE 1 No Visible Damage',\n",
       " 'GRADE 1 No Visible Damage',\n",
       " 'GRADE 1 No Visible Damage',\n",
       " 'GRADE 1 No Visible Damage',\n",
       " 'GRADE 1 No Visible Damage',\n",
       " 'GRADE 1 No Visible Damage',\n",
       " 'GRADE 1 No Visible Damage',\n",
       " 'GRADE 1 No Visible Damage',\n",
       " 'GRADE 1 No Visible Damage',\n",
       " 'GRADE 1 No Visible Damage',\n",
       " 'GRADE 1 No Visible Damage',\n",
       " 'GRADE 1 No Visible Damage',\n",
       " 'GRADE 1 No Visible Damage',\n",
       " 'GRADE 1 No Visible Damage',\n",
       " 'GRADE 1 No Visible Damage',\n",
       " 'GRADE 1 No Visible Damage',\n",
       " 'GRADE 1 No Visible Damage',\n",
       " 'GRADE 1 No Visible Damage',\n",
       " 'GRADE 1 No Visible Damage',\n",
       " 'GRADE 1 No Visible Damage',\n",
       " 'GRADE 1 No Visible Damage',\n",
       " 'GRADE 1 No Visible Damage',\n",
       " 'GRADE 1 No Visible Damage',\n",
       " 'GRADE 1 No Visible Damage',\n",
       " 'GRADE 1 No Visible Damage',\n",
       " 'GRADE 1 No Visible Damage',\n",
       " 'GRADE 1 No Visible Damage',\n",
       " 'GRADE 1 No Visible Damage',\n",
       " 'GRADE 1 No Visible Damage',\n",
       " 'GRADE 1 No Visible Damage',\n",
       " 'GRADE 1 No Visible Damage',\n",
       " 'GRADE 1 No Visible Damage',\n",
       " 'GRADE 1 No Visible Damage',\n",
       " 'GRADE 1 No Visible Damage',\n",
       " 'GRADE 1 No Visible Damage',\n",
       " 'GRADE 1 No Visible Damage',\n",
       " 'GRADE 1 No Visible Damage',\n",
       " 'GRADE 1 No Visible Damage',\n",
       " 'GRADE 1 No Visible Damage',\n",
       " 'GRADE 1 No Visible Damage',\n",
       " 'GRADE 1 No Visible Damage',\n",
       " 'GRADE 1 No Visible Damage',\n",
       " 'GRADE 1 No Visible Damage',\n",
       " 'GRADE 1 No Visible Damage',\n",
       " 'GRADE 1 No Visible Damage',\n",
       " 'GRADE 1 No Visible Damage',\n",
       " 'GRADE 1 No Visible Damage',\n",
       " 'GRADE 1 No Visible Damage',\n",
       " 'GRADE 1 No Visible Damage',\n",
       " 'GRADE 1 No Visible Damage',\n",
       " 'GRADE 1 No Visible Damage',\n",
       " 'GRADE 1 No Visible Damage',\n",
       " 'GRADE 1 No Visible Damage',\n",
       " 'GRADE 1 No Visible Damage',\n",
       " 'GRADE 1 No Visible Damage',\n",
       " 'GRADE 1 No Visible Damage',\n",
       " 'GRADE 1 No Visible Damage',\n",
       " 'GRADE 1 No Visible Damage',\n",
       " 'GRADE 1 No Visible Damage',\n",
       " 'GRADE 1 No Visible Damage',\n",
       " 'GRADE 1 No Visible Damage',\n",
       " 'GRADE 1 No Visible Damage',\n",
       " 'GRADE 1 No Visible Damage',\n",
       " 'GRADE 1 No Visible Damage',\n",
       " 'GRADE 1 No Visible Damage',\n",
       " 'GRADE 1 No Visible Damage',\n",
       " 'GRADE 1 No Visible Damage',\n",
       " 'GRADE 1 No Visible Damage',\n",
       " 'GRADE 1 No Visible Damage',\n",
       " 'GRADE 1 No Visible Damage',\n",
       " 'GRADE 1 No Visible Damage',\n",
       " 'GRADE 1 No Visible Damage',\n",
       " 'GRADE 1 No Visible Damage',\n",
       " 'GRADE 1 No Visible Damage',\n",
       " 'GRADE 1 No Visible Damage',\n",
       " 'GRADE 1 No Visible Damage',\n",
       " 'GRADE 1 No Visible Damage',\n",
       " 'GRADE 1 No Visible Damage',\n",
       " 'GRADE 1 No Visible Damage',\n",
       " 'GRADE 1 No Visible Damage',\n",
       " 'GRADE 1 No Visible Damage',\n",
       " 'GRADE 1 No Visible Damage',\n",
       " 'GRADE 1 No Visible Damage',\n",
       " 'GRADE 1 No Visible Damage',\n",
       " 'GRADE 1 No Visible Damage',\n",
       " 'GRADE 1 No Visible Damage',\n",
       " 'GRADE 1 No Visible Damage',\n",
       " 'GRADE 1 No Visible Damage',\n",
       " 'GRADE 1 No Visible Damage',\n",
       " 'GRADE 1 No Visible Damage',\n",
       " 'GRADE 1 No Visible Damage',\n",
       " 'GRADE 1 No Visible Damage',\n",
       " 'GRADE 1 No Visible Damage',\n",
       " 'GRADE 1 No Visible Damage',\n",
       " 'GRADE 1 No Visible Damage',\n",
       " 'GRADE 1 No Visible Damage',\n",
       " 'GRADE 1 No Visible Damage',\n",
       " 'GRADE 1 No Visible Damage',\n",
       " 'GRADE 1 No Visible Damage',\n",
       " 'GRADE 1 No Visible Damage',\n",
       " 'GRADE 1 No Visible Damage',\n",
       " 'GRADE 1 No Visible Damage',\n",
       " 'GRADE 1 No Visible Damage',\n",
       " 'GRADE 1 No Visible Damage',\n",
       " 'GRADE 1 No Visible Damage',\n",
       " 'GRADE 1 No Visible Damage',\n",
       " 'GRADE 1 No Visible Damage',\n",
       " 'GRADE 1 No Visible Damage',\n",
       " 'GRADE 1 No Visible Damage',\n",
       " 'GRADE 1 No Visible Damage',\n",
       " 'GRADE 1 No Visible Damage',\n",
       " 'GRADE 1 No Visible Damage',\n",
       " 'GRADE 1 No Visible Damage',\n",
       " 'GRADE 1 No Visible Damage',\n",
       " 'GRADE 1 No Visible Damage',\n",
       " 'GRADE 1 No Visible Damage',\n",
       " 'GRADE 1 No Visible Damage',\n",
       " 'GRADE 1 No Visible Damage',\n",
       " 'GRADE 1 No Visible Damage',\n",
       " 'GRADE 1 No Visible Damage',\n",
       " 'GRADE 1 No Visible Damage',\n",
       " 'GRADE 1 No Visible Damage',\n",
       " 'GRADE 1 No Visible Damage',\n",
       " 'GRADE 1 No Visible Damage',\n",
       " 'GRADE 1 No Visible Damage',\n",
       " 'GRADE 1 No Visible Damage',\n",
       " 'GRADE 1 No Visible Damage',\n",
       " 'GRADE 1 No Visible Damage',\n",
       " 'GRADE 1 No Visible Damage',\n",
       " 'GRADE 1 No Visible Damage',\n",
       " 'GRADE 1 No Visible Damage',\n",
       " 'GRADE 1 No Visible Damage',\n",
       " 'GRADE 1 No Visible Damage',\n",
       " 'GRADE 1 No Visible Damage',\n",
       " 'GRADE 1 No Visible Damage',\n",
       " 'GRADE 1 No Visible Damage',\n",
       " 'GRADE 1 No Visible Damage',\n",
       " 'GRADE 1 No Visible Damage',\n",
       " 'GRADE 1 No Visible Damage',\n",
       " 'GRADE 1 No Visible Damage',\n",
       " 'GRADE 1 No Visible Damage',\n",
       " 'GRADE 1 No Visible Damage',\n",
       " 'GRADE 1 No Visible Damage',\n",
       " 'GRADE 1 No Visible Damage',\n",
       " 'GRADE 1 No Visible Damage',\n",
       " 'GRADE 1 No Visible Damage',\n",
       " 'GRADE 1 No Visible Damage',\n",
       " 'GRADE 1 No Visible Damage',\n",
       " 'GRADE 1 No Visible Damage',\n",
       " 'GRADE 1 No Visible Damage',\n",
       " 'GRADE 1 No Visible Damage',\n",
       " 'GRADE 1 No Visible Damage',\n",
       " 'GRADE 1 No Visible Damage',\n",
       " 'GRADE 1 No Visible Damage',\n",
       " 'GRADE 1 No Visible Damage',\n",
       " 'GRADE 1 No Visible Damage',\n",
       " 'GRADE 1 No Visible Damage',\n",
       " 'GRADE 1 No Visible Damage',\n",
       " 'GRADE 1 No Visible Damage',\n",
       " 'GRADE 1 No Visible Damage',\n",
       " 'GRADE 1 No Visible Damage',\n",
       " 'GRADE 1 No Visible Damage',\n",
       " 'GRADE 1 No Visible Damage',\n",
       " 'GRADE 1 No Visible Damage',\n",
       " 'GRADE 1 No Visible Damage',\n",
       " 'GRADE 1 No Visible Damage',\n",
       " 'GRADE 1 No Visible Damage',\n",
       " 'GRADE 1 No Visible Damage',\n",
       " 'GRADE 1 No Visible Damage',\n",
       " 'GRADE 1 No Visible Damage',\n",
       " 'GRADE 1 No Visible Damage',\n",
       " 'GRADE 1 No Visible Damage',\n",
       " 'GRADE 1 No Visible Damage',\n",
       " 'GRADE 1 No Visible Damage',\n",
       " 'GRADE 1 No Visible Damage',\n",
       " 'GRADE 1 No Visible Damage',\n",
       " 'GRADE 1 No Visible Damage',\n",
       " 'GRADE 1 No Visible Damage',\n",
       " 'GRADE 1 No Visible Damage',\n",
       " 'GRADE 1 No Visible Damage',\n",
       " 'GRADE 1 No Visible Damage',\n",
       " 'GRADE 1 No Visible Damage',\n",
       " 'GRADE 1 No Visible Damage',\n",
       " 'GRADE 1 No Visible Damage',\n",
       " 'GRADE 1 No Visible Damage',\n",
       " 'GRADE 1 No Visible Damage',\n",
       " 'GRADE 1 No Visible Damage',\n",
       " 'GRADE 1 No Visible Damage',\n",
       " 'GRADE 1 No Visible Damage',\n",
       " 'GRADE 1 No Visible Damage',\n",
       " 'GRADE 1 No Visible Damage',\n",
       " 'GRADE 1 No Visible Damage',\n",
       " 'GRADE 1 No Visible Damage',\n",
       " 'GRADE 1 No Visible Damage',\n",
       " 'GRADE 1 No Visible Damage',\n",
       " 'GRADE 1 No Visible Damage',\n",
       " 'GRADE 1 No Visible Damage',\n",
       " 'GRADE 1 No Visible Damage',\n",
       " 'GRADE 1 No Visible Damage',\n",
       " 'GRADE 1 No Visible Damage',\n",
       " 'GRADE 1 No Visible Damage',\n",
       " 'GRADE 1 No Visible Damage',\n",
       " 'GRADE 1 No Visible Damage',\n",
       " 'GRADE 1 No Visible Damage',\n",
       " 'GRADE 1 No Visible Damage',\n",
       " 'GRADE 1 No Visible Damage',\n",
       " 'GRADE 1 No Visible Damage',\n",
       " 'GRADE 1 No Visible Damage',\n",
       " 'GRADE 1 No Visible Damage',\n",
       " 'GRADE 1 No Visible Damage',\n",
       " 'GRADE 1 No Visible Damage',\n",
       " 'GRADE 1 No Visible Damage',\n",
       " 'GRADE 1 No Visible Damage',\n",
       " 'GRADE 1 No Visible Damage',\n",
       " 'GRADE 1 No Visible Damage',\n",
       " 'GRADE 1 No Visible Damage',\n",
       " 'GRADE 1 No Visible Damage',\n",
       " 'GRADE 1 No Visible Damage',\n",
       " 'GRADE 1 No Visible Damage',\n",
       " 'GRADE 1 No Visible Damage',\n",
       " 'GRADE 1 No Visible Damage',\n",
       " 'GRADE 1 No Visible Damage',\n",
       " 'GRADE 1 No Visible Damage',\n",
       " 'GRADE 1 No Visible Damage',\n",
       " 'GRADE 1 No Visible Damage',\n",
       " 'GRADE 1 No Visible Damage',\n",
       " 'GRADE 1 No Visible Damage',\n",
       " 'GRADE 1 No Visible Damage',\n",
       " 'GRADE 1 No Visible Damage',\n",
       " 'GRADE 1 No Visible Damage',\n",
       " 'GRADE 1 No Visible Damage',\n",
       " 'GRADE 1 No Visible Damage',\n",
       " 'GRADE 1 No Visible Damage',\n",
       " 'GRADE 1 No Visible Damage',\n",
       " 'GRADE 1 No Visible Damage',\n",
       " 'GRADE 1 No Visible Damage',\n",
       " 'GRADE 1 No Visible Damage',\n",
       " 'GRADE 1 No Visible Damage',\n",
       " 'GRADE 1 No Visible Damage',\n",
       " 'GRADE 1 No Visible Damage',\n",
       " 'GRADE 1 No Visible Damage',\n",
       " 'GRADE 1 No Visible Damage',\n",
       " 'GRADE 1 No Visible Damage',\n",
       " 'GRADE 1 No Visible Damage',\n",
       " 'GRADE 1 No Visible Damage',\n",
       " 'GRADE 1 No Visible Damage',\n",
       " 'GRADE 1 No Visible Damage',\n",
       " 'GRADE 1 No Visible Damage',\n",
       " 'GRADE 1 No Visible Damage',\n",
       " 'GRADE 1 No Visible Damage',\n",
       " 'GRADE 1 No Visible Damage',\n",
       " 'GRADE 1 No Visible Damage',\n",
       " 'GRADE 1 No Visible Damage',\n",
       " 'GRADE 1 No Visible Damage',\n",
       " 'GRADE 1 No Visible Damage',\n",
       " 'GRADE 1 No Visible Damage',\n",
       " 'GRADE 1 No Visible Damage',\n",
       " 'GRADE 1 No Visible Damage',\n",
       " 'GRADE 1 No Visible Damage',\n",
       " 'GRADE 1 No Visible Damage',\n",
       " 'GRADE 1 No Visible Damage',\n",
       " 'GRADE 1 No Visible Damage',\n",
       " 'GRADE 1 No Visible Damage',\n",
       " 'GRADE 1 No Visible Damage',\n",
       " 'GRADE 1 No Visible Damage',\n",
       " 'GRADE 1 No Visible Damage',\n",
       " 'GRADE 1 No Visible Damage',\n",
       " 'GRADE 1 No Visible Damage',\n",
       " 'GRADE 1 No Visible Damage',\n",
       " 'GRADE 1 No Visible Damage',\n",
       " 'GRADE 1 No Visible Damage',\n",
       " 'GRADE 1 No Visible Damage',\n",
       " 'GRADE 1 No Visible Damage',\n",
       " 'GRADE 1 No Visible Damage',\n",
       " 'GRADE 1 No Visible Damage',\n",
       " 'GRADE 1 No Visible Damage',\n",
       " 'GRADE 1 No Visible Damage',\n",
       " 'GRADE 1 No Visible Damage',\n",
       " 'GRADE 1 No Visible Damage',\n",
       " 'GRADE 1 No Visible Damage',\n",
       " 'GRADE 1 No Visible Damage',\n",
       " 'GRADE 1 No Visible Damage',\n",
       " 'GRADE 1 No Visible Damage',\n",
       " 'GRADE 1 No Visible Damage',\n",
       " 'GRADE 1 No Visible Damage',\n",
       " 'GRADE 1 No Visible Damage',\n",
       " 'GRADE 1 No Visible Damage',\n",
       " 'GRADE 1 No Visible Damage',\n",
       " 'GRADE 1 No Visible Damage',\n",
       " 'GRADE 1 No Visible Damage',\n",
       " 'GRADE 1 No Visible Damage',\n",
       " 'GRADE 1 No Visible Damage',\n",
       " 'GRADE 1 No Visible Damage',\n",
       " 'GRADE 1 No Visible Damage',\n",
       " 'GRADE 1 No Visible Damage',\n",
       " 'GRADE 1 No Visible Damage',\n",
       " 'GRADE 1 No Visible Damage',\n",
       " 'GRADE 1 No Visible Damage',\n",
       " 'GRADE 1 No Visible Damage',\n",
       " 'GRADE 1 No Visible Damage',\n",
       " 'GRADE 1 No Visible Damage',\n",
       " 'GRADE 1 No Visible Damage',\n",
       " 'GRADE 1 No Visible Damage',\n",
       " 'GRADE 1 No Visible Damage',\n",
       " 'GRADE 1 No Visible Damage',\n",
       " 'GRADE 1 No Visible Damage',\n",
       " 'GRADE 1 No Visible Damage',\n",
       " 'GRADE 1 No Visible Damage',\n",
       " 'GRADE 1 No Visible Damage',\n",
       " 'GRADE 1 No Visible Damage',\n",
       " 'GRADE 1 No Visible Damage',\n",
       " 'GRADE 1 No Visible Damage',\n",
       " 'GRADE 1 No Visible Damage',\n",
       " 'GRADE 1 No Visible Damage',\n",
       " 'GRADE 1 No Visible Damage',\n",
       " 'GRADE 1 No Visible Damage',\n",
       " 'GRADE 1 No Visible Damage',\n",
       " 'GRADE 1 No Visible Damage',\n",
       " 'GRADE 1 No Visible Damage',\n",
       " 'GRADE 1 No Visible Damage',\n",
       " 'GRADE 1 No Visible Damage',\n",
       " 'GRADE 1 No Visible Damage',\n",
       " 'GRADE 1 No Visible Damage',\n",
       " 'GRADE 1 No Visible Damage',\n",
       " 'GRADE 1 No Visible Damage',\n",
       " 'GRADE 1 No Visible Damage',\n",
       " 'GRADE 1 No Visible Damage',\n",
       " 'GRADE 1 No Visible Damage',\n",
       " 'GRADE 1 No Visible Damage',\n",
       " 'GRADE 1 No Visible Damage',\n",
       " 'GRADE 1 No Visible Damage',\n",
       " 'GRADE 1 No Visible Damage',\n",
       " 'GRADE 1 No Visible Damage',\n",
       " 'GRADE 1 No Visible Damage',\n",
       " 'GRADE 1 No Visible Damage',\n",
       " 'GRADE 1 No Visible Damage',\n",
       " 'GRADE 1 No Visible Damage',\n",
       " 'GRADE 1 No Visible Damage',\n",
       " 'GRADE 1 No Visible Damage',\n",
       " 'GRADE 1 No Visible Damage',\n",
       " 'GRADE 1 No Visible Damage',\n",
       " 'GRADE 1 No Visible Damage',\n",
       " 'GRADE 1 No Visible Damage',\n",
       " 'GRADE 1 No Visible Damage',\n",
       " 'GRADE 1 No Visible Damage',\n",
       " 'GRADE 1 No Visible Damage',\n",
       " 'GRADE 1 No Visible Damage',\n",
       " 'GRADE 1 No Visible Damage',\n",
       " 'GRADE 1 No Visible Damage',\n",
       " 'GRADE 1 No Visible Damage',\n",
       " 'GRADE 1 No Visible Damage',\n",
       " 'GRADE 1 No Visible Damage',\n",
       " 'GRADE 1 No Visible Damage',\n",
       " 'GRADE 1 No Visible Damage',\n",
       " 'GRADE 1 No Visible Damage',\n",
       " 'GRADE 1 No Visible Damage',\n",
       " 'GRADE 1 No Visible Damage',\n",
       " 'GRADE 1 No Visible Damage',\n",
       " 'GRADE 1 No Visible Damage',\n",
       " 'GRADE 1 No Visible Damage',\n",
       " 'GRADE 1 No Visible Damage',\n",
       " 'GRADE 1 No Visible Damage',\n",
       " 'GRADE 1 No Visible Damage',\n",
       " 'GRADE 1 No Visible Damage',\n",
       " 'GRADE 1 No Visible Damage',\n",
       " 'GRADE 1 No Visible Damage',\n",
       " 'GRADE 1 No Visible Damage',\n",
       " 'GRADE 1 No Visible Damage',\n",
       " 'GRADE 1 No Visible Damage',\n",
       " 'GRADE 1 No Visible Damage',\n",
       " 'GRADE 1 No Visible Damage',\n",
       " 'GRADE 1 No Visible Damage',\n",
       " 'GRADE 1 No Visible Damage',\n",
       " 'GRADE 1 No Visible Damage',\n",
       " 'GRADE 1 No Visible Damage',\n",
       " 'GRADE 1 No Visible Damage',\n",
       " 'GRADE 1 No Visible Damage',\n",
       " 'GRADE 1 No Visible Damage',\n",
       " 'GRADE 1 No Visible Damage',\n",
       " 'GRADE 1 No Visible Damage',\n",
       " 'GRADE 1 No Visible Damage',\n",
       " 'GRADE 1 No Visible Damage',\n",
       " 'GRADE 1 No Visible Damage',\n",
       " 'GRADE 1 No Visible Damage',\n",
       " 'GRADE 1 No Visible Damage',\n",
       " 'GRADE 1 No Visible Damage',\n",
       " 'GRADE 1 No Visible Damage',\n",
       " 'GRADE 1 No Visible Damage',\n",
       " 'GRADE 1 No Visible Damage',\n",
       " 'GRADE 1 No Visible Damage',\n",
       " 'GRADE 1 No Visible Damage',\n",
       " 'GRADE 1 No Visible Damage',\n",
       " 'GRADE 1 No Visible Damage',\n",
       " 'GRADE 1 No Visible Damage',\n",
       " 'GRADE 1 No Visible Damage',\n",
       " 'GRADE 1 No Visible Damage',\n",
       " 'GRADE 1 No Visible Damage',\n",
       " 'GRADE 1 No Visible Damage',\n",
       " 'GRADE 1 No Visible Damage',\n",
       " 'GRADE 1 No Visible Damage',\n",
       " 'GRADE 1 No Visible Damage',\n",
       " 'GRADE 1 No Visible Damage',\n",
       " 'GRADE 1 No Visible Damage',\n",
       " 'GRADE 1 No Visible Damage',\n",
       " 'GRADE 1 No Visible Damage',\n",
       " 'GRADE 1 No Visible Damage',\n",
       " 'GRADE 1 No Visible Damage',\n",
       " 'GRADE 1 No Visible Damage',\n",
       " 'GRADE 1 No Visible Damage',\n",
       " 'GRADE 1 No Visible Damage',\n",
       " 'GRADE 1 No Visible Damage',\n",
       " 'GRADE 1 No Visible Damage',\n",
       " 'GRADE 1 No Visible Damage',\n",
       " 'GRADE 1 No Visible Damage',\n",
       " 'GRADE 1 No Visible Damage',\n",
       " 'GRADE 1 No Visible Damage',\n",
       " 'GRADE 1 No Visible Damage',\n",
       " 'GRADE 1 No Visible Damage',\n",
       " 'GRADE 1 No Visible Damage',\n",
       " 'GRADE 1 No Visible Damage',\n",
       " 'GRADE 1 No Visible Damage',\n",
       " 'GRADE 1 No Visible Damage',\n",
       " 'GRADE 1 No Visible Damage',\n",
       " 'GRADE 1 No Visible Damage',\n",
       " 'GRADE 1 No Visible Damage',\n",
       " 'GRADE 1 No Visible Damage',\n",
       " 'GRADE 1 No Visible Damage',\n",
       " 'GRADE 1 No Visible Damage',\n",
       " 'GRADE 1 No Visible Damage',\n",
       " 'GRADE 1 No Visible Damage',\n",
       " 'GRADE 1 No Visible Damage',\n",
       " 'GRADE 1 No Visible Damage',\n",
       " 'GRADE 1 No Visible Damage',\n",
       " 'GRADE 1 No Visible Damage',\n",
       " 'GRADE 1 No Visible Damage',\n",
       " 'GRADE 1 No Visible Damage',\n",
       " 'GRADE 1 No Visible Damage',\n",
       " 'GRADE 1 No Visible Damage',\n",
       " 'GRADE 1 No Visible Damage',\n",
       " 'GRADE 1 No Visible Damage',\n",
       " 'GRADE 1 No Visible Damage',\n",
       " 'GRADE 1 No Visible Damage',\n",
       " 'GRADE 1 No Visible Damage',\n",
       " 'GRADE 1 No Visible Damage',\n",
       " 'GRADE 1 No Visible Damage',\n",
       " 'GRADE 1 No Visible Damage',\n",
       " 'GRADE 1 No Visible Damage',\n",
       " 'GRADE 1 No Visible Damage',\n",
       " 'GRADE 1 No Visible Damage',\n",
       " 'GRADE 1 No Visible Damage',\n",
       " 'GRADE 1 No Visible Damage',\n",
       " 'GRADE 1 No Visible Damage',\n",
       " 'GRADE 1 No Visible Damage',\n",
       " 'GRADE 1 No Visible Damage',\n",
       " 'GRADE 1 No Visible Damage',\n",
       " 'GRADE 1 No Visible Damage',\n",
       " 'GRADE 1 No Visible Damage',\n",
       " 'GRADE 1 No Visible Damage',\n",
       " 'GRADE 1 No Visible Damage',\n",
       " 'GRADE 1 No Visible Damage',\n",
       " 'GRADE 1 No Visible Damage',\n",
       " 'GRADE 1 No Visible Damage',\n",
       " 'GRADE 1 No Visible Damage',\n",
       " 'GRADE 1 No Visible Damage',\n",
       " 'GRADE 1 No Visible Damage',\n",
       " 'GRADE 1 No Visible Damage',\n",
       " 'GRADE 1 No Visible Damage',\n",
       " 'GRADE 1 No Visible Damage',\n",
       " 'GRADE 1 No Visible Damage',\n",
       " 'GRADE 1 No Visible Damage',\n",
       " 'GRADE 1 No Visible Damage',\n",
       " 'GRADE 1 No Visible Damage',\n",
       " 'GRADE 1 No Visible Damage',\n",
       " 'GRADE 1 No Visible Damage',\n",
       " 'GRADE 1 No Visible Damage',\n",
       " 'GRADE 1 No Visible Damage',\n",
       " 'GRADE 1 No Visible Damage',\n",
       " 'GRADE 1 No Visible Damage',\n",
       " 'GRADE 1 No Visible Damage',\n",
       " 'GRADE 1 No Visible Damage',\n",
       " 'GRADE 1 No Visible Damage',\n",
       " 'GRADE 1 No Visible Damage',\n",
       " 'GRADE 1 No Visible Damage',\n",
       " 'GRADE 1 No Visible Damage',\n",
       " 'GRADE 1 No Visible Damage',\n",
       " 'GRADE 1 No Visible Damage',\n",
       " 'GRADE 1 No Visible Damage',\n",
       " 'GRADE 1 No Visible Damage',\n",
       " 'GRADE 1 No Visible Damage',\n",
       " 'GRADE 1 No Visible Damage',\n",
       " 'GRADE 1 No Visible Damage',\n",
       " 'GRADE 1 No Visible Damage',\n",
       " 'GRADE 1 No Visible Damage',\n",
       " 'GRADE 1 No Visible Damage',\n",
       " 'GRADE 1 No Visible Damage',\n",
       " 'GRADE 1 No Visible Damage',\n",
       " 'GRADE 1 No Visible Damage',\n",
       " 'GRADE 1 No Visible Damage',\n",
       " 'GRADE 1 No Visible Damage',\n",
       " 'GRADE 1 No Visible Damage',\n",
       " 'GRADE 1 No Visible Damage',\n",
       " 'GRADE 1 No Visible Damage',\n",
       " 'GRADE 1 No Visible Damage',\n",
       " 'GRADE 1 No Visible Damage',\n",
       " 'GRADE 1 No Visible Damage',\n",
       " 'GRADE 1 No Visible Damage',\n",
       " 'GRADE 1 No Visible Damage',\n",
       " 'GRADE 1 No Visible Damage',\n",
       " 'GRADE 1 No Visible Damage',\n",
       " 'GRADE 1 No Visible Damage',\n",
       " 'GRADE 1 No Visible Damage',\n",
       " 'GRADE 1 No Visible Damage',\n",
       " 'GRADE 1 No Visible Damage',\n",
       " 'GRADE 1 No Visible Damage',\n",
       " 'GRADE 1 No Visible Damage',\n",
       " 'GRADE 1 No Visible Damage',\n",
       " 'GRADE 1 No Visible Damage',\n",
       " 'GRADE 1 No Visible Damage',\n",
       " 'GRADE 1 No Visible Damage',\n",
       " 'GRADE 1 No Visible Damage',\n",
       " 'GRADE 1 No Visible Damage',\n",
       " 'GRADE 1 No Visible Damage',\n",
       " 'GRADE 1 No Visible Damage',\n",
       " 'GRADE 1 No Visible Damage',\n",
       " 'GRADE 1 No Visible Damage',\n",
       " 'GRADE 1 No Visible Damage',\n",
       " 'GRADE 1 No Visible Damage',\n",
       " 'GRADE 1 No Visible Damage',\n",
       " 'GRADE 1 No Visible Damage',\n",
       " 'GRADE 1 No Visible Damage',\n",
       " 'GRADE 1 No Visible Damage',\n",
       " 'GRADE 1 No Visible Damage',\n",
       " 'GRADE 1 No Visible Damage',\n",
       " ...]"
      ]
     },
     "execution_count": 263,
     "metadata": {},
     "output_type": "execute_result"
    }
   ],
   "source": [
    "damage1"
   ]
  },
  {
   "cell_type": "code",
   "execution_count": 264,
   "metadata": {
    "collapsed": false
   },
   "outputs": [
    {
     "name": "stdout",
     "output_type": "stream",
     "text": [
      "222253\n"
     ]
    }
   ],
   "source": [
    "print(i)"
   ]
  },
  {
   "cell_type": "markdown",
   "metadata": {},
   "source": [
    "### Spatial filter"
   ]
  },
  {
   "cell_type": "code",
   "execution_count": 265,
   "metadata": {
    "collapsed": true
   },
   "outputs": [],
   "source": [
    "wkt = \"POLYGON ((780293.1216000002 2053933.0095000006,780393.1216000002 2053933.0095000006,780593.1216000002 2054933.0095000006,780293.1216000002 2054933.0095000006))\"\n",
    "layer.SetSpatialFilter(ogr.CreateGeometryFromWkt(wkt))\n"
   ]
  },
  {
   "cell_type": "code",
   "execution_count": 276,
   "metadata": {
    "collapsed": true
   },
   "outputs": [],
   "source": [
    "def setSpatialFilter(layer, x1, x2, y1, y2):\n",
    "    wkt = \"POLYGON (({} {},{} {},{} {},{} {}))\".format(x1,y1, x1,y2, x2,y2, x2, y1)\n",
    "    print(wkt)\n",
    "    layer.SetSpatialFilter(ogr.CreateGeometryFromWkt(wkt))"
   ]
  },
  {
   "cell_type": "code",
   "execution_count": 277,
   "metadata": {
    "collapsed": true
   },
   "outputs": [],
   "source": [
    "#Extent = (724423.8898999998, 814769.2341999998, 2015975.4824, 2119997.0555000007)"
   ]
  },
  {
   "cell_type": "code",
   "execution_count": 280,
   "metadata": {
    "collapsed": false
   },
   "outputs": [
    {
     "name": "stdout",
     "output_type": "stream",
     "text": [
      "POLYGON ((780000 2050000,780000 2050050,780050 2050050,780050 2050000))\n"
     ]
    }
   ],
   "source": [
    "setSpatialFilter(layer, 780000, 780050, 2050000, 2050050)"
   ]
  },
  {
   "cell_type": "code",
   "execution_count": 281,
   "metadata": {
    "collapsed": false
   },
   "outputs": [
    {
     "data": {
      "text/plain": [
       "33"
      ]
     },
     "execution_count": 281,
     "metadata": {},
     "output_type": "execute_result"
    }
   ],
   "source": [
    "layer.GetFeatureCount()"
   ]
  },
  {
   "cell_type": "markdown",
   "metadata": {},
   "source": [
    "### Get layer capabilities"
   ]
  },
  {
   "cell_type": "code",
   "execution_count": 282,
   "metadata": {
    "collapsed": false
   },
   "outputs": [
    {
     "name": "stdout",
     "output_type": "stream",
     "text": [
      "Layer Capabilities:\n",
      "  RandomRead = True\n",
      "  SequentialWrite = False\n",
      "  RandomWrite = False\n",
      "  FastSpatialFilter = True\n",
      "  FastFeatureCount = False\n",
      "  FastGetExtent = True\n",
      "  CreateField = False\n",
      "  DeleteField = False\n",
      "  ReorderFields = False\n",
      "  AlterFieldDefn = False\n",
      "  Transactions = False\n",
      "  DeleteFeature = False\n",
      "  FastSetNextByIndex = False\n",
      "  StringsAsUTF8 = True\n",
      "  IgnoreFields = True\n"
     ]
    }
   ],
   "source": [
    "capabilities = [\n",
    "    ogr.OLCRandomRead,\n",
    "    ogr.OLCSequentialWrite,\n",
    "    ogr.OLCRandomWrite,\n",
    "    ogr.OLCFastSpatialFilter,\n",
    "    ogr.OLCFastFeatureCount,\n",
    "    ogr.OLCFastGetExtent,\n",
    "    ogr.OLCCreateField,\n",
    "    ogr.OLCDeleteField,\n",
    "    ogr.OLCReorderFields,\n",
    "    ogr.OLCAlterFieldDefn,\n",
    "    ogr.OLCTransactions,\n",
    "    ogr.OLCDeleteFeature,\n",
    "    ogr.OLCFastSetNextByIndex,\n",
    "    ogr.OLCStringsAsUTF8,\n",
    "    ogr.OLCIgnoreFields\n",
    "]\n",
    "\n",
    "print(\"Layer Capabilities:\")\n",
    "for cap in capabilities:\n",
    "    print(\"  %s = %s\" % (cap, layer.TestCapability(cap)))\n"
   ]
  },
  {
   "cell_type": "markdown",
   "metadata": {},
   "source": [
    "# Raster data"
   ]
  },
  {
   "cell_type": "code",
   "execution_count": 285,
   "metadata": {
    "collapsed": false
   },
   "outputs": [
    {
     "data": {
      "text/plain": [
       "{'AREA_OR_POINT': 'Point',\n",
       " 'TIFFTAG_RESOLUTIONUNIT': '1 (unitless)',\n",
       " 'TIFFTAG_XRESOLUTION': '0',\n",
       " 'TIFFTAG_YRESOLUTION': '0'}"
      ]
     },
     "execution_count": 285,
     "metadata": {},
     "output_type": "execute_result"
    }
   ],
   "source": [
    "rasterfile='/home/sravya/data/satellite/haiti/raster/EO1/EO1A0090472010015110P0_B01_L1T.TIF'\n",
    "from osgeo import gdal\n",
    "gtif = gdal.Open(rasterfile)\n",
    "gtif.GetMetadata()"
   ]
  },
  {
   "cell_type": "code",
   "execution_count": 286,
   "metadata": {
    "collapsed": false
   },
   "outputs": [
    {
     "data": {
      "text/plain": [
       "'/home/sravya/data/satellite/haiti/raster/EO1/EO1A0090472010015110P0_B01_L1T.TIF'"
      ]
     },
     "execution_count": 286,
     "metadata": {},
     "output_type": "execute_result"
    }
   ],
   "source": [
    "gtif.GetDescription()"
   ]
  },
  {
   "cell_type": "code",
   "execution_count": 287,
   "metadata": {
    "collapsed": false
   },
   "outputs": [
    {
     "data": {
      "text/plain": [
       "0"
      ]
     },
     "execution_count": 287,
     "metadata": {},
     "output_type": "execute_result"
    }
   ],
   "source": [
    "gtif.GetGCPCount()"
   ]
  },
  {
   "cell_type": "code",
   "execution_count": 288,
   "metadata": {
    "collapsed": false
   },
   "outputs": [
    {
     "data": {
      "text/plain": [
       "''"
      ]
     },
     "execution_count": 288,
     "metadata": {},
     "output_type": "execute_result"
    }
   ],
   "source": [
    "gtif.GetGCPProjection()"
   ]
  },
  {
   "cell_type": "code",
   "execution_count": 289,
   "metadata": {
    "collapsed": false
   },
   "outputs": [
    {
     "data": {
      "text/plain": [
       "()"
      ]
     },
     "execution_count": 289,
     "metadata": {},
     "output_type": "execute_result"
    }
   ],
   "source": [
    "gtif.GetGCPs()"
   ]
  },
  {
   "cell_type": "code",
   "execution_count": 290,
   "metadata": {
    "collapsed": false
   },
   "outputs": [
    {
     "data": {
      "text/plain": [
       "(751795.0, 10.0, 0.0, 2111405.0, 0.0, -10.0)"
      ]
     },
     "execution_count": 290,
     "metadata": {},
     "output_type": "execute_result"
    }
   ],
   "source": [
    "gtif.GetGeoTransform()"
   ]
  },
  {
   "cell_type": "code",
   "execution_count": 291,
   "metadata": {
    "collapsed": false
   },
   "outputs": [
    {
     "data": {
      "text/plain": [
       "1"
      ]
     },
     "execution_count": 291,
     "metadata": {},
     "output_type": "execute_result"
    }
   ],
   "source": [
    "gtif.RasterCount"
   ]
  },
  {
   "cell_type": "code",
   "execution_count": 353,
   "metadata": {
    "collapsed": false
   },
   "outputs": [
    {
     "data": {
      "text/plain": [
       "'PROJCS[\"WGS 84 / UTM zone 18N\",GEOGCS[\"WGS 84\",DATUM[\"WGS_1984\",SPHEROID[\"WGS 84\",6378137,298.257223563,AUTHORITY[\"EPSG\",\"7030\"]],AUTHORITY[\"EPSG\",\"6326\"]],PRIMEM[\"Greenwich\",0,AUTHORITY[\"EPSG\",\"8901\"]],UNIT[\"degree\",0.0174532925199433,AUTHORITY[\"EPSG\",\"9122\"]],AUTHORITY[\"EPSG\",\"4326\"]],PROJECTION[\"Transverse_Mercator\"],PARAMETER[\"latitude_of_origin\",0],PARAMETER[\"central_meridian\",-75],PARAMETER[\"scale_factor\",0.9996],PARAMETER[\"false_easting\",500000],PARAMETER[\"false_northing\",0],UNIT[\"metre\",1,AUTHORITY[\"EPSG\",\"9001\"]],AXIS[\"Easting\",EAST],AXIS[\"Northing\",NORTH],AUTHORITY[\"EPSG\",\"32618\"]]'"
      ]
     },
     "execution_count": 353,
     "metadata": {},
     "output_type": "execute_result"
    }
   ],
   "source": [
    "gtif.GetProjection()"
   ]
  },
  {
   "cell_type": "code",
   "execution_count": 352,
   "metadata": {
    "collapsed": false
   },
   "outputs": [
    {
     "data": {
      "text/plain": [
       "(6091, 13861)"
      ]
     },
     "execution_count": 352,
     "metadata": {},
     "output_type": "execute_result"
    }
   ],
   "source": [
    "gtif.RasterXSize, gtif.RasterYSize"
   ]
  },
  {
   "cell_type": "code",
   "execution_count": 332,
   "metadata": {
    "collapsed": false
   },
   "outputs": [
    {
     "data": {
      "text/plain": [
       "[]"
      ]
     },
     "execution_count": 332,
     "metadata": {},
     "output_type": "execute_result"
    }
   ],
   "source": [
    "gtif.GetSubDatasets()"
   ]
  },
  {
   "cell_type": "code",
   "execution_count": 329,
   "metadata": {
    "collapsed": false
   },
   "outputs": [
    {
     "data": {
      "text/plain": [
       "'PROJCS[\"WGS 84 / UTM zone 18N\",GEOGCS[\"WGS 84\",DATUM[\"WGS_1984\",SPHEROID[\"WGS 84\",6378137,298.257223563,AUTHORITY[\"EPSG\",\"7030\"]],AUTHORITY[\"EPSG\",\"6326\"]],PRIMEM[\"Greenwich\",0,AUTHORITY[\"EPSG\",\"8901\"]],UNIT[\"degree\",0.0174532925199433,AUTHORITY[\"EPSG\",\"9122\"]],AUTHORITY[\"EPSG\",\"4326\"]],PROJECTION[\"Transverse_Mercator\"],PARAMETER[\"latitude_of_origin\",0],PARAMETER[\"central_meridian\",-75],PARAMETER[\"scale_factor\",0.9996],PARAMETER[\"false_easting\",500000],PARAMETER[\"false_northing\",0],UNIT[\"metre\",1,AUTHORITY[\"EPSG\",\"9001\"]],AXIS[\"Easting\",EAST],AXIS[\"Northing\",NORTH],AUTHORITY[\"EPSG\",\"32618\"]]'"
      ]
     },
     "execution_count": 329,
     "metadata": {},
     "output_type": "execute_result"
    }
   ],
   "source": [
    "gtif.GetProjection()"
   ]
  },
  {
   "cell_type": "code",
   "execution_count": null,
   "metadata": {
    "collapsed": true
   },
   "outputs": [],
   "source": []
  },
  {
   "cell_type": "code",
   "execution_count": 294,
   "metadata": {
    "collapsed": true
   },
   "outputs": [],
   "source": [
    "band = gtif.GetRasterBand(1)"
   ]
  },
  {
   "cell_type": "code",
   "execution_count": 298,
   "metadata": {
    "collapsed": false
   },
   "outputs": [
    {
     "data": {
      "text/plain": [
       "0.0"
      ]
     },
     "execution_count": 298,
     "metadata": {},
     "output_type": "execute_result"
    }
   ],
   "source": [
    "band.GetMinimum()"
   ]
  },
  {
   "cell_type": "code",
   "execution_count": 334,
   "metadata": {
    "collapsed": false
   },
   "outputs": [
    {
     "data": {
      "text/plain": [
       "[6091, 1]"
      ]
     },
     "execution_count": 334,
     "metadata": {},
     "output_type": "execute_result"
    }
   ],
   "source": [
    "band.GetBlockSize()"
   ]
  },
  {
   "cell_type": "code",
   "execution_count": 335,
   "metadata": {
    "collapsed": false
   },
   "outputs": [
    {
     "data": {
      "text/plain": [
       "<osgeo.gdal.Band; proxy of <Swig Object of type 'GDALRasterBandShadow *' at 0x7f7fd9b432a0> >"
      ]
     },
     "execution_count": 335,
     "metadata": {},
     "output_type": "execute_result"
    }
   ],
   "source": [
    "band.GetMaskBand()"
   ]
  },
  {
   "cell_type": "code",
   "execution_count": 336,
   "metadata": {
    "collapsed": false
   },
   "outputs": [
    {
     "data": {
      "text/plain": [
       "0.0"
      ]
     },
     "execution_count": 336,
     "metadata": {},
     "output_type": "execute_result"
    }
   ],
   "source": [
    "band.GetOffset()"
   ]
  },
  {
   "cell_type": "code",
   "execution_count": 338,
   "metadata": {
    "collapsed": false
   },
   "outputs": [
    {
     "data": {
      "text/plain": [
       "0"
      ]
     },
     "execution_count": 338,
     "metadata": {},
     "output_type": "execute_result"
    }
   ],
   "source": [
    "band.GetOverviewCount()"
   ]
  },
  {
   "cell_type": "code",
   "execution_count": 339,
   "metadata": {
    "collapsed": false
   },
   "outputs": [
    {
     "data": {
      "text/plain": [
       "(670.5199409016161, 844.0635901387769)"
      ]
     },
     "execution_count": 339,
     "metadata": {},
     "output_type": "execute_result"
    }
   ],
   "source": [
    "band.ComputeBandStats()"
   ]
  },
  {
   "cell_type": "code",
   "execution_count": 341,
   "metadata": {
    "collapsed": false
   },
   "outputs": [
    {
     "data": {
      "text/plain": [
       "3"
      ]
     },
     "execution_count": 341,
     "metadata": {},
     "output_type": "execute_result"
    }
   ],
   "source": [
    "band.DataType"
   ]
  },
  {
   "cell_type": "code",
   "execution_count": 343,
   "metadata": {
    "collapsed": false
   },
   "outputs": [],
   "source": [
    "dt = band.GetDataset()"
   ]
  },
  {
   "cell_type": "code",
   "execution_count": 346,
   "metadata": {
    "collapsed": false
   },
   "outputs": [
    {
     "data": {
      "text/plain": [
       "1"
      ]
     },
     "execution_count": 346,
     "metadata": {},
     "output_type": "execute_result"
    }
   ],
   "source": [
    "dt.RasterCount"
   ]
  },
  {
   "cell_type": "code",
   "execution_count": 348,
   "metadata": {
    "collapsed": true
   },
   "outputs": [],
   "source": [
    "rat = band.GetDefaultRAT()"
   ]
  },
  {
   "cell_type": "code",
   "execution_count": 350,
   "metadata": {
    "collapsed": true
   },
   "outputs": [],
   "source": [
    "block = band.ReadRaster(0,0,10,10)"
   ]
  },
  {
   "cell_type": "code",
   "execution_count": 351,
   "metadata": {
    "collapsed": false
   },
   "outputs": [
    {
     "data": {
      "text/plain": [
       "b'\\x00\\x00\\x00\\x00\\x00\\x00\\x00\\x00\\x00\\x00\\x00\\x00\\x00\\x00\\x00\\x00\\x00\\x00\\x00\\x00\\x00\\x00\\x00\\x00\\x00\\x00\\x00\\x00\\x00\\x00\\x00\\x00\\x00\\x00\\x00\\x00\\x00\\x00\\x00\\x00\\x00\\x00\\x00\\x00\\x00\\x00\\x00\\x00\\x00\\x00\\x00\\x00\\x00\\x00\\x00\\x00\\x00\\x00\\x00\\x00\\x00\\x00\\x00\\x00\\x00\\x00\\x00\\x00\\x00\\x00\\x00\\x00\\x00\\x00\\x00\\x00\\x00\\x00\\x00\\x00\\x00\\x00\\x00\\x00\\x00\\x00\\x00\\x00\\x00\\x00\\x00\\x00\\x00\\x00\\x00\\x00\\x00\\x00\\x00\\x00\\x00\\x00\\x00\\x00\\x00\\x00\\x00\\x00\\x00\\x00\\x00\\x00\\x00\\x00\\x00\\x00\\x00\\x00\\x00\\x00\\x00\\x00\\x00\\x00\\x00\\x00\\x00\\x00\\x00\\x00\\x00\\x00\\x00\\x00\\x00\\x00\\x00\\x00\\x00\\x00\\x00\\x00\\x00\\x00\\x00\\x00\\x00\\x00\\x00\\x00\\x00\\x00\\x00\\x00\\x00\\x00\\x00\\x00\\x00\\x00\\x00\\x00\\x00\\x00\\x00\\x00\\x00\\x00\\x00\\x00\\x00\\x00\\x00\\x00\\x00\\x00\\x00\\x00\\x00\\x00\\x00\\x00\\x00\\x00\\x00\\x00\\x00\\x00\\x00\\x00\\x00\\x00\\x00\\x00\\x00\\x00\\x00\\x00\\x00\\x00'"
      ]
     },
     "execution_count": 351,
     "metadata": {},
     "output_type": "execute_result"
    }
   ],
   "source": [
    "block"
   ]
  },
  {
   "cell_type": "code",
   "execution_count": 297,
   "metadata": {
    "collapsed": false
   },
   "outputs": [
    {
     "data": {
      "text/plain": [
       "[0.0, 15046.0, 665.7157771005471, 831.5757358988171]"
      ]
     },
     "execution_count": 297,
     "metadata": {},
     "output_type": "execute_result"
    }
   ],
   "source": [
    "band.GetStatistics(True, True)"
   ]
  },
  {
   "cell_type": "code",
   "execution_count": 299,
   "metadata": {
    "collapsed": false
   },
   "outputs": [
    {
     "data": {
      "text/plain": [
       "''"
      ]
     },
     "execution_count": 299,
     "metadata": {},
     "output_type": "execute_result"
    }
   ],
   "source": [
    "band.GetUnitType()"
   ]
  },
  {
   "cell_type": "code",
   "execution_count": 300,
   "metadata": {
    "collapsed": false
   },
   "outputs": [
    {
     "data": {
      "text/plain": [
       "1.0"
      ]
     },
     "execution_count": 300,
     "metadata": {},
     "output_type": "execute_result"
    }
   ],
   "source": [
    "band.GetScale()"
   ]
  },
  {
   "cell_type": "code",
   "execution_count": 324,
   "metadata": {
    "collapsed": true
   },
   "outputs": [],
   "source": [
    "layer = gtif.GetLayer()"
   ]
  },
  {
   "cell_type": "code",
   "execution_count": 328,
   "metadata": {
    "collapsed": false
   },
   "outputs": [
    {
     "data": {
      "text/plain": [
       "(6091, 13861)"
      ]
     },
     "execution_count": 328,
     "metadata": {},
     "output_type": "execute_result"
    }
   ],
   "source": [
    "band.XSize, band.YSize"
   ]
  },
  {
   "cell_type": "code",
   "execution_count": 331,
   "metadata": {
    "collapsed": false
   },
   "outputs": [
    {
     "ename": "RuntimeError",
     "evalue": "/home/sravya/data/satellite/haiti/raster/EO1/EO1A0090472010015110P0_B01_L1T.TIF: GDALDataset::GetRasterBand(0) - Illegal band #\n",
     "output_type": "error",
     "traceback": [
      "\u001b[0;31m---------------------------------------------------------------------------\u001b[0m",
      "\u001b[0;31mRuntimeError\u001b[0m                              Traceback (most recent call last)",
      "\u001b[0;32m<ipython-input-331-13261a9adc6b>\u001b[0m in \u001b[0;36m<module>\u001b[0;34m()\u001b[0m\n\u001b[0;32m----> 1\u001b[0;31m \u001b[0mband2\u001b[0m \u001b[0;34m=\u001b[0m \u001b[0mgtif\u001b[0m\u001b[0;34m.\u001b[0m\u001b[0mGetRasterBand\u001b[0m\u001b[0;34m(\u001b[0m\u001b[0;36m0\u001b[0m\u001b[0;34m)\u001b[0m\u001b[0;34m\u001b[0m\u001b[0m\n\u001b[0m\u001b[1;32m      2\u001b[0m \u001b[0mband2\u001b[0m\u001b[0;34m.\u001b[0m\u001b[0mXSize\u001b[0m\u001b[0;34m,\u001b[0m \u001b[0mband2\u001b[0m\u001b[0;34m.\u001b[0m\u001b[0mYSize\u001b[0m\u001b[0;34m\u001b[0m\u001b[0m\n",
      "\u001b[0;32m/home/sravya/anaconda3/lib/python3.6/site-packages/osgeo/gdal.py\u001b[0m in \u001b[0;36mGetRasterBand\u001b[0;34m(self, *args)\u001b[0m\n\u001b[1;32m   1791\u001b[0m     \u001b[0;34m\"\"\"Proxy of C++ GDALDatasetShadow class.\"\"\"\u001b[0m\u001b[0;34m\u001b[0m\u001b[0m\n\u001b[1;32m   1792\u001b[0m \u001b[0;34m\u001b[0m\u001b[0m\n\u001b[0;32m-> 1793\u001b[0;31m     \u001b[0m__swig_setmethods__\u001b[0m \u001b[0;34m=\u001b[0m \u001b[0;34m{\u001b[0m\u001b[0;34m}\u001b[0m\u001b[0;34m\u001b[0m\u001b[0m\n\u001b[0m\u001b[1;32m   1794\u001b[0m     \u001b[0;32mfor\u001b[0m \u001b[0m_s\u001b[0m \u001b[0;32min\u001b[0m \u001b[0;34m[\u001b[0m\u001b[0mMajorObject\u001b[0m\u001b[0;34m]\u001b[0m\u001b[0;34m:\u001b[0m\u001b[0;34m\u001b[0m\u001b[0m\n\u001b[1;32m   1795\u001b[0m         \u001b[0m__swig_setmethods__\u001b[0m\u001b[0;34m.\u001b[0m\u001b[0mupdate\u001b[0m\u001b[0;34m(\u001b[0m\u001b[0mgetattr\u001b[0m\u001b[0;34m(\u001b[0m\u001b[0m_s\u001b[0m\u001b[0;34m,\u001b[0m \u001b[0;34m'__swig_setmethods__'\u001b[0m\u001b[0;34m,\u001b[0m \u001b[0;34m{\u001b[0m\u001b[0;34m}\u001b[0m\u001b[0;34m)\u001b[0m\u001b[0;34m)\u001b[0m\u001b[0;34m\u001b[0m\u001b[0m\n",
      "\u001b[0;31mRuntimeError\u001b[0m: /home/sravya/data/satellite/haiti/raster/EO1/EO1A0090472010015110P0_B01_L1T.TIF: GDALDataset::GetRasterBand(0) - Illegal band #\n"
     ]
    }
   ],
   "source": [
    "band2 = gtif.GetRasterBand(0)\n",
    "band2.XSize, band2.YSize"
   ]
  },
  {
   "cell_type": "markdown",
   "metadata": {},
   "source": [
    "## Shape to Tiff"
   ]
  },
  {
   "cell_type": "code",
   "execution_count": 136,
   "metadata": {
    "collapsed": false
   },
   "outputs": [],
   "source": [
    "import gdal\n",
    "pixelWidth = pixelHeight = 1 # depending how fine you want your raster\n",
    "x_min, x_max, y_min, y_max = layer.GetExtent()\n",
    "cols = int((x_max - x_min) / pixelHeight)\n",
    "rows = int((y_max - y_min) / pixelWidth)\n",
    "target_ds = gdal.GetDriverByName('GTiff').Create('temp.tif', cols, rows, 1, gdal.GDT_Byte) \n",
    "target_ds.SetGeoTransform((x_min, pixelWidth, 0, y_min, 0, pixelHeight))\n",
    "band = target_ds.GetRasterBand(1)\n",
    "NoData_value = 255\n",
    "band.SetNoDataValue(NoData_value)\n",
    "band.FlushCache()"
   ]
  },
  {
   "cell_type": "code",
   "execution_count": 145,
   "metadata": {
    "collapsed": false
   },
   "outputs": [
    {
     "data": {
      "text/plain": [
       "0"
      ]
     },
     "execution_count": 145,
     "metadata": {},
     "output_type": "execute_result"
    }
   ],
   "source": [
    "gdal.RasterizeLayer(target_ds, [1], layer, options = [\"ATTRIBUTE=Damage_ID\"])  "
   ]
  },
  {
   "cell_type": "code",
   "execution_count": 146,
   "metadata": {
    "collapsed": false
   },
   "outputs": [
    {
     "data": {
      "text/plain": [
       "0"
      ]
     },
     "execution_count": 146,
     "metadata": {},
     "output_type": "execute_result"
    }
   ],
   "source": [
    "import osr\n",
    "target_dsSRS = osr.SpatialReference()\n",
    "target_dsSRS.ImportFromEPSG(4326)\n",
    "target_ds.SetProjection(target_dsSRS.ExportToWkt())"
   ]
  },
  {
   "cell_type": "code",
   "execution_count": 147,
   "metadata": {
    "collapsed": false
   },
   "outputs": [],
   "source": [
    "tif = gdal.Open('temp.tif')"
   ]
  },
  {
   "cell_type": "code",
   "execution_count": 149,
   "metadata": {
    "collapsed": false
   },
   "outputs": [
    {
     "data": {
      "text/plain": [
       "array([[255, 255, 255, ..., 255, 255, 255],\n",
       "       [255, 255, 255, ..., 255, 255, 255],\n",
       "       [255, 255, 255, ..., 255, 255, 255],\n",
       "       ..., \n",
       "       [255, 255, 255, ..., 255, 255, 255],\n",
       "       [255, 255, 255, ..., 255, 255, 255],\n",
       "       [255, 255, 255, ..., 255, 255, 255]], dtype=uint8)"
      ]
     },
     "execution_count": 149,
     "metadata": {},
     "output_type": "execute_result"
    }
   ],
   "source": [
    "tif.ReadAsArray()"
   ]
  },
  {
   "cell_type": "code",
   "execution_count": null,
   "metadata": {
    "collapsed": true
   },
   "outputs": [],
   "source": [
    "for feature in layer:\n",
    "     feature.GetField(\"STATE_NAME\")"
   ]
  },
  {
   "cell_type": "code",
   "execution_count": 153,
   "metadata": {
    "collapsed": false
   },
   "outputs": [
    {
     "ename": "TypeError",
     "evalue": "Image data can not convert to float",
     "output_type": "error",
     "traceback": [
      "\u001b[0;31m---------------------------------------------------------------------------\u001b[0m",
      "\u001b[0;31mTypeError\u001b[0m                                 Traceback (most recent call last)",
      "\u001b[0;32m<ipython-input-153-c49f9a8cacdb>\u001b[0m in \u001b[0;36m<module>\u001b[0;34m()\u001b[0m\n\u001b[1;32m      1\u001b[0m \u001b[0;32mimport\u001b[0m \u001b[0mmatplotlib\u001b[0m\u001b[0;34m.\u001b[0m\u001b[0mpyplot\u001b[0m \u001b[0;32mas\u001b[0m \u001b[0mplt\u001b[0m\u001b[0;34m\u001b[0m\u001b[0m\n\u001b[0;32m----> 2\u001b[0;31m \u001b[0mplt\u001b[0m\u001b[0;34m.\u001b[0m\u001b[0mimshow\u001b[0m\u001b[0;34m(\u001b[0m\u001b[0mtif\u001b[0m\u001b[0;34m)\u001b[0m\u001b[0;34m\u001b[0m\u001b[0m\n\u001b[0m",
      "\u001b[0;32m/home/sravya/anaconda3/lib/python3.6/site-packages/matplotlib/pyplot.py\u001b[0m in \u001b[0;36mimshow\u001b[0;34m(X, cmap, norm, aspect, interpolation, alpha, vmin, vmax, origin, extent, shape, filternorm, filterrad, imlim, resample, url, hold, data, **kwargs)\u001b[0m\n\u001b[1;32m   3156\u001b[0m                         \u001b[0mfilternorm\u001b[0m\u001b[0;34m=\u001b[0m\u001b[0mfilternorm\u001b[0m\u001b[0;34m,\u001b[0m \u001b[0mfilterrad\u001b[0m\u001b[0;34m=\u001b[0m\u001b[0mfilterrad\u001b[0m\u001b[0;34m,\u001b[0m\u001b[0;34m\u001b[0m\u001b[0m\n\u001b[1;32m   3157\u001b[0m                         \u001b[0mimlim\u001b[0m\u001b[0;34m=\u001b[0m\u001b[0mimlim\u001b[0m\u001b[0;34m,\u001b[0m \u001b[0mresample\u001b[0m\u001b[0;34m=\u001b[0m\u001b[0mresample\u001b[0m\u001b[0;34m,\u001b[0m \u001b[0murl\u001b[0m\u001b[0;34m=\u001b[0m\u001b[0murl\u001b[0m\u001b[0;34m,\u001b[0m \u001b[0mdata\u001b[0m\u001b[0;34m=\u001b[0m\u001b[0mdata\u001b[0m\u001b[0;34m,\u001b[0m\u001b[0;34m\u001b[0m\u001b[0m\n\u001b[0;32m-> 3158\u001b[0;31m                         **kwargs)\n\u001b[0m\u001b[1;32m   3159\u001b[0m     \u001b[0;32mfinally\u001b[0m\u001b[0;34m:\u001b[0m\u001b[0;34m\u001b[0m\u001b[0m\n\u001b[1;32m   3160\u001b[0m         \u001b[0max\u001b[0m\u001b[0;34m.\u001b[0m\u001b[0m_hold\u001b[0m \u001b[0;34m=\u001b[0m \u001b[0mwashold\u001b[0m\u001b[0;34m\u001b[0m\u001b[0m\n",
      "\u001b[0;32m/home/sravya/anaconda3/lib/python3.6/site-packages/matplotlib/__init__.py\u001b[0m in \u001b[0;36minner\u001b[0;34m(ax, *args, **kwargs)\u001b[0m\n\u001b[1;32m   1890\u001b[0m                     warnings.warn(msg % (label_namer, func.__name__),\n\u001b[1;32m   1891\u001b[0m                                   RuntimeWarning, stacklevel=2)\n\u001b[0;32m-> 1892\u001b[0;31m             \u001b[0;32mreturn\u001b[0m \u001b[0mfunc\u001b[0m\u001b[0;34m(\u001b[0m\u001b[0max\u001b[0m\u001b[0;34m,\u001b[0m \u001b[0;34m*\u001b[0m\u001b[0margs\u001b[0m\u001b[0;34m,\u001b[0m \u001b[0;34m**\u001b[0m\u001b[0mkwargs\u001b[0m\u001b[0;34m)\u001b[0m\u001b[0;34m\u001b[0m\u001b[0m\n\u001b[0m\u001b[1;32m   1893\u001b[0m         \u001b[0mpre_doc\u001b[0m \u001b[0;34m=\u001b[0m \u001b[0minner\u001b[0m\u001b[0;34m.\u001b[0m\u001b[0m__doc__\u001b[0m\u001b[0;34m\u001b[0m\u001b[0m\n\u001b[1;32m   1894\u001b[0m         \u001b[0;32mif\u001b[0m \u001b[0mpre_doc\u001b[0m \u001b[0;32mis\u001b[0m \u001b[0;32mNone\u001b[0m\u001b[0;34m:\u001b[0m\u001b[0;34m\u001b[0m\u001b[0m\n",
      "\u001b[0;32m/home/sravya/anaconda3/lib/python3.6/site-packages/matplotlib/axes/_axes.py\u001b[0m in \u001b[0;36mimshow\u001b[0;34m(self, X, cmap, norm, aspect, interpolation, alpha, vmin, vmax, origin, extent, shape, filternorm, filterrad, imlim, resample, url, **kwargs)\u001b[0m\n\u001b[1;32m   5116\u001b[0m                               resample=resample, **kwargs)\n\u001b[1;32m   5117\u001b[0m \u001b[0;34m\u001b[0m\u001b[0m\n\u001b[0;32m-> 5118\u001b[0;31m         \u001b[0mim\u001b[0m\u001b[0;34m.\u001b[0m\u001b[0mset_data\u001b[0m\u001b[0;34m(\u001b[0m\u001b[0mX\u001b[0m\u001b[0;34m)\u001b[0m\u001b[0;34m\u001b[0m\u001b[0m\n\u001b[0m\u001b[1;32m   5119\u001b[0m         \u001b[0mim\u001b[0m\u001b[0;34m.\u001b[0m\u001b[0mset_alpha\u001b[0m\u001b[0;34m(\u001b[0m\u001b[0malpha\u001b[0m\u001b[0;34m)\u001b[0m\u001b[0;34m\u001b[0m\u001b[0m\n\u001b[1;32m   5120\u001b[0m         \u001b[0;32mif\u001b[0m \u001b[0mim\u001b[0m\u001b[0;34m.\u001b[0m\u001b[0mget_clip_path\u001b[0m\u001b[0;34m(\u001b[0m\u001b[0;34m)\u001b[0m \u001b[0;32mis\u001b[0m \u001b[0;32mNone\u001b[0m\u001b[0;34m:\u001b[0m\u001b[0;34m\u001b[0m\u001b[0m\n",
      "\u001b[0;32m/home/sravya/anaconda3/lib/python3.6/site-packages/matplotlib/image.py\u001b[0m in \u001b[0;36mset_data\u001b[0;34m(self, A)\u001b[0m\n\u001b[1;32m    543\u001b[0m         if (self._A.dtype != np.uint8 and\n\u001b[1;32m    544\u001b[0m                 not np.can_cast(self._A.dtype, np.float)):\n\u001b[0;32m--> 545\u001b[0;31m             \u001b[0;32mraise\u001b[0m \u001b[0mTypeError\u001b[0m\u001b[0;34m(\u001b[0m\u001b[0;34m\"Image data can not convert to float\"\u001b[0m\u001b[0;34m)\u001b[0m\u001b[0;34m\u001b[0m\u001b[0m\n\u001b[0m\u001b[1;32m    546\u001b[0m \u001b[0;34m\u001b[0m\u001b[0m\n\u001b[1;32m    547\u001b[0m         if (self._A.ndim not in (2, 3) or\n",
      "\u001b[0;31mTypeError\u001b[0m: Image data can not convert to float"
     ]
    }
   ],
   "source": [
    "import matplotlib.pyplot as plt\n",
    "plt.imshow(tif)"
   ]
  },
  {
   "cell_type": "code",
   "execution_count": 155,
   "metadata": {
    "collapsed": false
   },
   "outputs": [],
   "source": [
    "import tifffile as tiff"
   ]
  },
  {
   "cell_type": "code",
   "execution_count": 158,
   "metadata": {
    "collapsed": false
   },
   "outputs": [
    {
     "name": "stderr",
     "output_type": "stream",
     "text": [
      "/home/sravya/anaconda3/lib/python3.6/site-packages/tifffile/tifffile.py:2725: UserWarning: empty byte count\n",
      "  warnings.warn(\"empty byte count\")\n",
      "/home/sravya/anaconda3/lib/python3.6/site-packages/matplotlib/axes/_base.py:2903: UserWarning: Attempting to set identical left==right results\n",
      "in singular transformations; automatically expanding.\n",
      "left=0, right=0\n",
      "  'left=%s, right=%s') % (left, right))\n"
     ]
    },
    {
     "data": {
      "text/plain": [
       "(<matplotlib.figure.Figure at 0x7f7fe4b96b70>,\n",
       " <matplotlib.axes._subplots.AxesSubplot at 0x7f7fe4b96cc0>,\n",
       " <matplotlib.image.AxesImage at 0x7f7fe4b81da0>)"
      ]
     },
     "execution_count": 158,
     "metadata": {},
     "output_type": "execute_result"
    }
   ],
   "source": [
    "tif_img = tiff.imread('temp.tif')#.transpose([1, 2, 0])\n"
   ]
  },
  {
   "cell_type": "code",
   "execution_count": 159,
   "metadata": {
    "collapsed": false
   },
   "outputs": [
    {
     "data": {
      "text/plain": [
       "(104021, 90345)"
      ]
     },
     "execution_count": 159,
     "metadata": {},
     "output_type": "execute_result"
    }
   ],
   "source": [
    "tif_img.shape"
   ]
  },
  {
   "cell_type": "code",
   "execution_count": 160,
   "metadata": {
    "collapsed": false
   },
   "outputs": [
    {
     "name": "stderr",
     "output_type": "stream",
     "text": [
      "/home/sravya/anaconda3/lib/python3.6/site-packages/matplotlib/axes/_base.py:2903: UserWarning: Attempting to set identical left==right results\n",
      "in singular transformations; automatically expanding.\n",
      "left=0, right=0\n",
      "  'left=%s, right=%s') % (left, right))\n"
     ]
    },
    {
     "data": {
      "text/plain": [
       "(<matplotlib.figure.Figure at 0x7f7fe4a6e550>,\n",
       " <matplotlib.axes._subplots.AxesSubplot at 0x7f7fe4a73cc0>,\n",
       " <matplotlib.image.AxesImage at 0x7f7fe4a1f390>)"
      ]
     },
     "execution_count": 160,
     "metadata": {},
     "output_type": "execute_result"
    }
   ],
   "source": [
    "tiff.imshow(tif_img[100:200,100:200])"
   ]
  },
  {
   "cell_type": "code",
   "execution_count": 322,
   "metadata": {
    "collapsed": false
   },
   "outputs": [],
   "source": [
    "from osgeo import gdal, gdalnumeric, ogr, osr\n",
    "#from PIL import Image\n",
    "#import ImageDraw\n",
    "import os, sys\n",
    "gdal.UseExceptions()\n",
    "\n",
    "# This function will convert the rasterized clipper shapefile\n",
    "# to a mask for use within GDAL.\n",
    "def imageToArray(i):\n",
    "    \"\"\"\n",
    "    Converts a Python Imaging Library array to a\n",
    "    gdalnumeric image.\n",
    "    \"\"\"\n",
    "    a=gdalnumeric.fromstring(i.tostring(),'b')\n",
    "    a.shape=i.im.size[1], i.im.size[0]\n",
    "    return a\n",
    "\n",
    "def arrayToImage(a):\n",
    "    \"\"\"\n",
    "    Converts a gdalnumeric array to a\n",
    "    Python Imaging Library Image.\n",
    "    \"\"\"\n",
    "    i=Image.fromstring('L',(a.shape[1],a.shape[0]),\n",
    "            (a.astype('b')).tostring())\n",
    "    return i\n",
    "\n",
    "def world2Pixel(geoMatrix, x, y):\n",
    "  \"\"\"\n",
    "  Uses a gdal geomatrix (gdal.GetGeoTransform()) to calculate\n",
    "  the pixel location of a geospatial coordinate\n",
    "  \"\"\"\n",
    "  ulX = geoMatrix[0]\n",
    "  ulY = geoMatrix[3]\n",
    "  xDist = geoMatrix[1]\n",
    "  yDist = geoMatrix[5]\n",
    "  rtnX = geoMatrix[2]\n",
    "  rtnY = geoMatrix[4]\n",
    "  pixel = int((x - ulX) / xDist)\n",
    "  line = int((ulY - y) / xDist)\n",
    "  return (pixel, line)\n",
    "\n",
    "#\n",
    "#  EDIT: this is basically an overloaded\n",
    "#  version of the gdal_array.OpenArray passing in xoff, yoff explicitly\n",
    "#  so we can pass these params off to CopyDatasetInfo\n",
    "#\n",
    "def OpenArray( array, prototype_ds = None, xoff=0, yoff=0 ):\n",
    "    ds = gdal.Open( gdalnumeric.GetArrayFilename(array) )\n",
    "\n",
    "    if ds is not None and prototype_ds is not None:\n",
    "        if type(prototype_ds).__name__ == 'str':\n",
    "            prototype_ds = gdal.Open( prototype_ds )\n",
    "        if prototype_ds is not None:\n",
    "            gdalnumeric.CopyDatasetInfo( prototype_ds, ds, xoff=xoff, yoff=yoff )\n",
    "    return ds\n",
    "\n",
    "def histogram(a, bins=range(0,256)):\n",
    "  \"\"\"\n",
    "  Histogram function for multi-dimensional array.\n",
    "  a = array\n",
    "  bins = range of numbers to match\n",
    "  \"\"\"\n",
    "  fa = a.flat\n",
    "  n = gdalnumeric.searchsorted(gdalnumeric.sort(fa), bins)\n",
    "  n = gdalnumeric.concatenate([n, [len(fa)]])\n",
    "  hist = n[1:]-n[:-1]\n",
    "  return hist\n",
    "\n",
    "def stretch(a):\n",
    "  \"\"\"\n",
    "  Performs a histogram stretch on a gdalnumeric array image.\n",
    "  \"\"\"\n",
    "  hist = histogram(a)\n",
    "  im = arrayToImage(a)\n",
    "  lut = []\n",
    "  for b in range(0, len(hist), 256):\n",
    "    # step size\n",
    "    step = reduce(operator.add, hist[b:b+256]) / 255\n",
    "    # create equalization lookup table\n",
    "    n = 0\n",
    "    for i in range(256):\n",
    "      lut.append(n / step)\n",
    "      n = n + hist[i+b]\n",
    "  im = im.point(lut)\n",
    "  return imageToArray(im)\n",
    "\n",
    "def main( shapefile_path, raster_path ):\n",
    "    # Load the source data as a gdalnumeric array\n",
    "    srcArray = gdalnumeric.LoadFile(raster_path)\n",
    "\n",
    "    # Also load as a gdal image to get geotransform\n",
    "    # (world file) info\n",
    "    srcImage = gdal.Open(raster_path)\n",
    "    geoTrans = srcImage.GetGeoTransform()\n",
    "\n",
    "    # Create an OGR layer from a boundary shapefile\n",
    "    shapef = ogr.Open(shapefile_path)\n",
    "    lyr = shapef.GetLayer()#os.path.split( os.path.splitext( shapefile_path )[0] )[1] )\n",
    "    #lyr = shapef.GetLayer( os.path.split( os.path.splitext( shapefile_path )[0] )[1] )\n",
    "    poly = lyr.GetNextFeature()\n",
    "\n",
    "    # Convert the layer extent to image pixel coordinates\n",
    "    minX, maxX, minY, maxY = lyr.GetExtent()\n",
    "    ulX, ulY = world2Pixel(geoTrans, minX, maxY)\n",
    "    lrX, lrY = world2Pixel(geoTrans, maxX, minY)\n",
    "\n",
    "    # Calculate the pixel size of the new image\n",
    "    pxWidth = int(lrX - ulX)\n",
    "    pxHeight = int(lrY - ulY)\n",
    "\n",
    "    clip = srcArray[ulY:lrY, ulX:lrX]\n",
    "\n",
    "    #\n",
    "    # EDIT: create pixel offset to pass to new image Projection info\n",
    "    #\n",
    "    xoffset =  ulX\n",
    "    yoffset =  ulY\n",
    "    print(\"Xoffset, Yoffset = ( %f, %f )\" % ( xoffset, yoffset ))\n",
    "\n",
    "    # Create a new geomatrix for the image\n",
    "    geoTrans = list(geoTrans)\n",
    "    geoTrans[0] = minX\n",
    "    geoTrans[3] = maxY\n",
    "\n",
    "    # Map points to pixels for drawing the\n",
    "    # boundary on a blank 8-bit,\n",
    "    # black and white, mask image.\n",
    "    points = []\n",
    "    pixels = []\n",
    "    geom = poly.GetGeometryRef()\n",
    "    pts = geom.GetGeometryRef(0)\n",
    "    for p in range(pts.GetPointCount()):\n",
    "      points.append((pts.GetX(p), pts.GetY(p)))\n",
    "    for p in points:\n",
    "      pixels.append(world2Pixel(geoTrans, p[0], p[1]))\n",
    "    rasterPoly = Image.new(\"L\", (pxWidth, pxHeight), 1)\n",
    "    rasterize = ImageDraw.Draw(rasterPoly)\n",
    "    rasterize.polygon(pixels, 0)\n",
    "    mask = imageToArray(rasterPoly)\n",
    "\n",
    "    # Clip the image using the mask\n",
    "    clip = gdalnumeric.choose(mask, \\\n",
    "        (clip, 0)).astype(gdalnumeric.uint8)\n",
    "\n",
    "    # This image has 3 bands so we stretch each one to make them\n",
    "    # visually brighter\n",
    "    for i in range(3):\n",
    "      clip[i,:,:] = stretch(clip[i,:,:])\n",
    "\n",
    "    # Save new tiff\n",
    "    #\n",
    "    #  EDIT: instead of SaveArray, let's break all the\n",
    "    #  SaveArray steps out more explicity so\n",
    "    #  we can overwrite the offset of the destination\n",
    "    #  raster\n",
    "    #\n",
    "    ### the old way using SaveArray\n",
    "    #\n",
    "    # gdalnumeric.SaveArray(clip, \"OUTPUT.tif\", format=\"GTiff\", prototype=raster_path)\n",
    "    #\n",
    "    ###\n",
    "    #\n",
    "    gtiffDriver = gdal.GetDriverByName( 'GTiff' )\n",
    "    if gtiffDriver is None:\n",
    "        raise ValueError(\"Can't find GeoTiff Driver\")\n",
    "    gtiffDriver.CreateCopy( \"OUTPUT.tif\",\n",
    "        OpenArray( clip, prototype_ds=raster_path, xoff=xoffset, yoff=yoffset )\n",
    "    )\n",
    "\n",
    "    # Save as an 8-bit jpeg for an easy, quick preview\n",
    "    clip = clip.astype(gdalnumeric.uint8)\n",
    "    gdalnumeric.SaveArray(clip, \"OUTPUT.jpg\", format=\"JPEG\")\n",
    "\n",
    "    gdal.ErrorReset()\n",
    "\n"
   ]
  },
  {
   "cell_type": "code",
   "execution_count": 323,
   "metadata": {
    "collapsed": false
   },
   "outputs": [
    {
     "name": "stdout",
     "output_type": "stream",
     "text": [
      "Xoffset, Yoffset = ( -2737.000000, -859.000000 )\n"
     ]
    },
    {
     "ename": "AttributeError",
     "evalue": "'NoneType' object has no attribute 'GetPointCount'",
     "output_type": "error",
     "traceback": [
      "\u001b[0;31m---------------------------------------------------------------------------\u001b[0m",
      "\u001b[0;31mAttributeError\u001b[0m                            Traceback (most recent call last)",
      "\u001b[0;32m<ipython-input-323-317d28bd4478>\u001b[0m in \u001b[0;36m<module>\u001b[0;34m()\u001b[0m\n\u001b[0;32m----> 1\u001b[0;31m \u001b[0mmain\u001b[0m\u001b[0;34m(\u001b[0m\u001b[0mshapefile\u001b[0m\u001b[0;34m,\u001b[0m \u001b[0mrasterfile\u001b[0m\u001b[0;34m)\u001b[0m\u001b[0;34m\u001b[0m\u001b[0m\n\u001b[0m",
      "\u001b[0;32m<ipython-input-322-56a75f568f2d>\u001b[0m in \u001b[0;36mmain\u001b[0;34m(shapefile_path, raster_path)\u001b[0m\n\u001b[1;32m    130\u001b[0m     \u001b[0mgeom\u001b[0m \u001b[0;34m=\u001b[0m \u001b[0mpoly\u001b[0m\u001b[0;34m.\u001b[0m\u001b[0mGetGeometryRef\u001b[0m\u001b[0;34m(\u001b[0m\u001b[0;34m)\u001b[0m\u001b[0;34m\u001b[0m\u001b[0m\n\u001b[1;32m    131\u001b[0m     \u001b[0mpts\u001b[0m \u001b[0;34m=\u001b[0m \u001b[0mgeom\u001b[0m\u001b[0;34m.\u001b[0m\u001b[0mGetGeometryRef\u001b[0m\u001b[0;34m(\u001b[0m\u001b[0;36m0\u001b[0m\u001b[0;34m)\u001b[0m\u001b[0;34m\u001b[0m\u001b[0m\n\u001b[0;32m--> 132\u001b[0;31m     \u001b[0;32mfor\u001b[0m \u001b[0mp\u001b[0m \u001b[0;32min\u001b[0m \u001b[0mrange\u001b[0m\u001b[0;34m(\u001b[0m\u001b[0mpts\u001b[0m\u001b[0;34m.\u001b[0m\u001b[0mGetPointCount\u001b[0m\u001b[0;34m(\u001b[0m\u001b[0;34m)\u001b[0m\u001b[0;34m)\u001b[0m\u001b[0;34m:\u001b[0m\u001b[0;34m\u001b[0m\u001b[0m\n\u001b[0m\u001b[1;32m    133\u001b[0m       \u001b[0mpoints\u001b[0m\u001b[0;34m.\u001b[0m\u001b[0mappend\u001b[0m\u001b[0;34m(\u001b[0m\u001b[0;34m(\u001b[0m\u001b[0mpts\u001b[0m\u001b[0;34m.\u001b[0m\u001b[0mGetX\u001b[0m\u001b[0;34m(\u001b[0m\u001b[0mp\u001b[0m\u001b[0;34m)\u001b[0m\u001b[0;34m,\u001b[0m \u001b[0mpts\u001b[0m\u001b[0;34m.\u001b[0m\u001b[0mGetY\u001b[0m\u001b[0;34m(\u001b[0m\u001b[0mp\u001b[0m\u001b[0;34m)\u001b[0m\u001b[0;34m)\u001b[0m\u001b[0;34m)\u001b[0m\u001b[0;34m\u001b[0m\u001b[0m\n\u001b[1;32m    134\u001b[0m     \u001b[0;32mfor\u001b[0m \u001b[0mp\u001b[0m \u001b[0;32min\u001b[0m \u001b[0mpoints\u001b[0m\u001b[0;34m:\u001b[0m\u001b[0;34m\u001b[0m\u001b[0m\n",
      "\u001b[0;31mAttributeError\u001b[0m: 'NoneType' object has no attribute 'GetPointCount'"
     ]
    }
   ],
   "source": [
    "main(shapefile, rasterfile)"
   ]
  },
  {
   "cell_type": "code",
   "execution_count": 97,
   "metadata": {
    "collapsed": false
   },
   "outputs": [
    {
     "ename": "SyntaxError",
     "evalue": "invalid syntax (<ipython-input-97-b846d3e87e3c>, line 2)",
     "output_type": "error",
     "traceback": [
      "\u001b[0;36m  File \u001b[0;32m\"<ipython-input-97-b846d3e87e3c>\"\u001b[0;36m, line \u001b[0;32m2\u001b[0m\n\u001b[0;31m    <osgeo.ogr.DataSource; proxy of <Swig Object of type 'OGRDataSourceShadow *' at 0x02BB7038> >\u001b[0m\n\u001b[0m    ^\u001b[0m\n\u001b[0;31mSyntaxError\u001b[0m\u001b[0;31m:\u001b[0m invalid syntax\n"
     ]
    }
   ],
   "source": [
    ">>> ds\n",
    "<osgeo.ogr.DataSource; proxy of <Swig Object of type 'OGRDataSourceShadow *' at 0x02BB7038> >\n",
    ">>> ds.GetLayer(\"buildings\")\n",
    "<osgeo.ogr.Layer; proxy of <Swig Object of type 'OGRLayerShadow *' at 0x02BB7050> >\n",
    ">>> b = ds.GetLayer(\"buildings\")\n",
    ">>> sr = b.GetSpatialRef()\n",
    ">>> sr\n",
    "<osgeo.osr.SpatialReference; proxy of <Swig Object of type 'OSRSpatialReferenceShadow *' at 0x02BB7080> >\n",
    ">>> sr.ExportToProj4()a"
   ]
  }
 ],
 "metadata": {
  "kernelspec": {
   "display_name": "Python 3",
   "language": "python",
   "name": "python3"
  },
  "language_info": {
   "codemirror_mode": {
    "name": "ipython",
    "version": 3
   },
   "file_extension": ".py",
   "mimetype": "text/x-python",
   "name": "python",
   "nbconvert_exporter": "python",
   "pygments_lexer": "ipython3",
   "version": "3.6.0"
  }
 },
 "nbformat": 4,
 "nbformat_minor": 2
}
